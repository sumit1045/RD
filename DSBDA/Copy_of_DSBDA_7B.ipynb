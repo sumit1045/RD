{
  "nbformat": 4,
  "nbformat_minor": 0,
  "metadata": {
    "colab": {
      "provenance": []
    },
    "kernelspec": {
      "name": "python3",
      "display_name": "Python 3"
    },
    "language_info": {
      "name": "python"
    }
  },
  "cells": [
    {
      "cell_type": "markdown",
      "source": [
        "Create representation of document by calculating Term Frequency and Inverse Document\n",
        "Frequency"
      ],
      "metadata": {
        "id": "J-bCmfMAQoPX"
      }
    },
    {
      "cell_type": "markdown",
      "source": [
        "**calculating TFIDF**"
      ],
      "metadata": {
        "id": "_d2NNkU6QtSN"
      }
    },
    {
      "cell_type": "markdown",
      "source": [
        "**Import the necessary libraries**\n"
      ],
      "metadata": {
        "id": "wOvfXRfiQwEV"
      }
    },
    {
      "cell_type": "code",
      "execution_count": null,
      "metadata": {
        "id": "YDaPOMeOQhmV"
      },
      "outputs": [],
      "source": [
        "import pandas as pd\n",
        "from sklearn.feature_extraction.text import TfidfVectorizer"
      ]
    },
    {
      "cell_type": "markdown",
      "source": [
        "**3. EDA(Exploratory Data Analysis)**"
      ],
      "metadata": {
        "id": "oc8AWvvBZ2M2"
      }
    },
    {
      "cell_type": "markdown",
      "source": [
        "Data Preprocessing"
      ],
      "metadata": {
        "id": "-rPOu86BZ9RL"
      }
    },
    {
      "cell_type": "markdown",
      "source": [
        "**Initialize the Documents**"
      ],
      "metadata": {
        "id": "SDVyGhORRL9R"
      }
    },
    {
      "cell_type": "code",
      "source": [
        "documentA = 'Jupiter is the largest Planet'\n",
        "documentB = 'Mars is the fourth planet from the Sun'"
      ],
      "metadata": {
        "id": "_l8E3mEfRMix"
      },
      "execution_count": null,
      "outputs": []
    },
    {
      "cell_type": "code",
      "source": [
        "print(documentA)"
      ],
      "metadata": {
        "colab": {
          "base_uri": "https://localhost:8080/"
        },
        "id": "DdKUqT1FRTye",
        "outputId": "9118857f-6d0a-48ba-c728-30cb8b590955"
      },
      "execution_count": null,
      "outputs": [
        {
          "output_type": "stream",
          "name": "stdout",
          "text": [
            "Jupiter is the largest Planet\n"
          ]
        }
      ]
    },
    {
      "cell_type": "code",
      "source": [
        "print(documentB)"
      ],
      "metadata": {
        "colab": {
          "base_uri": "https://localhost:8080/"
        },
        "id": "FY4SYbTvRax1",
        "outputId": "5fe01e55-2df7-4973-c4ce-7e1c9c201467"
      },
      "execution_count": null,
      "outputs": [
        {
          "output_type": "stream",
          "name": "stdout",
          "text": [
            "Mars is the fourth planet from the Sun\n"
          ]
        }
      ]
    },
    {
      "cell_type": "markdown",
      "source": [
        "**Create BagofWords (BoW) for Document A and B**"
      ],
      "metadata": {
        "id": "9JT2GQ8lRoaF"
      }
    },
    {
      "cell_type": "code",
      "source": [
        "\n",
        "bagOfWordsA = documentA.split(' ')\n",
        "bagOfWordsB = documentB.split(' ')"
      ],
      "metadata": {
        "id": "SmxNuj-XRpbY"
      },
      "execution_count": null,
      "outputs": []
    },
    {
      "cell_type": "markdown",
      "source": [
        "**Create Collection of Unique words from Document A and B**"
      ],
      "metadata": {
        "id": "BBjinYYtRxVa"
      }
    },
    {
      "cell_type": "code",
      "source": [
        "uniqueWords = set(bagOfWordsA).union(set(bagOfWordsB))"
      ],
      "metadata": {
        "id": "_ZxzmCTZRyNv"
      },
      "execution_count": null,
      "outputs": []
    },
    {
      "cell_type": "code",
      "source": [
        "print(uniqueWords)"
      ],
      "metadata": {
        "colab": {
          "base_uri": "https://localhost:8080/"
        },
        "id": "FymT53YaR36z",
        "outputId": "cbeb5cfe-dd00-4857-d360-2aa760e9c0bd"
      },
      "execution_count": null,
      "outputs": [
        {
          "output_type": "stream",
          "name": "stdout",
          "text": [
            "{'largest', 'the', 'Planet', 'is', 'fourth', 'from', 'Jupiter', 'planet', 'Mars', 'Sun'}\n"
          ]
        }
      ]
    },
    {
      "cell_type": "markdown",
      "source": [
        "\n",
        "**Create a dictionary of words and their occurrence for each document in the\n",
        "corpus**"
      ],
      "metadata": {
        "id": "9O6s3SSsSCZq"
      }
    },
    {
      "cell_type": "code",
      "source": [
        "numOfWordsA = dict.fromkeys(uniqueWords, 0)\n",
        "for word in bagOfWordsA:\n",
        "    numOfWordsA[word] += 1"
      ],
      "metadata": {
        "id": "FuXRQvc9SC7z"
      },
      "execution_count": null,
      "outputs": []
    },
    {
      "cell_type": "code",
      "source": [
        "print(numOfWordsA)"
      ],
      "metadata": {
        "colab": {
          "base_uri": "https://localhost:8080/"
        },
        "id": "FRwKuH2ESKRX",
        "outputId": "2b9d7188-ebff-4465-8971-d4a1d3d99779"
      },
      "execution_count": null,
      "outputs": [
        {
          "output_type": "stream",
          "name": "stdout",
          "text": [
            "{'largest': 1, 'the': 1, 'Planet': 1, 'is': 1, 'fourth': 0, 'from': 0, 'Jupiter': 1, 'planet': 0, 'Mars': 0, 'Sun': 0}\n"
          ]
        }
      ]
    },
    {
      "cell_type": "code",
      "source": [
        "numOfWordsB = dict.fromkeys(uniqueWords, 0)\n",
        "for word in bagOfWordsB:\n",
        "    numOfWordsB[word] += 1 "
      ],
      "metadata": {
        "id": "FwY9Tax4SR2z"
      },
      "execution_count": null,
      "outputs": []
    },
    {
      "cell_type": "code",
      "source": [
        "print(numOfWordsB)"
      ],
      "metadata": {
        "colab": {
          "base_uri": "https://localhost:8080/"
        },
        "id": "LCFrDyIjSWEp",
        "outputId": "e6199449-5624-426a-dd62-96768cb17aaf"
      },
      "execution_count": null,
      "outputs": [
        {
          "output_type": "stream",
          "name": "stdout",
          "text": [
            "{'largest': 0, 'the': 2, 'Planet': 0, 'is': 1, 'fourth': 1, 'from': 1, 'Jupiter': 0, 'planet': 1, 'Mars': 1, 'Sun': 1}\n"
          ]
        }
      ]
    },
    {
      "cell_type": "markdown",
      "source": [
        "**Compute the term frequency for each of our documents**"
      ],
      "metadata": {
        "id": "UvBIc2zJSaLJ"
      }
    },
    {
      "cell_type": "code",
      "source": [
        "def computeTF(wordDict, bagOfWords):\n",
        "    tfDict = {}\n",
        "def bagOfWordsCountlen(bagOfWords):\n",
        "    for word, count in wordDict.items():\n",
        "        tfDict[word] = count / float(bagOfWordsCount)\n",
        "        return tfDict\n",
        "tfA = computeTF(numOfWordsA, bagOfWordsA)\n",
        "tfB = computeTF(numOfWordsB, bagOfWordsB)"
      ],
      "metadata": {
        "id": "uA9iQ0mRSfA0"
      },
      "execution_count": null,
      "outputs": []
    },
    {
      "cell_type": "code",
      "source": [
        "print(tfA)"
      ],
      "metadata": {
        "colab": {
          "base_uri": "https://localhost:8080/"
        },
        "id": "O7fPmBG0SokM",
        "outputId": "b766733d-3d9c-42bb-c6b9-10ca24a90d8d"
      },
      "execution_count": null,
      "outputs": [
        {
          "output_type": "stream",
          "name": "stdout",
          "text": [
            "None\n"
          ]
        }
      ]
    },
    {
      "cell_type": "code",
      "source": [
        "print(tfB)"
      ],
      "metadata": {
        "colab": {
          "base_uri": "https://localhost:8080/"
        },
        "id": "rhlViGL-SthH",
        "outputId": "70e78111-b747-4479-f1de-a4483b58e2fe"
      },
      "execution_count": null,
      "outputs": [
        {
          "output_type": "stream",
          "name": "stdout",
          "text": [
            "None\n"
          ]
        }
      ]
    },
    {
      "cell_type": "markdown",
      "source": [
        "**Compute the term Inverse Document Frequency**"
      ],
      "metadata": {
        "id": "LYGihHGESvdx"
      }
    },
    {
      "cell_type": "code",
      "source": [
        "def computeIDF(documents):\n",
        "    import math\n",
        "    N = len(documents)\n",
        "    idfDict = dict.fromkeys(documents[0].keys(), 0)\n",
        "    for document in documents:\n",
        "        for word, val in document.items():\n",
        "            if val > 0:\n",
        "                idfDict[word] += 1\n",
        "    for word, val in idfDict.items():\n",
        "        idfDict[word] = math.log(N / float(val))\n",
        "    return idfDict\n",
        "idfs = computeIDF([numOfWordsA, numOfWordsB])\n",
        "idfs"
      ],
      "metadata": {
        "colab": {
          "base_uri": "https://localhost:8080/"
        },
        "id": "cyj5ljJJSzU_",
        "outputId": "a8e35c5d-0520-48fd-e29b-f84a707e02b3"
      },
      "execution_count": null,
      "outputs": [
        {
          "output_type": "execute_result",
          "data": {
            "text/plain": [
              "{'largest': 0.6931471805599453,\n",
              " 'the': 0.0,\n",
              " 'Planet': 0.6931471805599453,\n",
              " 'is': 0.0,\n",
              " 'fourth': 0.6931471805599453,\n",
              " 'from': 0.6931471805599453,\n",
              " 'Jupiter': 0.6931471805599453,\n",
              " 'planet': 0.6931471805599453,\n",
              " 'Mars': 0.6931471805599453,\n",
              " 'Sun': 0.6931471805599453}"
            ]
          },
          "metadata": {},
          "execution_count": 16
        }
      ]
    },
    {
      "cell_type": "markdown",
      "source": [
        "**Compute the term TF/IDF for all words**"
      ],
      "metadata": {
        "id": "yvvqRE_OS7Y2"
      }
    },
    {
      "cell_type": "code",
      "source": [
        "def computeTFIDF(tfBagOfWords, idfs):\n",
        "    tfidf = {}\n",
        "    for word, val in tfBagOfWords.items():\n",
        "        tfidf[word] = val * idfs[word]\n",
        "    return tfidf\n",
        "    tfidfA = computeTFIDF(tfA, idfs)\n",
        "    tfidfB = computeTFIDF(tfB, idfs)\n",
        "    df = pd.DataFrame([tfidfA, tfidfB])\n",
        "    df"
      ],
      "metadata": {
        "id": "lV_v5-KtS8HY"
      },
      "execution_count": null,
      "outputs": []
    }
  ]
}