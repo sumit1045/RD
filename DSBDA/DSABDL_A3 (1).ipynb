{
  "nbformat": 4,
  "nbformat_minor": 0,
  "metadata": {
    "colab": {
      "provenance": []
    },
    "kernelspec": {
      "name": "python3",
      "display_name": "Python 3"
    },
    "language_info": {
      "name": "python"
    }
  },
  "cells": [
    {
      "cell_type": "markdown",
      "source": [
        "# **Descriptive Statistics - Measures of Central Tendency and variability**"
      ],
      "metadata": {
        "id": "r8sMaQI9PZxR"
      }
    },
    {
      "cell_type": "markdown",
      "source": [
        "Perform the following operations on any open source dataset (e.g., data.csv)\n",
        "1. Provide summary statistics (mean, median, minimum, maximum, standard deviation) for\n",
        "a dataset (age, income etc.) with numeric variables grouped by one of the qualitative\n",
        "(categorical) variable. For example, if your categorical variable is age groups and\n",
        "quantitative variable is income, then provide summary statistics of income grouped by the\n",
        "age groups. Create a list that contains a numeric value for each response to the categorical\n",
        "variable.\n",
        "2. Write a Python program to display some basic statistical details like percentile, mean,\n",
        "standard deviation etc. of the species of ‘Iris-setosa’, ‘Iris-versicolor’ and ‘Iris-versicolor’\n",
        "of iris.csv dataset.\n",
        "Provide the codes with outputs and explain everything that you do in this step."
      ],
      "metadata": {
        "id": "QTK0kUD5Pg6H"
      }
    },
    {
      "cell_type": "markdown",
      "source": [
        "**1. Understanding the Problem Statement**"
      ],
      "metadata": {
        "id": "ZPYb8SB2PlhP"
      }
    },
    {
      "cell_type": "markdown",
      "source": [
        "Import required libraries"
      ],
      "metadata": {
        "id": "kxEqBEh62sSV"
      }
    },
    {
      "cell_type": "code",
      "execution_count": null,
      "metadata": {
        "id": "yEGmhYb6BGax"
      },
      "outputs": [],
      "source": [
        "import pandas as pd"
      ]
    },
    {
      "cell_type": "code",
      "source": [
        "from google.colab import files\n",
        "files.upload()"
      ],
      "metadata": {
        "colab": {
          "base_uri": "https://localhost:8080/",
          "height": 576
        },
        "id": "Lnkqgbyy3BJj",
        "outputId": "66d50587-b17a-4bd0-f12f-7c7ca1c66f6c"
      },
      "execution_count": null,
      "outputs": [
        {
          "output_type": "display_data",
          "data": {
            "text/plain": [
              "<IPython.core.display.HTML object>"
            ],
            "text/html": [
              "\n",
              "     <input type=\"file\" id=\"files-3551d7d5-8594-472d-9bfd-1cf99d03e735\" name=\"files[]\" multiple disabled\n",
              "        style=\"border:none\" />\n",
              "     <output id=\"result-3551d7d5-8594-472d-9bfd-1cf99d03e735\">\n",
              "      Upload widget is only available when the cell has been executed in the\n",
              "      current browser session. Please rerun this cell to enable.\n",
              "      </output>\n",
              "      <script>// Copyright 2017 Google LLC\n",
              "//\n",
              "// Licensed under the Apache License, Version 2.0 (the \"License\");\n",
              "// you may not use this file except in compliance with the License.\n",
              "// You may obtain a copy of the License at\n",
              "//\n",
              "//      http://www.apache.org/licenses/LICENSE-2.0\n",
              "//\n",
              "// Unless required by applicable law or agreed to in writing, software\n",
              "// distributed under the License is distributed on an \"AS IS\" BASIS,\n",
              "// WITHOUT WARRANTIES OR CONDITIONS OF ANY KIND, either express or implied.\n",
              "// See the License for the specific language governing permissions and\n",
              "// limitations under the License.\n",
              "\n",
              "/**\n",
              " * @fileoverview Helpers for google.colab Python module.\n",
              " */\n",
              "(function(scope) {\n",
              "function span(text, styleAttributes = {}) {\n",
              "  const element = document.createElement('span');\n",
              "  element.textContent = text;\n",
              "  for (const key of Object.keys(styleAttributes)) {\n",
              "    element.style[key] = styleAttributes[key];\n",
              "  }\n",
              "  return element;\n",
              "}\n",
              "\n",
              "// Max number of bytes which will be uploaded at a time.\n",
              "const MAX_PAYLOAD_SIZE = 100 * 1024;\n",
              "\n",
              "function _uploadFiles(inputId, outputId) {\n",
              "  const steps = uploadFilesStep(inputId, outputId);\n",
              "  const outputElement = document.getElementById(outputId);\n",
              "  // Cache steps on the outputElement to make it available for the next call\n",
              "  // to uploadFilesContinue from Python.\n",
              "  outputElement.steps = steps;\n",
              "\n",
              "  return _uploadFilesContinue(outputId);\n",
              "}\n",
              "\n",
              "// This is roughly an async generator (not supported in the browser yet),\n",
              "// where there are multiple asynchronous steps and the Python side is going\n",
              "// to poll for completion of each step.\n",
              "// This uses a Promise to block the python side on completion of each step,\n",
              "// then passes the result of the previous step as the input to the next step.\n",
              "function _uploadFilesContinue(outputId) {\n",
              "  const outputElement = document.getElementById(outputId);\n",
              "  const steps = outputElement.steps;\n",
              "\n",
              "  const next = steps.next(outputElement.lastPromiseValue);\n",
              "  return Promise.resolve(next.value.promise).then((value) => {\n",
              "    // Cache the last promise value to make it available to the next\n",
              "    // step of the generator.\n",
              "    outputElement.lastPromiseValue = value;\n",
              "    return next.value.response;\n",
              "  });\n",
              "}\n",
              "\n",
              "/**\n",
              " * Generator function which is called between each async step of the upload\n",
              " * process.\n",
              " * @param {string} inputId Element ID of the input file picker element.\n",
              " * @param {string} outputId Element ID of the output display.\n",
              " * @return {!Iterable<!Object>} Iterable of next steps.\n",
              " */\n",
              "function* uploadFilesStep(inputId, outputId) {\n",
              "  const inputElement = document.getElementById(inputId);\n",
              "  inputElement.disabled = false;\n",
              "\n",
              "  const outputElement = document.getElementById(outputId);\n",
              "  outputElement.innerHTML = '';\n",
              "\n",
              "  const pickedPromise = new Promise((resolve) => {\n",
              "    inputElement.addEventListener('change', (e) => {\n",
              "      resolve(e.target.files);\n",
              "    });\n",
              "  });\n",
              "\n",
              "  const cancel = document.createElement('button');\n",
              "  inputElement.parentElement.appendChild(cancel);\n",
              "  cancel.textContent = 'Cancel upload';\n",
              "  const cancelPromise = new Promise((resolve) => {\n",
              "    cancel.onclick = () => {\n",
              "      resolve(null);\n",
              "    };\n",
              "  });\n",
              "\n",
              "  // Wait for the user to pick the files.\n",
              "  const files = yield {\n",
              "    promise: Promise.race([pickedPromise, cancelPromise]),\n",
              "    response: {\n",
              "      action: 'starting',\n",
              "    }\n",
              "  };\n",
              "\n",
              "  cancel.remove();\n",
              "\n",
              "  // Disable the input element since further picks are not allowed.\n",
              "  inputElement.disabled = true;\n",
              "\n",
              "  if (!files) {\n",
              "    return {\n",
              "      response: {\n",
              "        action: 'complete',\n",
              "      }\n",
              "    };\n",
              "  }\n",
              "\n",
              "  for (const file of files) {\n",
              "    const li = document.createElement('li');\n",
              "    li.append(span(file.name, {fontWeight: 'bold'}));\n",
              "    li.append(span(\n",
              "        `(${file.type || 'n/a'}) - ${file.size} bytes, ` +\n",
              "        `last modified: ${\n",
              "            file.lastModifiedDate ? file.lastModifiedDate.toLocaleDateString() :\n",
              "                                    'n/a'} - `));\n",
              "    const percent = span('0% done');\n",
              "    li.appendChild(percent);\n",
              "\n",
              "    outputElement.appendChild(li);\n",
              "\n",
              "    const fileDataPromise = new Promise((resolve) => {\n",
              "      const reader = new FileReader();\n",
              "      reader.onload = (e) => {\n",
              "        resolve(e.target.result);\n",
              "      };\n",
              "      reader.readAsArrayBuffer(file);\n",
              "    });\n",
              "    // Wait for the data to be ready.\n",
              "    let fileData = yield {\n",
              "      promise: fileDataPromise,\n",
              "      response: {\n",
              "        action: 'continue',\n",
              "      }\n",
              "    };\n",
              "\n",
              "    // Use a chunked sending to avoid message size limits. See b/62115660.\n",
              "    let position = 0;\n",
              "    do {\n",
              "      const length = Math.min(fileData.byteLength - position, MAX_PAYLOAD_SIZE);\n",
              "      const chunk = new Uint8Array(fileData, position, length);\n",
              "      position += length;\n",
              "\n",
              "      const base64 = btoa(String.fromCharCode.apply(null, chunk));\n",
              "      yield {\n",
              "        response: {\n",
              "          action: 'append',\n",
              "          file: file.name,\n",
              "          data: base64,\n",
              "        },\n",
              "      };\n",
              "\n",
              "      let percentDone = fileData.byteLength === 0 ?\n",
              "          100 :\n",
              "          Math.round((position / fileData.byteLength) * 100);\n",
              "      percent.textContent = `${percentDone}% done`;\n",
              "\n",
              "    } while (position < fileData.byteLength);\n",
              "  }\n",
              "\n",
              "  // All done.\n",
              "  yield {\n",
              "    response: {\n",
              "      action: 'complete',\n",
              "    }\n",
              "  };\n",
              "}\n",
              "\n",
              "scope.google = scope.google || {};\n",
              "scope.google.colab = scope.google.colab || {};\n",
              "scope.google.colab._files = {\n",
              "  _uploadFiles,\n",
              "  _uploadFilesContinue,\n",
              "};\n",
              "})(self);\n",
              "</script> "
            ]
          },
          "metadata": {}
        },
        {
          "output_type": "stream",
          "name": "stdout",
          "text": [
            "Saving Iris.csv to Iris.csv\n"
          ]
        },
        {
          "output_type": "execute_result",
          "data": {
            "text/plain": [
              "{'Iris.csv': b'Id,SepalLengthCm,SepalWidthCm,PetalLengthCm,PetalWidthCm,Species\\n1,5.1,3.5,1.4,0.2,Iris-setosa\\n2,4.9,3.0,1.4,0.2,Iris-setosa\\n3,4.7,3.2,1.3,0.2,Iris-setosa\\n4,4.6,3.1,1.5,0.2,Iris-setosa\\n5,5.0,3.6,1.4,0.2,Iris-setosa\\n6,5.4,3.9,1.7,0.4,Iris-setosa\\n7,4.6,3.4,1.4,0.3,Iris-setosa\\n8,5.0,3.4,1.5,0.2,Iris-setosa\\n9,4.4,2.9,1.4,0.2,Iris-setosa\\n10,4.9,3.1,1.5,0.1,Iris-setosa\\n11,5.4,3.7,1.5,0.2,Iris-setosa\\n12,4.8,3.4,1.6,0.2,Iris-setosa\\n13,4.8,3.0,1.4,0.1,Iris-setosa\\n14,4.3,3.0,1.1,0.1,Iris-setosa\\n15,5.8,4.0,1.2,0.2,Iris-setosa\\n16,5.7,4.4,1.5,0.4,Iris-setosa\\n17,5.4,3.9,1.3,0.4,Iris-setosa\\n18,5.1,3.5,1.4,0.3,Iris-setosa\\n19,5.7,3.8,1.7,0.3,Iris-setosa\\n20,5.1,3.8,1.5,0.3,Iris-setosa\\n21,5.4,3.4,1.7,0.2,Iris-setosa\\n22,5.1,3.7,1.5,0.4,Iris-setosa\\n23,4.6,3.6,1.0,0.2,Iris-setosa\\n24,5.1,3.3,1.7,0.5,Iris-setosa\\n25,4.8,3.4,1.9,0.2,Iris-setosa\\n26,5.0,3.0,1.6,0.2,Iris-setosa\\n27,5.0,3.4,1.6,0.4,Iris-setosa\\n28,5.2,3.5,1.5,0.2,Iris-setosa\\n29,5.2,3.4,1.4,0.2,Iris-setosa\\n30,4.7,3.2,1.6,0.2,Iris-setosa\\n31,4.8,3.1,1.6,0.2,Iris-setosa\\n32,5.4,3.4,1.5,0.4,Iris-setosa\\n33,5.2,4.1,1.5,0.1,Iris-setosa\\n34,5.5,4.2,1.4,0.2,Iris-setosa\\n35,4.9,3.1,1.5,0.1,Iris-setosa\\n36,5.0,3.2,1.2,0.2,Iris-setosa\\n37,5.5,3.5,1.3,0.2,Iris-setosa\\n38,4.9,3.1,1.5,0.1,Iris-setosa\\n39,4.4,3.0,1.3,0.2,Iris-setosa\\n40,5.1,3.4,1.5,0.2,Iris-setosa\\n41,5.0,3.5,1.3,0.3,Iris-setosa\\n42,4.5,2.3,1.3,0.3,Iris-setosa\\n43,4.4,3.2,1.3,0.2,Iris-setosa\\n44,5.0,3.5,1.6,0.6,Iris-setosa\\n45,5.1,3.8,1.9,0.4,Iris-setosa\\n46,4.8,3.0,1.4,0.3,Iris-setosa\\n47,5.1,3.8,1.6,0.2,Iris-setosa\\n48,4.6,3.2,1.4,0.2,Iris-setosa\\n49,5.3,3.7,1.5,0.2,Iris-setosa\\n50,5.0,3.3,1.4,0.2,Iris-setosa\\n51,7.0,3.2,4.7,1.4,Iris-versicolor\\n52,6.4,3.2,4.5,1.5,Iris-versicolor\\n53,6.9,3.1,4.9,1.5,Iris-versicolor\\n54,5.5,2.3,4.0,1.3,Iris-versicolor\\n55,6.5,2.8,4.6,1.5,Iris-versicolor\\n56,5.7,2.8,4.5,1.3,Iris-versicolor\\n57,6.3,3.3,4.7,1.6,Iris-versicolor\\n58,4.9,2.4,3.3,1.0,Iris-versicolor\\n59,6.6,2.9,4.6,1.3,Iris-versicolor\\n60,5.2,2.7,3.9,1.4,Iris-versicolor\\n61,5.0,2.0,3.5,1.0,Iris-versicolor\\n62,5.9,3.0,4.2,1.5,Iris-versicolor\\n63,6.0,2.2,4.0,1.0,Iris-versicolor\\n64,6.1,2.9,4.7,1.4,Iris-versicolor\\n65,5.6,2.9,3.6,1.3,Iris-versicolor\\n66,6.7,3.1,4.4,1.4,Iris-versicolor\\n67,5.6,3.0,4.5,1.5,Iris-versicolor\\n68,5.8,2.7,4.1,1.0,Iris-versicolor\\n69,6.2,2.2,4.5,1.5,Iris-versicolor\\n70,5.6,2.5,3.9,1.1,Iris-versicolor\\n71,5.9,3.2,4.8,1.8,Iris-versicolor\\n72,6.1,2.8,4.0,1.3,Iris-versicolor\\n73,6.3,2.5,4.9,1.5,Iris-versicolor\\n74,6.1,2.8,4.7,1.2,Iris-versicolor\\n75,6.4,2.9,4.3,1.3,Iris-versicolor\\n76,6.6,3.0,4.4,1.4,Iris-versicolor\\n77,6.8,2.8,4.8,1.4,Iris-versicolor\\n78,6.7,3.0,5.0,1.7,Iris-versicolor\\n79,6.0,2.9,4.5,1.5,Iris-versicolor\\n80,5.7,2.6,3.5,1.0,Iris-versicolor\\n81,5.5,2.4,3.8,1.1,Iris-versicolor\\n82,5.5,2.4,3.7,1.0,Iris-versicolor\\n83,5.8,2.7,3.9,1.2,Iris-versicolor\\n84,6.0,2.7,5.1,1.6,Iris-versicolor\\n85,5.4,3.0,4.5,1.5,Iris-versicolor\\n86,6.0,3.4,4.5,1.6,Iris-versicolor\\n87,6.7,3.1,4.7,1.5,Iris-versicolor\\n88,6.3,2.3,4.4,1.3,Iris-versicolor\\n89,5.6,3.0,4.1,1.3,Iris-versicolor\\n90,5.5,2.5,4.0,1.3,Iris-versicolor\\n91,5.5,2.6,4.4,1.2,Iris-versicolor\\n92,6.1,3.0,4.6,1.4,Iris-versicolor\\n93,5.8,2.6,4.0,1.2,Iris-versicolor\\n94,5.0,2.3,3.3,1.0,Iris-versicolor\\n95,5.6,2.7,4.2,1.3,Iris-versicolor\\n96,5.7,3.0,4.2,1.2,Iris-versicolor\\n97,5.7,2.9,4.2,1.3,Iris-versicolor\\n98,6.2,2.9,4.3,1.3,Iris-versicolor\\n99,5.1,2.5,3.0,1.1,Iris-versicolor\\n100,5.7,2.8,4.1,1.3,Iris-versicolor\\n101,6.3,3.3,6.0,2.5,Iris-virginica\\n102,5.8,2.7,5.1,1.9,Iris-virginica\\n103,7.1,3.0,5.9,2.1,Iris-virginica\\n104,6.3,2.9,5.6,1.8,Iris-virginica\\n105,6.5,3.0,5.8,2.2,Iris-virginica\\n106,7.6,3.0,6.6,2.1,Iris-virginica\\n107,4.9,2.5,4.5,1.7,Iris-virginica\\n108,7.3,2.9,6.3,1.8,Iris-virginica\\n109,6.7,2.5,5.8,1.8,Iris-virginica\\n110,7.2,3.6,6.1,2.5,Iris-virginica\\n111,6.5,3.2,5.1,2.0,Iris-virginica\\n112,6.4,2.7,5.3,1.9,Iris-virginica\\n113,6.8,3.0,5.5,2.1,Iris-virginica\\n114,5.7,2.5,5.0,2.0,Iris-virginica\\n115,5.8,2.8,5.1,2.4,Iris-virginica\\n116,6.4,3.2,5.3,2.3,Iris-virginica\\n117,6.5,3.0,5.5,1.8,Iris-virginica\\n118,7.7,3.8,6.7,2.2,Iris-virginica\\n119,7.7,2.6,6.9,2.3,Iris-virginica\\n120,6.0,2.2,5.0,1.5,Iris-virginica\\n121,6.9,3.2,5.7,2.3,Iris-virginica\\n122,5.6,2.8,4.9,2.0,Iris-virginica\\n123,7.7,2.8,6.7,2.0,Iris-virginica\\n124,6.3,2.7,4.9,1.8,Iris-virginica\\n125,6.7,3.3,5.7,2.1,Iris-virginica\\n126,7.2,3.2,6.0,1.8,Iris-virginica\\n127,6.2,2.8,4.8,1.8,Iris-virginica\\n128,6.1,3.0,4.9,1.8,Iris-virginica\\n129,6.4,2.8,5.6,2.1,Iris-virginica\\n130,7.2,3.0,5.8,1.6,Iris-virginica\\n131,7.4,2.8,6.1,1.9,Iris-virginica\\n132,7.9,3.8,6.4,2.0,Iris-virginica\\n133,6.4,2.8,5.6,2.2,Iris-virginica\\n134,6.3,2.8,5.1,1.5,Iris-virginica\\n135,6.1,2.6,5.6,1.4,Iris-virginica\\n136,7.7,3.0,6.1,2.3,Iris-virginica\\n137,6.3,3.4,5.6,2.4,Iris-virginica\\n138,6.4,3.1,5.5,1.8,Iris-virginica\\n139,6.0,3.0,4.8,1.8,Iris-virginica\\n140,6.9,3.1,5.4,2.1,Iris-virginica\\n141,6.7,3.1,5.6,2.4,Iris-virginica\\n142,6.9,3.1,5.1,2.3,Iris-virginica\\n143,5.8,2.7,5.1,1.9,Iris-virginica\\n144,6.8,3.2,5.9,2.3,Iris-virginica\\n145,6.7,3.3,5.7,2.5,Iris-virginica\\n146,6.7,3.0,5.2,2.3,Iris-virginica\\n147,6.3,2.5,5.0,1.9,Iris-virginica\\n148,6.5,3.0,5.2,2.0,Iris-virginica\\n149,6.2,3.4,5.4,2.3,Iris-virginica\\n150,5.9,3.0,5.1,1.8,Iris-virginica\\n'}"
            ]
          },
          "metadata": {},
          "execution_count": 2
        }
      ]
    },
    {
      "cell_type": "markdown",
      "source": [
        "**2. Data Collection**"
      ],
      "metadata": {
        "id": "EUDW6RwpP6Lv"
      }
    },
    {
      "cell_type": "markdown",
      "source": [
        "Loading the Data"
      ],
      "metadata": {
        "id": "gUeqqgqGQAex"
      }
    },
    {
      "cell_type": "code",
      "source": [
        "iris=pd.read_csv(\"/content/Iris.csv\")"
      ],
      "metadata": {
        "id": "HrihWLcA3jKB"
      },
      "execution_count": null,
      "outputs": []
    },
    {
      "cell_type": "markdown",
      "source": [
        "**3. EDA (Exploratory Data Analysis)**"
      ],
      "metadata": {
        "id": "HzrlzuHBQTgZ"
      }
    },
    {
      "cell_type": "markdown",
      "source": [
        "Data Preprocessing"
      ],
      "metadata": {
        "id": "MHTBcrHhQcAk"
      }
    },
    {
      "cell_type": "code",
      "source": [
        "iris.head()"
      ],
      "metadata": {
        "colab": {
          "base_uri": "https://localhost:8080/",
          "height": 206
        },
        "id": "F7vpDU8F3tRi",
        "outputId": "b92eec4e-2372-475d-d5b1-93b8294a6363"
      },
      "execution_count": null,
      "outputs": [
        {
          "output_type": "execute_result",
          "data": {
            "text/plain": [
              "   Id  SepalLengthCm  SepalWidthCm  PetalLengthCm  PetalWidthCm      Species\n",
              "0   1            5.1           3.5            1.4           0.2  Iris-setosa\n",
              "1   2            4.9           3.0            1.4           0.2  Iris-setosa\n",
              "2   3            4.7           3.2            1.3           0.2  Iris-setosa\n",
              "3   4            4.6           3.1            1.5           0.2  Iris-setosa\n",
              "4   5            5.0           3.6            1.4           0.2  Iris-setosa"
            ],
            "text/html": [
              "\n",
              "  <div id=\"df-3cefaf0b-0a51-4706-8931-410ad51e6f69\">\n",
              "    <div class=\"colab-df-container\">\n",
              "      <div>\n",
              "<style scoped>\n",
              "    .dataframe tbody tr th:only-of-type {\n",
              "        vertical-align: middle;\n",
              "    }\n",
              "\n",
              "    .dataframe tbody tr th {\n",
              "        vertical-align: top;\n",
              "    }\n",
              "\n",
              "    .dataframe thead th {\n",
              "        text-align: right;\n",
              "    }\n",
              "</style>\n",
              "<table border=\"1\" class=\"dataframe\">\n",
              "  <thead>\n",
              "    <tr style=\"text-align: right;\">\n",
              "      <th></th>\n",
              "      <th>Id</th>\n",
              "      <th>SepalLengthCm</th>\n",
              "      <th>SepalWidthCm</th>\n",
              "      <th>PetalLengthCm</th>\n",
              "      <th>PetalWidthCm</th>\n",
              "      <th>Species</th>\n",
              "    </tr>\n",
              "  </thead>\n",
              "  <tbody>\n",
              "    <tr>\n",
              "      <th>0</th>\n",
              "      <td>1</td>\n",
              "      <td>5.1</td>\n",
              "      <td>3.5</td>\n",
              "      <td>1.4</td>\n",
              "      <td>0.2</td>\n",
              "      <td>Iris-setosa</td>\n",
              "    </tr>\n",
              "    <tr>\n",
              "      <th>1</th>\n",
              "      <td>2</td>\n",
              "      <td>4.9</td>\n",
              "      <td>3.0</td>\n",
              "      <td>1.4</td>\n",
              "      <td>0.2</td>\n",
              "      <td>Iris-setosa</td>\n",
              "    </tr>\n",
              "    <tr>\n",
              "      <th>2</th>\n",
              "      <td>3</td>\n",
              "      <td>4.7</td>\n",
              "      <td>3.2</td>\n",
              "      <td>1.3</td>\n",
              "      <td>0.2</td>\n",
              "      <td>Iris-setosa</td>\n",
              "    </tr>\n",
              "    <tr>\n",
              "      <th>3</th>\n",
              "      <td>4</td>\n",
              "      <td>4.6</td>\n",
              "      <td>3.1</td>\n",
              "      <td>1.5</td>\n",
              "      <td>0.2</td>\n",
              "      <td>Iris-setosa</td>\n",
              "    </tr>\n",
              "    <tr>\n",
              "      <th>4</th>\n",
              "      <td>5</td>\n",
              "      <td>5.0</td>\n",
              "      <td>3.6</td>\n",
              "      <td>1.4</td>\n",
              "      <td>0.2</td>\n",
              "      <td>Iris-setosa</td>\n",
              "    </tr>\n",
              "  </tbody>\n",
              "</table>\n",
              "</div>\n",
              "      <button class=\"colab-df-convert\" onclick=\"convertToInteractive('df-3cefaf0b-0a51-4706-8931-410ad51e6f69')\"\n",
              "              title=\"Convert this dataframe to an interactive table.\"\n",
              "              style=\"display:none;\">\n",
              "        \n",
              "  <svg xmlns=\"http://www.w3.org/2000/svg\" height=\"24px\"viewBox=\"0 0 24 24\"\n",
              "       width=\"24px\">\n",
              "    <path d=\"M0 0h24v24H0V0z\" fill=\"none\"/>\n",
              "    <path d=\"M18.56 5.44l.94 2.06.94-2.06 2.06-.94-2.06-.94-.94-2.06-.94 2.06-2.06.94zm-11 1L8.5 8.5l.94-2.06 2.06-.94-2.06-.94L8.5 2.5l-.94 2.06-2.06.94zm10 10l.94 2.06.94-2.06 2.06-.94-2.06-.94-.94-2.06-.94 2.06-2.06.94z\"/><path d=\"M17.41 7.96l-1.37-1.37c-.4-.4-.92-.59-1.43-.59-.52 0-1.04.2-1.43.59L10.3 9.45l-7.72 7.72c-.78.78-.78 2.05 0 2.83L4 21.41c.39.39.9.59 1.41.59.51 0 1.02-.2 1.41-.59l7.78-7.78 2.81-2.81c.8-.78.8-2.07 0-2.86zM5.41 20L4 18.59l7.72-7.72 1.47 1.35L5.41 20z\"/>\n",
              "  </svg>\n",
              "      </button>\n",
              "      \n",
              "  <style>\n",
              "    .colab-df-container {\n",
              "      display:flex;\n",
              "      flex-wrap:wrap;\n",
              "      gap: 12px;\n",
              "    }\n",
              "\n",
              "    .colab-df-convert {\n",
              "      background-color: #E8F0FE;\n",
              "      border: none;\n",
              "      border-radius: 50%;\n",
              "      cursor: pointer;\n",
              "      display: none;\n",
              "      fill: #1967D2;\n",
              "      height: 32px;\n",
              "      padding: 0 0 0 0;\n",
              "      width: 32px;\n",
              "    }\n",
              "\n",
              "    .colab-df-convert:hover {\n",
              "      background-color: #E2EBFA;\n",
              "      box-shadow: 0px 1px 2px rgba(60, 64, 67, 0.3), 0px 1px 3px 1px rgba(60, 64, 67, 0.15);\n",
              "      fill: #174EA6;\n",
              "    }\n",
              "\n",
              "    [theme=dark] .colab-df-convert {\n",
              "      background-color: #3B4455;\n",
              "      fill: #D2E3FC;\n",
              "    }\n",
              "\n",
              "    [theme=dark] .colab-df-convert:hover {\n",
              "      background-color: #434B5C;\n",
              "      box-shadow: 0px 1px 3px 1px rgba(0, 0, 0, 0.15);\n",
              "      filter: drop-shadow(0px 1px 2px rgba(0, 0, 0, 0.3));\n",
              "      fill: #FFFFFF;\n",
              "    }\n",
              "  </style>\n",
              "\n",
              "      <script>\n",
              "        const buttonEl =\n",
              "          document.querySelector('#df-3cefaf0b-0a51-4706-8931-410ad51e6f69 button.colab-df-convert');\n",
              "        buttonEl.style.display =\n",
              "          google.colab.kernel.accessAllowed ? 'block' : 'none';\n",
              "\n",
              "        async function convertToInteractive(key) {\n",
              "          const element = document.querySelector('#df-3cefaf0b-0a51-4706-8931-410ad51e6f69');\n",
              "          const dataTable =\n",
              "            await google.colab.kernel.invokeFunction('convertToInteractive',\n",
              "                                                     [key], {});\n",
              "          if (!dataTable) return;\n",
              "\n",
              "          const docLinkHtml = 'Like what you see? Visit the ' +\n",
              "            '<a target=\"_blank\" href=https://colab.research.google.com/notebooks/data_table.ipynb>data table notebook</a>'\n",
              "            + ' to learn more about interactive tables.';\n",
              "          element.innerHTML = '';\n",
              "          dataTable['output_type'] = 'display_data';\n",
              "          await google.colab.output.renderOutput(dataTable, element);\n",
              "          const docLink = document.createElement('div');\n",
              "          docLink.innerHTML = docLinkHtml;\n",
              "          element.appendChild(docLink);\n",
              "        }\n",
              "      </script>\n",
              "    </div>\n",
              "  </div>\n",
              "  "
            ]
          },
          "metadata": {},
          "execution_count": 4
        }
      ]
    },
    {
      "cell_type": "code",
      "source": [
        "iris.describe()"
      ],
      "metadata": {
        "colab": {
          "base_uri": "https://localhost:8080/",
          "height": 300
        },
        "id": "Ol9HwOxu4HqH",
        "outputId": "217c8380-8a19-4a1b-9747-0dbf730f4c83"
      },
      "execution_count": null,
      "outputs": [
        {
          "output_type": "execute_result",
          "data": {
            "text/plain": [
              "               Id  SepalLengthCm  SepalWidthCm  PetalLengthCm  PetalWidthCm\n",
              "count  150.000000     150.000000    150.000000     150.000000    150.000000\n",
              "mean    75.500000       5.843333      3.054000       3.758667      1.198667\n",
              "std     43.445368       0.828066      0.433594       1.764420      0.763161\n",
              "min      1.000000       4.300000      2.000000       1.000000      0.100000\n",
              "25%     38.250000       5.100000      2.800000       1.600000      0.300000\n",
              "50%     75.500000       5.800000      3.000000       4.350000      1.300000\n",
              "75%    112.750000       6.400000      3.300000       5.100000      1.800000\n",
              "max    150.000000       7.900000      4.400000       6.900000      2.500000"
            ],
            "text/html": [
              "\n",
              "  <div id=\"df-ff76c3e8-140a-47fe-ad2f-8a8850314271\">\n",
              "    <div class=\"colab-df-container\">\n",
              "      <div>\n",
              "<style scoped>\n",
              "    .dataframe tbody tr th:only-of-type {\n",
              "        vertical-align: middle;\n",
              "    }\n",
              "\n",
              "    .dataframe tbody tr th {\n",
              "        vertical-align: top;\n",
              "    }\n",
              "\n",
              "    .dataframe thead th {\n",
              "        text-align: right;\n",
              "    }\n",
              "</style>\n",
              "<table border=\"1\" class=\"dataframe\">\n",
              "  <thead>\n",
              "    <tr style=\"text-align: right;\">\n",
              "      <th></th>\n",
              "      <th>Id</th>\n",
              "      <th>SepalLengthCm</th>\n",
              "      <th>SepalWidthCm</th>\n",
              "      <th>PetalLengthCm</th>\n",
              "      <th>PetalWidthCm</th>\n",
              "    </tr>\n",
              "  </thead>\n",
              "  <tbody>\n",
              "    <tr>\n",
              "      <th>count</th>\n",
              "      <td>150.000000</td>\n",
              "      <td>150.000000</td>\n",
              "      <td>150.000000</td>\n",
              "      <td>150.000000</td>\n",
              "      <td>150.000000</td>\n",
              "    </tr>\n",
              "    <tr>\n",
              "      <th>mean</th>\n",
              "      <td>75.500000</td>\n",
              "      <td>5.843333</td>\n",
              "      <td>3.054000</td>\n",
              "      <td>3.758667</td>\n",
              "      <td>1.198667</td>\n",
              "    </tr>\n",
              "    <tr>\n",
              "      <th>std</th>\n",
              "      <td>43.445368</td>\n",
              "      <td>0.828066</td>\n",
              "      <td>0.433594</td>\n",
              "      <td>1.764420</td>\n",
              "      <td>0.763161</td>\n",
              "    </tr>\n",
              "    <tr>\n",
              "      <th>min</th>\n",
              "      <td>1.000000</td>\n",
              "      <td>4.300000</td>\n",
              "      <td>2.000000</td>\n",
              "      <td>1.000000</td>\n",
              "      <td>0.100000</td>\n",
              "    </tr>\n",
              "    <tr>\n",
              "      <th>25%</th>\n",
              "      <td>38.250000</td>\n",
              "      <td>5.100000</td>\n",
              "      <td>2.800000</td>\n",
              "      <td>1.600000</td>\n",
              "      <td>0.300000</td>\n",
              "    </tr>\n",
              "    <tr>\n",
              "      <th>50%</th>\n",
              "      <td>75.500000</td>\n",
              "      <td>5.800000</td>\n",
              "      <td>3.000000</td>\n",
              "      <td>4.350000</td>\n",
              "      <td>1.300000</td>\n",
              "    </tr>\n",
              "    <tr>\n",
              "      <th>75%</th>\n",
              "      <td>112.750000</td>\n",
              "      <td>6.400000</td>\n",
              "      <td>3.300000</td>\n",
              "      <td>5.100000</td>\n",
              "      <td>1.800000</td>\n",
              "    </tr>\n",
              "    <tr>\n",
              "      <th>max</th>\n",
              "      <td>150.000000</td>\n",
              "      <td>7.900000</td>\n",
              "      <td>4.400000</td>\n",
              "      <td>6.900000</td>\n",
              "      <td>2.500000</td>\n",
              "    </tr>\n",
              "  </tbody>\n",
              "</table>\n",
              "</div>\n",
              "      <button class=\"colab-df-convert\" onclick=\"convertToInteractive('df-ff76c3e8-140a-47fe-ad2f-8a8850314271')\"\n",
              "              title=\"Convert this dataframe to an interactive table.\"\n",
              "              style=\"display:none;\">\n",
              "        \n",
              "  <svg xmlns=\"http://www.w3.org/2000/svg\" height=\"24px\"viewBox=\"0 0 24 24\"\n",
              "       width=\"24px\">\n",
              "    <path d=\"M0 0h24v24H0V0z\" fill=\"none\"/>\n",
              "    <path d=\"M18.56 5.44l.94 2.06.94-2.06 2.06-.94-2.06-.94-.94-2.06-.94 2.06-2.06.94zm-11 1L8.5 8.5l.94-2.06 2.06-.94-2.06-.94L8.5 2.5l-.94 2.06-2.06.94zm10 10l.94 2.06.94-2.06 2.06-.94-2.06-.94-.94-2.06-.94 2.06-2.06.94z\"/><path d=\"M17.41 7.96l-1.37-1.37c-.4-.4-.92-.59-1.43-.59-.52 0-1.04.2-1.43.59L10.3 9.45l-7.72 7.72c-.78.78-.78 2.05 0 2.83L4 21.41c.39.39.9.59 1.41.59.51 0 1.02-.2 1.41-.59l7.78-7.78 2.81-2.81c.8-.78.8-2.07 0-2.86zM5.41 20L4 18.59l7.72-7.72 1.47 1.35L5.41 20z\"/>\n",
              "  </svg>\n",
              "      </button>\n",
              "      \n",
              "  <style>\n",
              "    .colab-df-container {\n",
              "      display:flex;\n",
              "      flex-wrap:wrap;\n",
              "      gap: 12px;\n",
              "    }\n",
              "\n",
              "    .colab-df-convert {\n",
              "      background-color: #E8F0FE;\n",
              "      border: none;\n",
              "      border-radius: 50%;\n",
              "      cursor: pointer;\n",
              "      display: none;\n",
              "      fill: #1967D2;\n",
              "      height: 32px;\n",
              "      padding: 0 0 0 0;\n",
              "      width: 32px;\n",
              "    }\n",
              "\n",
              "    .colab-df-convert:hover {\n",
              "      background-color: #E2EBFA;\n",
              "      box-shadow: 0px 1px 2px rgba(60, 64, 67, 0.3), 0px 1px 3px 1px rgba(60, 64, 67, 0.15);\n",
              "      fill: #174EA6;\n",
              "    }\n",
              "\n",
              "    [theme=dark] .colab-df-convert {\n",
              "      background-color: #3B4455;\n",
              "      fill: #D2E3FC;\n",
              "    }\n",
              "\n",
              "    [theme=dark] .colab-df-convert:hover {\n",
              "      background-color: #434B5C;\n",
              "      box-shadow: 0px 1px 3px 1px rgba(0, 0, 0, 0.15);\n",
              "      filter: drop-shadow(0px 1px 2px rgba(0, 0, 0, 0.3));\n",
              "      fill: #FFFFFF;\n",
              "    }\n",
              "  </style>\n",
              "\n",
              "      <script>\n",
              "        const buttonEl =\n",
              "          document.querySelector('#df-ff76c3e8-140a-47fe-ad2f-8a8850314271 button.colab-df-convert');\n",
              "        buttonEl.style.display =\n",
              "          google.colab.kernel.accessAllowed ? 'block' : 'none';\n",
              "\n",
              "        async function convertToInteractive(key) {\n",
              "          const element = document.querySelector('#df-ff76c3e8-140a-47fe-ad2f-8a8850314271');\n",
              "          const dataTable =\n",
              "            await google.colab.kernel.invokeFunction('convertToInteractive',\n",
              "                                                     [key], {});\n",
              "          if (!dataTable) return;\n",
              "\n",
              "          const docLinkHtml = 'Like what you see? Visit the ' +\n",
              "            '<a target=\"_blank\" href=https://colab.research.google.com/notebooks/data_table.ipynb>data table notebook</a>'\n",
              "            + ' to learn more about interactive tables.';\n",
              "          element.innerHTML = '';\n",
              "          dataTable['output_type'] = 'display_data';\n",
              "          await google.colab.output.renderOutput(dataTable, element);\n",
              "          const docLink = document.createElement('div');\n",
              "          docLink.innerHTML = docLinkHtml;\n",
              "          element.appendChild(docLink);\n",
              "        }\n",
              "      </script>\n",
              "    </div>\n",
              "  </div>\n",
              "  "
            ]
          },
          "metadata": {},
          "execution_count": 5
        }
      ]
    },
    {
      "cell_type": "code",
      "source": [
        "iris.describe(include=\"all\")"
      ],
      "metadata": {
        "colab": {
          "base_uri": "https://localhost:8080/",
          "height": 394
        },
        "id": "mJ3mdJ084PJz",
        "outputId": "2d3b16aa-01eb-4548-df2e-7d1f541c1ebf"
      },
      "execution_count": null,
      "outputs": [
        {
          "output_type": "execute_result",
          "data": {
            "text/plain": [
              "                Id  SepalLengthCm  SepalWidthCm  PetalLengthCm  PetalWidthCm  \\\n",
              "count   150.000000     150.000000    150.000000     150.000000    150.000000   \n",
              "unique         NaN            NaN           NaN            NaN           NaN   \n",
              "top            NaN            NaN           NaN            NaN           NaN   \n",
              "freq           NaN            NaN           NaN            NaN           NaN   \n",
              "mean     75.500000       5.843333      3.054000       3.758667      1.198667   \n",
              "std      43.445368       0.828066      0.433594       1.764420      0.763161   \n",
              "min       1.000000       4.300000      2.000000       1.000000      0.100000   \n",
              "25%      38.250000       5.100000      2.800000       1.600000      0.300000   \n",
              "50%      75.500000       5.800000      3.000000       4.350000      1.300000   \n",
              "75%     112.750000       6.400000      3.300000       5.100000      1.800000   \n",
              "max     150.000000       7.900000      4.400000       6.900000      2.500000   \n",
              "\n",
              "            Species  \n",
              "count           150  \n",
              "unique            3  \n",
              "top     Iris-setosa  \n",
              "freq             50  \n",
              "mean            NaN  \n",
              "std             NaN  \n",
              "min             NaN  \n",
              "25%             NaN  \n",
              "50%             NaN  \n",
              "75%             NaN  \n",
              "max             NaN  "
            ],
            "text/html": [
              "\n",
              "  <div id=\"df-26a14195-d1f6-410d-8465-3b8d651f4220\">\n",
              "    <div class=\"colab-df-container\">\n",
              "      <div>\n",
              "<style scoped>\n",
              "    .dataframe tbody tr th:only-of-type {\n",
              "        vertical-align: middle;\n",
              "    }\n",
              "\n",
              "    .dataframe tbody tr th {\n",
              "        vertical-align: top;\n",
              "    }\n",
              "\n",
              "    .dataframe thead th {\n",
              "        text-align: right;\n",
              "    }\n",
              "</style>\n",
              "<table border=\"1\" class=\"dataframe\">\n",
              "  <thead>\n",
              "    <tr style=\"text-align: right;\">\n",
              "      <th></th>\n",
              "      <th>Id</th>\n",
              "      <th>SepalLengthCm</th>\n",
              "      <th>SepalWidthCm</th>\n",
              "      <th>PetalLengthCm</th>\n",
              "      <th>PetalWidthCm</th>\n",
              "      <th>Species</th>\n",
              "    </tr>\n",
              "  </thead>\n",
              "  <tbody>\n",
              "    <tr>\n",
              "      <th>count</th>\n",
              "      <td>150.000000</td>\n",
              "      <td>150.000000</td>\n",
              "      <td>150.000000</td>\n",
              "      <td>150.000000</td>\n",
              "      <td>150.000000</td>\n",
              "      <td>150</td>\n",
              "    </tr>\n",
              "    <tr>\n",
              "      <th>unique</th>\n",
              "      <td>NaN</td>\n",
              "      <td>NaN</td>\n",
              "      <td>NaN</td>\n",
              "      <td>NaN</td>\n",
              "      <td>NaN</td>\n",
              "      <td>3</td>\n",
              "    </tr>\n",
              "    <tr>\n",
              "      <th>top</th>\n",
              "      <td>NaN</td>\n",
              "      <td>NaN</td>\n",
              "      <td>NaN</td>\n",
              "      <td>NaN</td>\n",
              "      <td>NaN</td>\n",
              "      <td>Iris-setosa</td>\n",
              "    </tr>\n",
              "    <tr>\n",
              "      <th>freq</th>\n",
              "      <td>NaN</td>\n",
              "      <td>NaN</td>\n",
              "      <td>NaN</td>\n",
              "      <td>NaN</td>\n",
              "      <td>NaN</td>\n",
              "      <td>50</td>\n",
              "    </tr>\n",
              "    <tr>\n",
              "      <th>mean</th>\n",
              "      <td>75.500000</td>\n",
              "      <td>5.843333</td>\n",
              "      <td>3.054000</td>\n",
              "      <td>3.758667</td>\n",
              "      <td>1.198667</td>\n",
              "      <td>NaN</td>\n",
              "    </tr>\n",
              "    <tr>\n",
              "      <th>std</th>\n",
              "      <td>43.445368</td>\n",
              "      <td>0.828066</td>\n",
              "      <td>0.433594</td>\n",
              "      <td>1.764420</td>\n",
              "      <td>0.763161</td>\n",
              "      <td>NaN</td>\n",
              "    </tr>\n",
              "    <tr>\n",
              "      <th>min</th>\n",
              "      <td>1.000000</td>\n",
              "      <td>4.300000</td>\n",
              "      <td>2.000000</td>\n",
              "      <td>1.000000</td>\n",
              "      <td>0.100000</td>\n",
              "      <td>NaN</td>\n",
              "    </tr>\n",
              "    <tr>\n",
              "      <th>25%</th>\n",
              "      <td>38.250000</td>\n",
              "      <td>5.100000</td>\n",
              "      <td>2.800000</td>\n",
              "      <td>1.600000</td>\n",
              "      <td>0.300000</td>\n",
              "      <td>NaN</td>\n",
              "    </tr>\n",
              "    <tr>\n",
              "      <th>50%</th>\n",
              "      <td>75.500000</td>\n",
              "      <td>5.800000</td>\n",
              "      <td>3.000000</td>\n",
              "      <td>4.350000</td>\n",
              "      <td>1.300000</td>\n",
              "      <td>NaN</td>\n",
              "    </tr>\n",
              "    <tr>\n",
              "      <th>75%</th>\n",
              "      <td>112.750000</td>\n",
              "      <td>6.400000</td>\n",
              "      <td>3.300000</td>\n",
              "      <td>5.100000</td>\n",
              "      <td>1.800000</td>\n",
              "      <td>NaN</td>\n",
              "    </tr>\n",
              "    <tr>\n",
              "      <th>max</th>\n",
              "      <td>150.000000</td>\n",
              "      <td>7.900000</td>\n",
              "      <td>4.400000</td>\n",
              "      <td>6.900000</td>\n",
              "      <td>2.500000</td>\n",
              "      <td>NaN</td>\n",
              "    </tr>\n",
              "  </tbody>\n",
              "</table>\n",
              "</div>\n",
              "      <button class=\"colab-df-convert\" onclick=\"convertToInteractive('df-26a14195-d1f6-410d-8465-3b8d651f4220')\"\n",
              "              title=\"Convert this dataframe to an interactive table.\"\n",
              "              style=\"display:none;\">\n",
              "        \n",
              "  <svg xmlns=\"http://www.w3.org/2000/svg\" height=\"24px\"viewBox=\"0 0 24 24\"\n",
              "       width=\"24px\">\n",
              "    <path d=\"M0 0h24v24H0V0z\" fill=\"none\"/>\n",
              "    <path d=\"M18.56 5.44l.94 2.06.94-2.06 2.06-.94-2.06-.94-.94-2.06-.94 2.06-2.06.94zm-11 1L8.5 8.5l.94-2.06 2.06-.94-2.06-.94L8.5 2.5l-.94 2.06-2.06.94zm10 10l.94 2.06.94-2.06 2.06-.94-2.06-.94-.94-2.06-.94 2.06-2.06.94z\"/><path d=\"M17.41 7.96l-1.37-1.37c-.4-.4-.92-.59-1.43-.59-.52 0-1.04.2-1.43.59L10.3 9.45l-7.72 7.72c-.78.78-.78 2.05 0 2.83L4 21.41c.39.39.9.59 1.41.59.51 0 1.02-.2 1.41-.59l7.78-7.78 2.81-2.81c.8-.78.8-2.07 0-2.86zM5.41 20L4 18.59l7.72-7.72 1.47 1.35L5.41 20z\"/>\n",
              "  </svg>\n",
              "      </button>\n",
              "      \n",
              "  <style>\n",
              "    .colab-df-container {\n",
              "      display:flex;\n",
              "      flex-wrap:wrap;\n",
              "      gap: 12px;\n",
              "    }\n",
              "\n",
              "    .colab-df-convert {\n",
              "      background-color: #E8F0FE;\n",
              "      border: none;\n",
              "      border-radius: 50%;\n",
              "      cursor: pointer;\n",
              "      display: none;\n",
              "      fill: #1967D2;\n",
              "      height: 32px;\n",
              "      padding: 0 0 0 0;\n",
              "      width: 32px;\n",
              "    }\n",
              "\n",
              "    .colab-df-convert:hover {\n",
              "      background-color: #E2EBFA;\n",
              "      box-shadow: 0px 1px 2px rgba(60, 64, 67, 0.3), 0px 1px 3px 1px rgba(60, 64, 67, 0.15);\n",
              "      fill: #174EA6;\n",
              "    }\n",
              "\n",
              "    [theme=dark] .colab-df-convert {\n",
              "      background-color: #3B4455;\n",
              "      fill: #D2E3FC;\n",
              "    }\n",
              "\n",
              "    [theme=dark] .colab-df-convert:hover {\n",
              "      background-color: #434B5C;\n",
              "      box-shadow: 0px 1px 3px 1px rgba(0, 0, 0, 0.15);\n",
              "      filter: drop-shadow(0px 1px 2px rgba(0, 0, 0, 0.3));\n",
              "      fill: #FFFFFF;\n",
              "    }\n",
              "  </style>\n",
              "\n",
              "      <script>\n",
              "        const buttonEl =\n",
              "          document.querySelector('#df-26a14195-d1f6-410d-8465-3b8d651f4220 button.colab-df-convert');\n",
              "        buttonEl.style.display =\n",
              "          google.colab.kernel.accessAllowed ? 'block' : 'none';\n",
              "\n",
              "        async function convertToInteractive(key) {\n",
              "          const element = document.querySelector('#df-26a14195-d1f6-410d-8465-3b8d651f4220');\n",
              "          const dataTable =\n",
              "            await google.colab.kernel.invokeFunction('convertToInteractive',\n",
              "                                                     [key], {});\n",
              "          if (!dataTable) return;\n",
              "\n",
              "          const docLinkHtml = 'Like what you see? Visit the ' +\n",
              "            '<a target=\"_blank\" href=https://colab.research.google.com/notebooks/data_table.ipynb>data table notebook</a>'\n",
              "            + ' to learn more about interactive tables.';\n",
              "          element.innerHTML = '';\n",
              "          dataTable['output_type'] = 'display_data';\n",
              "          await google.colab.output.renderOutput(dataTable, element);\n",
              "          const docLink = document.createElement('div');\n",
              "          docLink.innerHTML = docLinkHtml;\n",
              "          element.appendChild(docLink);\n",
              "        }\n",
              "      </script>\n",
              "    </div>\n",
              "  </div>\n",
              "  "
            ]
          },
          "metadata": {},
          "execution_count": 6
        }
      ]
    },
    {
      "cell_type": "code",
      "source": [
        "iris.info()"
      ],
      "metadata": {
        "colab": {
          "base_uri": "https://localhost:8080/"
        },
        "id": "v0sI2wRb4Wuf",
        "outputId": "9046038d-f316-416f-a43b-543d354843b7"
      },
      "execution_count": null,
      "outputs": [
        {
          "output_type": "stream",
          "name": "stdout",
          "text": [
            "<class 'pandas.core.frame.DataFrame'>\n",
            "RangeIndex: 150 entries, 0 to 149\n",
            "Data columns (total 6 columns):\n",
            " #   Column         Non-Null Count  Dtype  \n",
            "---  ------         --------------  -----  \n",
            " 0   Id             150 non-null    int64  \n",
            " 1   SepalLengthCm  150 non-null    float64\n",
            " 2   SepalWidthCm   150 non-null    float64\n",
            " 3   PetalLengthCm  150 non-null    float64\n",
            " 4   PetalWidthCm   150 non-null    float64\n",
            " 5   Species        150 non-null    object \n",
            "dtypes: float64(4), int64(1), object(1)\n",
            "memory usage: 7.2+ KB\n"
          ]
        }
      ]
    },
    {
      "cell_type": "code",
      "source": [
        "print('Iris-setosa')\n",
        "setosa = iris['Species'] == 'Iris-setosa'\n",
        "print(iris[setosa].describe())\n",
        "print('\\nIris-versicolor')\n",
        "setosa = iris['Species'] == 'Iris-versicolor'\n",
        "print(iris[setosa].describe())\n",
        "print('\\nIris-virginica')\n",
        "setosa = iris['Species'] == 'Iris-virginica'\n",
        "print(iris[setosa].describe())"
      ],
      "metadata": {
        "colab": {
          "base_uri": "https://localhost:8080/"
        },
        "id": "1gfsix104fCk",
        "outputId": "0702660a-d25b-4d75-9569-03e564f1b377"
      },
      "execution_count": null,
      "outputs": [
        {
          "output_type": "stream",
          "name": "stdout",
          "text": [
            "Iris-setosa\n",
            "             Id  SepalLengthCm  SepalWidthCm  PetalLengthCm  PetalWidthCm\n",
            "count  50.00000       50.00000     50.000000      50.000000      50.00000\n",
            "mean   25.50000        5.00600      3.418000       1.464000       0.24400\n",
            "std    14.57738        0.35249      0.381024       0.173511       0.10721\n",
            "min     1.00000        4.30000      2.300000       1.000000       0.10000\n",
            "25%    13.25000        4.80000      3.125000       1.400000       0.20000\n",
            "50%    25.50000        5.00000      3.400000       1.500000       0.20000\n",
            "75%    37.75000        5.20000      3.675000       1.575000       0.30000\n",
            "max    50.00000        5.80000      4.400000       1.900000       0.60000\n",
            "\n",
            "Iris-versicolor\n",
            "              Id  SepalLengthCm  SepalWidthCm  PetalLengthCm  PetalWidthCm\n",
            "count   50.00000      50.000000     50.000000      50.000000     50.000000\n",
            "mean    75.50000       5.936000      2.770000       4.260000      1.326000\n",
            "std     14.57738       0.516171      0.313798       0.469911      0.197753\n",
            "min     51.00000       4.900000      2.000000       3.000000      1.000000\n",
            "25%     63.25000       5.600000      2.525000       4.000000      1.200000\n",
            "50%     75.50000       5.900000      2.800000       4.350000      1.300000\n",
            "75%     87.75000       6.300000      3.000000       4.600000      1.500000\n",
            "max    100.00000       7.000000      3.400000       5.100000      1.800000\n",
            "\n",
            "Iris-virginica\n",
            "              Id  SepalLengthCm  SepalWidthCm  PetalLengthCm  PetalWidthCm\n",
            "count   50.00000       50.00000     50.000000      50.000000      50.00000\n",
            "mean   125.50000        6.58800      2.974000       5.552000       2.02600\n",
            "std     14.57738        0.63588      0.322497       0.551895       0.27465\n",
            "min    101.00000        4.90000      2.200000       4.500000       1.40000\n",
            "25%    113.25000        6.22500      2.800000       5.100000       1.80000\n",
            "50%    125.50000        6.50000      3.000000       5.550000       2.00000\n",
            "75%    137.75000        6.90000      3.175000       5.875000       2.30000\n",
            "max    150.00000        7.90000      3.800000       6.900000       2.50000\n"
          ]
        }
      ]
    },
    {
      "cell_type": "code",
      "source": [
        "print('Iris-setosa')\n",
        "setosa = iris['Species'] == 'Iris-setosa'\n",
        "print(iris[setosa].describe())"
      ],
      "metadata": {
        "colab": {
          "base_uri": "https://localhost:8080/"
        },
        "id": "GKcy4YB84qpR",
        "outputId": "bd0d8a8b-7193-4d8a-bcdc-38191c36ba82"
      },
      "execution_count": null,
      "outputs": [
        {
          "output_type": "stream",
          "name": "stdout",
          "text": [
            "Iris-setosa\n",
            "             Id  SepalLengthCm  SepalWidthCm  PetalLengthCm  PetalWidthCm\n",
            "count  50.00000       50.00000     50.000000      50.000000      50.00000\n",
            "mean   25.50000        5.00600      3.418000       1.464000       0.24400\n",
            "std    14.57738        0.35249      0.381024       0.173511       0.10721\n",
            "min     1.00000        4.30000      2.300000       1.000000       0.10000\n",
            "25%    13.25000        4.80000      3.125000       1.400000       0.20000\n",
            "50%    25.50000        5.00000      3.400000       1.500000       0.20000\n",
            "75%    37.75000        5.20000      3.675000       1.575000       0.30000\n",
            "max    50.00000        5.80000      4.400000       1.900000       0.60000\n"
          ]
        }
      ]
    },
    {
      "cell_type": "code",
      "source": [
        "print('Iris-versicolor')\n",
        "irisVer = iris['Species'] == 'Iris-versicolor'\n",
        "print(iris[irisVer].describe())"
      ],
      "metadata": {
        "colab": {
          "base_uri": "https://localhost:8080/"
        },
        "id": "bCc6eyFu4viX",
        "outputId": "9c62ad81-3601-40f9-da23-a947294a6061"
      },
      "execution_count": null,
      "outputs": [
        {
          "output_type": "stream",
          "name": "stdout",
          "text": [
            "Iris-versicolor\n",
            "              Id  SepalLengthCm  SepalWidthCm  PetalLengthCm  PetalWidthCm\n",
            "count   50.00000      50.000000     50.000000      50.000000     50.000000\n",
            "mean    75.50000       5.936000      2.770000       4.260000      1.326000\n",
            "std     14.57738       0.516171      0.313798       0.469911      0.197753\n",
            "min     51.00000       4.900000      2.000000       3.000000      1.000000\n",
            "25%     63.25000       5.600000      2.525000       4.000000      1.200000\n",
            "50%     75.50000       5.900000      2.800000       4.350000      1.300000\n",
            "75%     87.75000       6.300000      3.000000       4.600000      1.500000\n",
            "max    100.00000       7.000000      3.400000       5.100000      1.800000\n"
          ]
        }
      ]
    },
    {
      "cell_type": "code",
      "source": [
        "print('Iris-versicolor')\n",
        "irisVir = iris['Species'] == 'Iris-virginica'\n",
        "print(iris[irisVir].describe())"
      ],
      "metadata": {
        "colab": {
          "base_uri": "https://localhost:8080/"
        },
        "id": "U1KX3nf44z-_",
        "outputId": "d7f6a648-a07e-4ed8-b2de-5cef2ab9c05c"
      },
      "execution_count": null,
      "outputs": [
        {
          "output_type": "stream",
          "name": "stdout",
          "text": [
            "Iris-versicolor\n",
            "              Id  SepalLengthCm  SepalWidthCm  PetalLengthCm  PetalWidthCm\n",
            "count   50.00000       50.00000     50.000000      50.000000      50.00000\n",
            "mean   125.50000        6.58800      2.974000       5.552000       2.02600\n",
            "std     14.57738        0.63588      0.322497       0.551895       0.27465\n",
            "min    101.00000        4.90000      2.200000       4.500000       1.40000\n",
            "25%    113.25000        6.22500      2.800000       5.100000       1.80000\n",
            "50%    125.50000        6.50000      3.000000       5.550000       2.00000\n",
            "75%    137.75000        6.90000      3.175000       5.875000       2.30000\n",
            "max    150.00000        7.90000      3.800000       6.900000       2.50000\n"
          ]
        }
      ]
    },
    {
      "cell_type": "markdown",
      "source": [
        "A. Provide summary statistics (mean, median, minimum, maximum, standard deviation) for a dataset (age, income etc.) with numeric\n",
        "variables grouped by one of the qualitative (categorical) variables. For example, if your categorical variable is age groups and quantitative variable is income, then provide summary statistics of income grouped by the age groups. Create a list that contains a numeric value for each\n",
        "response to the categorical variable."
      ],
      "metadata": {
        "id": "HAUXLg8X3TyO"
      }
    },
    {
      "cell_type": "code",
      "source": [
        "from google.colab import files\n",
        "files.upload()"
      ],
      "metadata": {
        "id": "Ed5MQnOO3fgW",
        "colab": {
          "base_uri": "https://localhost:8080/",
          "height": 1000
        },
        "outputId": "f0c7ad34-84ec-4330-cd5e-87b94bfbfe6d"
      },
      "execution_count": null,
      "outputs": [
        {
          "output_type": "display_data",
          "data": {
            "text/plain": [
              "<IPython.core.display.HTML object>"
            ],
            "text/html": [
              "\n",
              "     <input type=\"file\" id=\"files-dd23c940-84d7-4f23-85fd-690453c5ead1\" name=\"files[]\" multiple disabled\n",
              "        style=\"border:none\" />\n",
              "     <output id=\"result-dd23c940-84d7-4f23-85fd-690453c5ead1\">\n",
              "      Upload widget is only available when the cell has been executed in the\n",
              "      current browser session. Please rerun this cell to enable.\n",
              "      </output>\n",
              "      <script>// Copyright 2017 Google LLC\n",
              "//\n",
              "// Licensed under the Apache License, Version 2.0 (the \"License\");\n",
              "// you may not use this file except in compliance with the License.\n",
              "// You may obtain a copy of the License at\n",
              "//\n",
              "//      http://www.apache.org/licenses/LICENSE-2.0\n",
              "//\n",
              "// Unless required by applicable law or agreed to in writing, software\n",
              "// distributed under the License is distributed on an \"AS IS\" BASIS,\n",
              "// WITHOUT WARRANTIES OR CONDITIONS OF ANY KIND, either express or implied.\n",
              "// See the License for the specific language governing permissions and\n",
              "// limitations under the License.\n",
              "\n",
              "/**\n",
              " * @fileoverview Helpers for google.colab Python module.\n",
              " */\n",
              "(function(scope) {\n",
              "function span(text, styleAttributes = {}) {\n",
              "  const element = document.createElement('span');\n",
              "  element.textContent = text;\n",
              "  for (const key of Object.keys(styleAttributes)) {\n",
              "    element.style[key] = styleAttributes[key];\n",
              "  }\n",
              "  return element;\n",
              "}\n",
              "\n",
              "// Max number of bytes which will be uploaded at a time.\n",
              "const MAX_PAYLOAD_SIZE = 100 * 1024;\n",
              "\n",
              "function _uploadFiles(inputId, outputId) {\n",
              "  const steps = uploadFilesStep(inputId, outputId);\n",
              "  const outputElement = document.getElementById(outputId);\n",
              "  // Cache steps on the outputElement to make it available for the next call\n",
              "  // to uploadFilesContinue from Python.\n",
              "  outputElement.steps = steps;\n",
              "\n",
              "  return _uploadFilesContinue(outputId);\n",
              "}\n",
              "\n",
              "// This is roughly an async generator (not supported in the browser yet),\n",
              "// where there are multiple asynchronous steps and the Python side is going\n",
              "// to poll for completion of each step.\n",
              "// This uses a Promise to block the python side on completion of each step,\n",
              "// then passes the result of the previous step as the input to the next step.\n",
              "function _uploadFilesContinue(outputId) {\n",
              "  const outputElement = document.getElementById(outputId);\n",
              "  const steps = outputElement.steps;\n",
              "\n",
              "  const next = steps.next(outputElement.lastPromiseValue);\n",
              "  return Promise.resolve(next.value.promise).then((value) => {\n",
              "    // Cache the last promise value to make it available to the next\n",
              "    // step of the generator.\n",
              "    outputElement.lastPromiseValue = value;\n",
              "    return next.value.response;\n",
              "  });\n",
              "}\n",
              "\n",
              "/**\n",
              " * Generator function which is called between each async step of the upload\n",
              " * process.\n",
              " * @param {string} inputId Element ID of the input file picker element.\n",
              " * @param {string} outputId Element ID of the output display.\n",
              " * @return {!Iterable<!Object>} Iterable of next steps.\n",
              " */\n",
              "function* uploadFilesStep(inputId, outputId) {\n",
              "  const inputElement = document.getElementById(inputId);\n",
              "  inputElement.disabled = false;\n",
              "\n",
              "  const outputElement = document.getElementById(outputId);\n",
              "  outputElement.innerHTML = '';\n",
              "\n",
              "  const pickedPromise = new Promise((resolve) => {\n",
              "    inputElement.addEventListener('change', (e) => {\n",
              "      resolve(e.target.files);\n",
              "    });\n",
              "  });\n",
              "\n",
              "  const cancel = document.createElement('button');\n",
              "  inputElement.parentElement.appendChild(cancel);\n",
              "  cancel.textContent = 'Cancel upload';\n",
              "  const cancelPromise = new Promise((resolve) => {\n",
              "    cancel.onclick = () => {\n",
              "      resolve(null);\n",
              "    };\n",
              "  });\n",
              "\n",
              "  // Wait for the user to pick the files.\n",
              "  const files = yield {\n",
              "    promise: Promise.race([pickedPromise, cancelPromise]),\n",
              "    response: {\n",
              "      action: 'starting',\n",
              "    }\n",
              "  };\n",
              "\n",
              "  cancel.remove();\n",
              "\n",
              "  // Disable the input element since further picks are not allowed.\n",
              "  inputElement.disabled = true;\n",
              "\n",
              "  if (!files) {\n",
              "    return {\n",
              "      response: {\n",
              "        action: 'complete',\n",
              "      }\n",
              "    };\n",
              "  }\n",
              "\n",
              "  for (const file of files) {\n",
              "    const li = document.createElement('li');\n",
              "    li.append(span(file.name, {fontWeight: 'bold'}));\n",
              "    li.append(span(\n",
              "        `(${file.type || 'n/a'}) - ${file.size} bytes, ` +\n",
              "        `last modified: ${\n",
              "            file.lastModifiedDate ? file.lastModifiedDate.toLocaleDateString() :\n",
              "                                    'n/a'} - `));\n",
              "    const percent = span('0% done');\n",
              "    li.appendChild(percent);\n",
              "\n",
              "    outputElement.appendChild(li);\n",
              "\n",
              "    const fileDataPromise = new Promise((resolve) => {\n",
              "      const reader = new FileReader();\n",
              "      reader.onload = (e) => {\n",
              "        resolve(e.target.result);\n",
              "      };\n",
              "      reader.readAsArrayBuffer(file);\n",
              "    });\n",
              "    // Wait for the data to be ready.\n",
              "    let fileData = yield {\n",
              "      promise: fileDataPromise,\n",
              "      response: {\n",
              "        action: 'continue',\n",
              "      }\n",
              "    };\n",
              "\n",
              "    // Use a chunked sending to avoid message size limits. See b/62115660.\n",
              "    let position = 0;\n",
              "    do {\n",
              "      const length = Math.min(fileData.byteLength - position, MAX_PAYLOAD_SIZE);\n",
              "      const chunk = new Uint8Array(fileData, position, length);\n",
              "      position += length;\n",
              "\n",
              "      const base64 = btoa(String.fromCharCode.apply(null, chunk));\n",
              "      yield {\n",
              "        response: {\n",
              "          action: 'append',\n",
              "          file: file.name,\n",
              "          data: base64,\n",
              "        },\n",
              "      };\n",
              "\n",
              "      let percentDone = fileData.byteLength === 0 ?\n",
              "          100 :\n",
              "          Math.round((position / fileData.byteLength) * 100);\n",
              "      percent.textContent = `${percentDone}% done`;\n",
              "\n",
              "    } while (position < fileData.byteLength);\n",
              "  }\n",
              "\n",
              "  // All done.\n",
              "  yield {\n",
              "    response: {\n",
              "      action: 'complete',\n",
              "    }\n",
              "  };\n",
              "}\n",
              "\n",
              "scope.google = scope.google || {};\n",
              "scope.google.colab = scope.google.colab || {};\n",
              "scope.google.colab._files = {\n",
              "  _uploadFiles,\n",
              "  _uploadFilesContinue,\n",
              "};\n",
              "})(self);\n",
              "</script> "
            ]
          },
          "metadata": {}
        },
        {
          "output_type": "stream",
          "name": "stdout",
          "text": [
            "Saving Age_income.xlsx to Age_income.xlsx\n"
          ]
        },
        {
          "output_type": "execute_result",
          "data": {
            "text/plain": [
              "{'Age_income.xlsx': b'PK\\x03\\x04\\n\\x00\\x00\\x00\\x00\\x00\\x87N\\xe2@\\x00\\x00\\x00\\x00\\x00\\x00\\x00\\x00\\x00\\x00\\x00\\x00\\t\\x00\\x00\\x00docProps/PK\\x03\\x04\\x14\\x00\\x00\\x00\\x08\\x00\\x87N\\xe2@\\xceB\\\\\\x011\\x01\\x00\\x009\\x02\\x00\\x00\\x10\\x00\\x00\\x00docProps/app.xml\\x9d\\x91\\xc1J\\x031\\x10\\x86\\xef\\x82\\xef\\x10r\\xafi\\x8b\\x88\\x94l\\x8a\\xa0\\xe2E,X\\xbd\\xc7\\xecl\\x1b\\xd8MBf\\\\Z\\x9f\\xc5\\x8b\\x07\\xc17\\xf0\\xe4\\xdb(\\xf8\\x18f7\\xa0[\\xf1\\xe4m&\\xff\\xcf?\\xdfO\\xe4|\\xd3\\xd4\\xac\\x85\\x88\\xd6\\xbb\\x82O\\x0e\\xc6\\x9c\\x813\\xbe\\xb4nU\\xf0\\x9b\\xe5\\xf9\\xe8\\x983$\\xedJ]{\\x07\\x05\\xdf\\x02\\xf2\\xb9\\xda\\xdf\\x93\\x8b\\xe8\\x03D\\xb2\\x80,E8,\\xf8\\x9a(\\xcc\\x84@\\xb3\\x86F\\xe3A\\x92]R*\\x1f\\x1bMi\\x8d+\\xe1\\xab\\xca\\x1a8\\xf5\\xe6\\xbe\\x01Gb:\\x1e\\x1f\\t\\xd8\\x10\\xb8\\x12\\xcaQ\\xf8\\x0e\\xe49q\\xd6\\xd2\\x7fCKo:>\\xbc]nC\\x02V\\xf2$\\x84\\xda\\x1aM\\xa9\\xa5\\xba\\xb4&z\\xf4\\x15\\xb1\\xb3\\x8d\\x81Z\\x8a\\xa1(/@w\\xe5\\x17\\xdaFT\\xb2\\xa5Y\\x0b\\x86|dh\\x1fR\\xfd)gw\\x1a\\xa1\\x8b-x\\xab\\xa3\\xd5\\x8eR|g\\xcbK?\\xd7\\x01)\\xaa\\x8f\\xd7\\xe7\\xf7\\xb7\\xc7\\xcf\\xa7\\x17)\\x92\\x9e\\xdf\\xfaqh\\x1d\\xce\\xf6PMzC\\x1av\\x8d]@\\xe6H\\xc2.\\xe1\\xd2R\\rxU-t\\xa4?\\x80\\'C\\xe0\\x9e!\\xe3f\\x9c\\xeb5\\x00\\xe5\\x9bC\\xbe\\xbeq\\xba\\xf4+[\\xfc\\xfc\\xb9\\xfa\\x02PK\\x03\\x04\\x14\\x00\\x00\\x00\\x08\\x00\\x87N\\xe2@ith\\x92B\\x01\\x00\\x00\\\\\\x02\\x00\\x00\\x11\\x00\\x00\\x00docProps/core.xml\\x8d\\x92QK\\xc30\\x14\\x85\\xdf\\x05\\xffC\\xc9{\\x9b\\xb4\\xd59B\\xdb\\x81\\xca\\x9e\\x1c\\x08N\\x14\\xdfBr\\xb7\\x855iH\\xa2\\xdd\\xfe\\xbdi\\xbb\\xd5\\x0e}\\xf01\\xf7\\x9c\\xfb\\xdds/)\\x16\\x07UG_`\\x9dlt\\x89\\xd2\\x84\\xa0\\x084o\\x84\\xd4\\xdb\\x12\\xbd\\xae\\x97\\xf1\\x1cE\\xce3-X\\xddh(\\xd1\\x11\\x1cZT\\xd7W\\x057\\x947\\x16\\x9emc\\xc0z\\t.\\n$\\xed(7%\\xdayo(\\xc6\\x8e\\xef@1\\x97\\x04\\x87\\x0e\\xe2\\xa6\\xb1\\x8a\\xf9\\xf0\\xb4[l\\x18\\xdf\\xb3-\\xe0\\x8c\\x90\\x19V\\xe0\\x99`\\x9e\\xe1\\x0e\\x18\\x9b\\x91\\x88NH\\xc1G\\xa4\\xf9\\xb4u\\x0f\\x10\\x1cC\\r\\n\\xb4w8MR\\xfc\\xe3\\xf5`\\x95\\xfb\\xb3\\xa1W&N%\\xfd\\xd1\\x84\\x9dNq\\xa7l\\xc1\\x07qt\\x1f\\x9c\\x1c\\x8dm\\xdb&m\\xde\\xc7\\x08\\xf9S\\xfc\\xbezz\\xe9W\\x8d\\xa5\\xeen\\xc5\\x01U\\x85\\xe0\\x94[`\\xbe\\xb1\\x15\\x13J\\xea\\x02O*\\xdd\\xf5j\\xe6\\xfc*\\x1cz#A\\xdc\\x1f\\xab\\x9ay\\xb9g\\x05\\xfe\\xad\\x04T\\x9f|\\xe0\\x81\\x88B\\x16:$?+o\\xf9\\xc3\\xe3z\\x89\\xaa\\x8cdyL\\xf28\\xcd\\xd7dF\\xb3;J\\xc8G7\\xf8\\xa2\\xbf\\xcb6\\x14\\xd4i\\xfc?\\x88Y\\xb6No)\\x99\\xd3\\x9b\\xf9\\x84x\\x06T}\\xee\\xcb\\xffP}\\x03PK\\x03\\x04\\x14\\x00\\x00\\x00\\x08\\x00\\x87N\\xe2@\\x8d\\x8e\\xa5\\xdc(\\x01\\x00\\x00\\x0e\\x02\\x00\\x00\\x13\\x00\\x00\\x00docProps/custom.xml\\xa5\\x91]K\\xc30\\x14\\x86\\xef\\x05\\xffC\\xc8}\\x9a\\x8f\\xae];\\xda\\x8e\\xf5c ^(8{_\\xd2t+4Ii\\xd2\\xe9\\x10\\xff\\xbb\\x19s\\x8a\\x17\\xde\\xe8\\xe5\\xe1=<<\\xef9\\xc9\\xfaU\\x0e\\xe0(&\\xd3k\\x95B\\xea\\x11\\x08\\x84\\xe2\\xba\\xed\\xd5>\\x85\\xcf\\xbb-\\x8a 0\\xb6Qm3h%Rx\\x12\\x06\\xae\\xb3\\xdb\\x9b\\xe4q\\xd2\\xa3\\x98l/\\x0cp\\x08eRx\\xb0v\\\\al\\xf8A\\xc8\\xc6x.V.\\xe9\\xf4$\\x1b\\xeb\\xc6i\\x8fu\\xd7\\xf5\\\\\\x94\\x9a\\xcfR(\\x8b\\x19!!\\xe6\\xb3\\xb1Z\\xa2\\xf1\\x0b\\x07/\\xbc\\xd5\\xd1\\xfe\\x15\\xd9j~\\xb63\\xf5\\xee4:\\xdd,\\xf9\\x84\\x9f@\\'m\\xdf\\xa6\\xf0\\xad\\x0c\\x8a\\xb2\\x0cH\\x80X\\x15\\x17\\x88\\x12\\x9a\\xa3\\xd8\\x8f\\x97\\x88D\\x84\\xb0\\x9c\\x15\\xdbxS\\xbdC0\\x9e\\x97\\x19\\x04\\xaa\\x91\\xae\\xfa]Q;\\xd6\\xd1\\xae\\x86\\xf1\\xc5\\xd8)+\\xc2\\x9c.\\x8b\\x80TU\\x10,\\xca\\xaa\\x8a\\xcbh\\x13,\\x19\\r7l\\x11F!I\\xf0\\xf7n\\x82\\xaf\\x0e\\xff\\xb4\\xf1\\xaf6\\xf7O\\x0f\\xaed;s\\x9b\\xcf\\xfd\\xd0\\xd6b\\xfa!G\\x89\\xef#J=\\xe6\\x11\\x8f\\xd2E\\x14\\xfef\\x83\\xcf\\xa7\\xba<2\\xfb\\x00PK\\x03\\x04\\n\\x00\\x00\\x00\\x00\\x00\\x87N\\xe2@\\x00\\x00\\x00\\x00\\x00\\x00\\x00\\x00\\x00\\x00\\x00\\x00\\x03\\x00\\x00\\x00xl/PK\\x03\\x04\\n\\x00\\x00\\x00\\x00\\x00\\x87N\\xe2@\\x00\\x00\\x00\\x00\\x00\\x00\\x00\\x00\\x00\\x00\\x00\\x00\\n\\x00\\x00\\x00xl/tables/PK\\x03\\x04\\x14\\x00\\x00\\x00\\x08\\x00\\x87N\\xe2@~\\x1f\\x0c\\xa5$\\x01\\x00\\x00\\x14\\x02\\x00\\x00\\x14\\x00\\x00\\x00xl/tables/table1.xmlm\\x91\\xddN\\xc2@\\x10\\x85\\xefM|\\x87\\xcd\\xde\\xcb\\x16$\\xc6\\x10ZB4\\x18\\x12\\xf5B\\xf0\\x01Vvh7\\xd9\\x9ffg*\\xf2\\xf6N[k p9g\\xe6\\xcc~sv\\xbe\\xf8\\xf1N|CB\\x1bC.\\xc7\\xa3L\\n\\x08\\xbbhl(s\\xf9\\xb9]\\xdd=J\\x81\\xa4\\x83\\xd1.\\x06\\xc8\\xe5\\x11P.\\x8a\\xdb\\x9b9\\xe9/\\x07\\x82\\xdd\\x01sY\\x11\\xd53\\xa5pW\\x81\\xd78\\x8a5\\x04\\xee\\xecc\\xf2\\x9a\\xb8L\\xa5\\xc2:\\x816X\\x01\\x90wj\\x92e\\x0f\\xcak\\x1b\\xa4\\xb0\\x86\\x9f\\x95\"h\\xcf\\xdb\\xb7\\xedR\\xae\\x8c\\xc5\\xda\\xe9\\xe3\\xfb\\x99\\x98`\\x9f\\xcb\\xe5x\\xf6<\\xe1\\t\\x8a\\xa4\\x1d~\\xc4\\xc3\\xa6\\x8a\\x07&\\xcfd1\\xd7\\r\\xc5\\x95u\\x04I\\x9c\\xce\\xaa\\xa2\\x87}\\x8a\\xae\\xf1\\x01\\xc5.6\\x81r9eGwD\\xaf\\x9f\\x83\\xac\\x8d<\\xb7u\\xed\\xc9\\xc0\\xb9,\\xe1Z\\xff~\\xe8\\xbf@0\\x90\\xae\\x8dL\\x87\\x915\\xa7\\xec\\xbb-\\xea\\x84\\x02\\xff\\x986tt\\xb0\\x0e\\xfbx\\x1aL\\'\\xbe\\x81\\xb1\\x8dg\\x12\\xe4\\xc3W6!\\xf5\\xfcm\\x04\\x9d\\xf6\\xaa/\\xa46&J\\xb6\\x06\\xfe*\\xce\\xaeu\\xf6\\xa6\\x7f5kY{\\x90\\xe2\\x17PK\\x03\\x04\\n\\x00\\x00\\x00\\x00\\x00\\x87N\\xe2@\\x00\\x00\\x00\\x00\\x00\\x00\\x00\\x00\\x00\\x00\\x00\\x00\\x0e\\x00\\x00\\x00xl/worksheets/PK\\x03\\x04\\x14\\x00\\x00\\x00\\x08\\x00\\x87N\\xe2@!\\xb4\\x04\\xed-\\x05\\x00\\x00}\\x14\\x00\\x00\\x18\\x00\\x00\\x00xl/worksheets/sheet1.xml\\x95\\x98Q\\x8f\\xa36\\x10\\x80\\xdf+\\xf5? \\x9eZ\\xa9\\x17\\xb0\\x81\\x10VIN\\x0b\\xb9\\xd5\\x9d\\xd4\\x9eV\\xd7k\\xef\\x99%\\xce\\x06-\\xe0\\x14\\x9cd\\xef\\xdfwl\\x13\\x1c\\x1c{\\x93\\xcdC\\x02c<3\\xdf\\xcc\\xd8C<\\xff\\xf8ZW\\xce\\x81\\xb4]I\\x9b\\x85\\x8b&\\xbe\\xeb\\x90\\xa6\\xa0\\xeb\\xb2y^\\xb8\\xff|\\x7f\\xf80s\\x9d\\x8e\\xe5\\xcd:\\xafhC\\x16\\xeeO\\xd2\\xb9\\x1f\\x97\\xbf\\xfe2?\\xd2\\xf6\\xa5\\xdb\\x12\\xc2\\x1c\\xd0\\xd0t\\x0bw\\xcb\\xd8\\xee\\xce\\xf3\\xbabK\\xea\\xbc\\x9b\\xd0\\x1di`dC\\xdb:gp\\xdb>{\\xdd\\xae%\\xf9ZL\\xaa+\\x0f\\xfb\\xfe\\xd4\\xab\\xf3\\xb2q\\xa5\\x86\\xbb\\xf6\\x16\\x1dt\\xb3)\\x0b\\xb2\\xa2\\xc5\\xbe&\\r\\x93JZR\\xe5\\x0c\\xfc\\xef\\xb6\\xe5\\xae;i{]\\xdf\\xa4o\\xdd\\xe6G`=\\xf9s\\xe6\\xe2J\\x8e\\x0c\\xfaPx\\xe1_]\\x16-\\xed\\xe8\\x86M\\nZ{\\xd2\\xb5K\\xca\\xc4KF\\x9cuq\\xa1\\xc8\\x10\\xac:o_\\xf6\\xbb\\x0f\\xa0x\\x07pOeU\\xb2\\x9f\\x02\\xf7\\xe4\\x10aJ\\xcf\\xf1x\\x9c\\x1cw\\xdd\\xa4hz/\\xce\\x02\\x84b\\x8f\\xb0l\\xdf1Z\\xafr\\x96\\xbb\\xcb\\xb9\\xc8\\xc0c\\xeb-\\xe7\\xeb\\x12\\xa2\\xc8S\\xef\\xb4d\\xb3p\\xef\\xd1\\xdd\\n#\\x17\\x06\\xc4#\\xff\\x96\\xe4\\xd8\\x9d];,\\x7f\\xfa\\x9bT\\xa4`d\\r\\xb5\\xe2:\\xbc\\x06\\x9e(}\\xe1\\x0f~\\x01\\x91\\xcf\\x95\\x8b\\x07\\xb8\\xca\\xbc`\\xe5\\x81d\\xa4\\xaa\\x16\\xee\\x03\\x8a\\xa0\\x8e\\xfe\\x13V\\xf85\\x98\\xf0\\x06\\x1b\\xe7\\xd7\\'{\\x0f\\xa2n\\x1e[gM6\\xf9\\xbeb\\x19\\xad~\\x94k\\xb6]\\xb8\\x89{\\x92}\\xa3\\xc7\\xcf\\xa4|\\xde2p\\x06\\xd4\\xd3=\\xab\\xca\\x86\\xfcI\\x0e\\xa4\\x82\\xc7\\x17n\\xc0\\xcd\\x14\\xb4\\x02\\x9d\\xf0\\xed\\xd4%Tx\\xe0:u\\xfe*~\\x8f\\xbd\\xbe\\xc9,\\x8aQ\\x88\\xfb\\xef\\xa9\\xeb\\x14\"X\\xbd9\\x11\\x8eaz\\xd8O\\x87\\xdfa\\xfa\\xd9dPd\\x9a\\xeeI\\'\\x040\\xcf\\xc1r\\xde\\xd2\\xa3\\x03\\xf5\\tOw\\xbb\\x9c\\xaf\\x1et\\x17B\\xf0\\n.\\xbc\\x07) up\\x7fX\\xfas\\xef\\x00\\xf1)\\xfa\\xb1\\xf4|\\x0c\\x8d\\xc7\\xb2\\xf31<\\x1e[\\x9d\\x8f\\x05\\xc3\\x98\\x07~\\x0c\\xce`\\xa33X\\xb8\\xa1\\x99J\\xb9t\\xe3\\x149GX~\\xbb\\xff\\xbaJ?}\\xff\\xf1\\xe9\\xd3\\xd7\\xdf\\xb0\\xff\\xc7\\xd4\\xff}\\xeem\\xb8\\xf3\\x91\\xe6E\\x06&\\x06\\xb2p\\xf0BP\\xaf\\xac*\\x91\\x0f\\x1f\\xd0\\n\\x9f\\x93b\\x8c\\x13\\xact\\x8f( \\xc1\\x86\\x90\\x06\\x82BM\\x11&S.\\xbdN\\x815\\xf8\\x0cLX)\\xac*\\r\\x14a\\x94\\x84\\xb3!\\n#\\n\\xa8/\\x03\\x05/\\x91\\xc3R\\xa5ORp\\xe9\\r\\x14\\xda\\xb4\\x0cLX)\\xac*\\r\\x14\\x08\\xc7Qb\\xa6\\xe0k\\xfe\\xb2\\xbc#A\\xa1\\xa5?\\xe5\\xd2\\xeb\\x14A4X\\x12\\xf0\\x19\\x98\\xb0RXU\\x1a(0F\\xb3\\xe9\\xa0{\\x94\\x0b\\xd8\\x11\\x0c\\x14SA\\xa1\\xb9\\x93r\\xe9u\\x8aH\\xaf(0a\\xa5\\xb0\\xaa4P\\x04I\\x10[(b#E,(\\xd4\\x14YQ\\\\z\\x9d\\x02\\xab\\xda\\x95\\xb9\\x00\\x13\\x03\\x85\\x16\\x98\\x95U\\xa5\\x81\"\\x8aC\\xa4\\\\\\x1a\\xe5\\x82\\xbf\\x8d\\\\V\\xd4LP\\xc4C\\xfa$\\x05\\x97\\xde@\\xa1\\xed\\xb0\\x19\\x98\\x18(\\xb4\"]YU\\x1a(\\x82h6\\xb3\\xac\\x0bha\\x06\\x8aDPhAM\\xb9\\xf4:E\\xa0\\xafn01P\\xe8\\xb9\\xb0\\xaa4P\\xa0\\xc0OT\\x84F\\xb9@\\xf0\\xaeh\\xc0\\x001\\xdf\\xa5\\x14\\xba\\xcc\\x86\\x10_\\x07\\t\\xb5,f\\xdc\\xca@\\xa2\\xe7\\xc3\\xae\\xd4\\x80\\x82\\xfd\\xd8VV\\x08\\xda\\xa3\\t\\x05\\x9a\\x1b\\xa0 \\x15\\x80\\x9e\\x85\\xcb\\xaf\\xb3D\\xaa\\x88\\xe5\\x02\\xe1f\\xec,V\\xa5\\x06\\x96p\\x86\\x13\\x15\\xe1qZ\\xcc}\\x1c\\xf5\\x8d\\\\\\xdbzR!\\xbf\\x81E/0\\x98\\xf7\\x06\\xcb{\\x9ay\\x14\\xceB\\xa5}\\xccb\\xee\\xe6H\\xb6s\\xa4\\xf7s!\\xbf\\xce\\x12h\\xf9\\xcc`\\x9eb\\xd1W\\x8b]\\xa9!/8\\x0eB\\xa5`\\xccb\\xee\\xe9H6u\\xa4\"\\xd0\\xd7\\x98\\xb5\\x07\\x8f^\\xb1\\x82\\x8b\\x1a{\\xab\\xaf\\x0bc\\xc6\\x00\\x19Y\"\\xdf\\xc6b\\xee\\xec\\xf0\\x16.\\xd6\\x8b\\xb6LS!7\\x9a\\x1d\\xb1\\\\\\xae\\xfd\\xb7\\xba\\xbb]\\xa9\\x81%HfS\\x15\\xe1q^\\xcc\\xfd\\x1d\\xc9\\x06\\x8fT\\x04\\xfa\\xbcX\\xfb\\xf1\\x98E\\xdb\\xc73\\xd0\\xf7F\\x8dY\\x95\\x1aX\\xc2\\x10\\xf9*\\xebc\\x16s\\x97G\\xb2\\xcd\\x9f\\xed~=\\x8b\\xb5+\\x8fX\\x02\\xb5\\xd3\\xf4\\xfb\\xd8y\\xa7\\xd7\\x92\\xbd\\x12\\xc6\\x8c\\xc96\\xb0\\x04Q4U;\\xd2\\x98\\xc5\\xdc\\xeb\\x91l\\xf6H\\xeb\\x13\\xa9\\x90\\x1b\\xcd\\x8eX\\xb0\\x96\\xcf\\x0c\\xe6\\xa9\\xbc\\\\\\xb0\\xbc\\xa7\\xe1#X\\xfajg\\x19\\xb3\\x98;>\\x92-\\x1fi\\xb5\\x92\\n\\xf9u\\x96\\x8b\\xbfW0\\xef\\r\\x96\\xf7\\xb4}\\x1c\\xe1\\xa9\\n\\xc6\\x88\\x05\\x9b\\xdb>\\x88\\xc5\\xda\\xd7j%\\x15\\xf2\\xeb,XEN\\xd6\\x1873\\xf4J-i+\\xbbRC\\x8dE1\\x8e\\x95Wc\\x16s\\xdf\\xc7\\xb2\\xef\\xeb>\\xa5B~\\x03\\x8b\\xe6n\\x06\\xf3\\x14\\x8b\\n\\xab\\x00\\xe5\\x07.\\x96\\x97\\t\\x03\\x0b\\x0e\\x82\\xb3\\n\\x96,\\xf2 E\\x9e+\\xec\\xf2g\\xf2W\\xde>\\x97M\\xe7Td\\x03\\x01\\xf4\\'\\xb0X[yJ\"\\xae\\x19\\xdd\\t)\\xec\\xadO\\x94\\xc1\\xa9\\xd0\\xe9n\\x0b\\x87s\\x04\\xce\\x1f\\xfc\\t\\xb4\\xc3\\r\\xa5\\xect\\x03\\xa7(r\\xecA\\x08\\xe1\\x16\\x0e\\x82*\\xf2\\x98\\xb7\\xacs\\n\\xbao\\xc0\\x0c\\x87\\x18\\xa4N{W\\xae\\x17n\\xfbe-NO\\xbca\\x00Nb\\xbc\\xe1\\xe0p\\xf9?PK\\x03\\x04\\n\\x00\\x00\\x00\\x00\\x00\\x87N\\xe2@\\x00\\x00\\x00\\x00\\x00\\x00\\x00\\x00\\x00\\x00\\x00\\x00\\t\\x00\\x00\\x00xl/theme/PK\\x03\\x04\\x14\\x00\\x00\\x00\\x08\\x00\\x87N\\xe2@ep\\x0b\\xef\\xe4\\x05\\x00\\x00$\\x19\\x00\\x00\\x13\\x00\\x00\\x00xl/theme/theme1.xml\\xedYKo\\x1b7\\x10\\xbe\\x17\\xe8\\x7fX\\xec\\xbd\\x91d\\xeb\\x11\\x19\\x91\\x03[\\x8f\\xb8\\x89\\x9d\\x04\\x91\\x92\"Gj\\x97\\xdae\\xc4].H\\xca\\x8enEr\\xea\\xa5@\\x81\\xb4\\xe8\\xa5@o=\\x14E\\x034@\\x83^\\xfac\\x0c$h\\xd3\\x1f\\xd1!w\\xb5\"%*~\\xc0\\x87\\xb4\\x88}\\xf1r\\xbf\\x19~\\x9c\\x19~C\\xaeo\\xdc|\\x9aP\\xef\\x18sAX\\xda\\xf1k\\xd7\\xaa\\xbe\\x87\\xd3\\x80\\x85$\\x8d:\\xfe\\xc3\\xd1\\xe0\\xb3\\xeb\\xbe\\'$JCDY\\x8a;\\xfe\\x1c\\x0b\\xff\\xe6\\xee\\xa7\\x9f\\xdc@;2\\xc6\\t\\xf6\\xc0>\\x15;\\xa8\\xe3\\xc7Rf;\\x95\\x8a\\x08`\\x18\\x89k,\\xc3)\\xbc\\x9b0\\x9e \\t\\x8f<\\xaa\\x84\\x1c\\x9d\\x80\\xdf\\x84V\\xb6\\xaa\\xd5f%A$\\xf5\\xbd\\x14%\\xe0\\xf6\\xdedB\\x02\\xec\\x8d\\x94K\\x7fw\\xe1\\xbcO\\xe11\\x95B\\r\\x04\\x94\\x0f\\x95klYhl8\\xad)\\x84\\x98\\x8b.\\xe5\\xde1\\xa2\\x1d\\x1f\\xe6\\t\\xd9\\xc9\\x08?\\x95\\xbeG\\x91\\x90\\xf0\\xa2\\xe3W\\xf5\\x8f_\\xd9\\xbdQA;\\x85\\x11\\x95\\x1bl\\r\\xbb\\x81\\xfe)\\xec\\n\\x83p\\xba\\xa5\\xe7\\xe4\\xd1\\xb8\\x9c\\xb4^o\\xd4\\x9b{\\xa5\\x7f\\r\\xa0r\\x1d\\xd7o\\xf5\\x9b\\xfdf\\xe9O\\x03P\\x10\\xc0Js.\\xa6\\xcf\\xc6~{\\xbf\\xd7(\\xb0\\x06(\\xff\\xd3\\xe1\\xbb\\xd7\\xeam\\xd7,\\xbc\\xe1\\x7f{\\x8d\\xf3^C\\xfdZx\\r\\xca\\xfd\\xd7\\xd7\\xf0\\x83A\\x17\\xa2h\\xe15(\\xc77\\xd6\\xf0\\xf5zk\\xab[\\xb7\\xf0\\x1a\\x94\\xe3\\x9bk\\xf8Vu\\xafWoYx\\r\\x8a)I\\xa7k\\xe8j\\xa3\\xb9\\xdd]\\xac\\xb6\\x84L\\x18=p\\xc2\\xdb\\x8d\\xfa\\xa0\\xb5U8_\\xa2\\xa0\\x1a\\xca\\xeaRSLX*7\\xd5Z\\x82\\x9e0>\\x00\\x80\\x02R$I\\xea\\xc9y\\x86\\'(\\x80*\\xee\"J\\xc6\\x9cx\\x87$\\x8a\\xa5\\x9a\\x06\\xed`d\\xbc\\xcf\\x87\\x02\\xb16\\xa4f\\xf4D\\xc0I&;\\xfe\\xed\\x0c\\xc1\\xbeXz}\\xf3\\xfa\\xf5\\xe9\\xb3W\\xa7\\xcf~?}\\xfe\\xfc\\xf4\\xd9\\xaf\\xa6w\\xcb\\xee\\x00\\xa5\\x91i\\xf7\\xee\\xa7o\\xfe\\xf9\\xe1K\\xef\\xef\\xdf~|\\xf7\\xe2\\xdb|\\xeaU\\xbc0\\xf1o\\x7f\\xf9\\xea\\xed\\x1f\\x7f\\xbe\\xcf=l&\\x83\\xd6w/\\xdf\\xbez\\xf9\\xe6\\xfb\\xaf\\xff\\xfa\\xf9\\x85\\xc3\\xfb\\x1eGc\\x13>\"\\t\\x16\\xde]|\\xe2=`\\t,PG\\xc7\\xe6\\x83\\xc7\\xfcb\\x16\\xa3\\x18\\x11\\xcb\\x02\\xc5\\xe0\\xdb\\xe1\\xba/c\\x0bxw\\x8e\\xa8\\x0b\\xb7\\x8f\\xed\\x10>\\xe2\\xa0#.\\xe0\\xad\\xd9\\x13\\x8b\\xeb0\\xe63I\\x1c3\\xdf\\x89\\x13\\x0bx\\xc4\\x18\\xddg\\xdc\\x19\\x80;j.#\\xc2\\xa3Y\\x1a\\xb9\\'\\xe73\\x13\\xf7\\x00\\xa1c\\xd7\\xdc]\\x94Z\\t\\xee\\xcf2\\x10P\\xe2r\\xd9\\x8d\\xb1E\\xf3>E\\xa9D\\x11N\\xb1\\xf4\\xd4;6\\xc5\\xd8\\xb1\\xba\\xc7\\x84Xq=\"\\x01g\\x82M\\xa4\\xf7\\x98x\\xfb\\x888C2\"c\\xab\\x90\\x96F\\x07$\\x81\\xbc\\xcc]\\x04!\\xd5Vl\\x8e\\x1ey\\xfb\\x8c\\xbaV\\xdd\\xc3\\xc76\\x12\\xb6\\x05\\xa2\\x0e\\xf2#L\\xad0\\xdeB3\\x89\\x12\\x97\\xcb\\x11J\\xa8\\x19\\xf0C$c\\x17\\xc9\\xe1\\x9c\\x07&\\xae/$d:\\xc2\\x94y\\xfd\\x10\\x0b\\xe1\\xb2\\xb9\\xc7a\\xbdF\\xd2\\xef\\x80\\x86\\xb8\\xd3~D\\xe7\\x89\\x8d\\xe4\\x92L]>\\x0f\\x11c&\\xb2\\xc7\\xa6\\xdd\\x18%\\x99\\x0b;$ilb?\\x17S(Q\\xe4\\xddg\\xd2\\x05?b\\xf6\\x0eQ\\xcf\\x90\\x07\\x94nL\\xf7#\\x82\\xadt\\x9f-\\x04\\x0fA>MJ\\xcb\\x02Qof\\xdc\\x91\\xcb[\\x98Y\\xf5;\\x9c\\xd3\\t\\xc2Ze@\\xdd-\\xd1NHz\\xa6\\x82\\xe73\\\\\\xbdv;\\x98_\\x8dj\\xbb\\x1d[q\\x7fs1\\xbd\\xde\\xe3\\xc4\\xb9k\\x0eVTz\\x13\\xee?\\xa8\\xcd=4K\\xefc\\xd8\\x0e\\xeb\\xbd\\xe9\\xa34\\x7f\\x94f\\xff\\x7f/\\xcd\\x9b\\xf6\\xf2\\xd5\\x0b\\xf2R\\x83A\\x9e\\xd5)0?o\\xeb\\xd3w\\xb2\\xf1\\xf0=!\\x94\\x0e\\xe5\\x9c\\xe2C\\xa1\\xcf\\xdf\\x02:O8\\x80Ae\\xa7/\\x9e\\xb8\\xbc\\x8ce1\\xfc\\xa9v2L`\\xe1\"\\x8e\\xb4\\x8d\\xc7\\x99\\xfc\\x82\\xc8x\\x18\\xa3\\x0c\\xce\\xee5_9\\x89D\\xe1:\\x12^\\xc6\\x04\\xdc\\x19\\xf5\\xb0\\xd3\\xb7\\xc2\\xd3Yr\\xc4\\xc2\\xfc\\xceY\\xab\\xa9\\xfbe.\\x1e\\x02\\xc9\\xe5x\\xb5Q\\x8e\\xc3}A\\xe6\\xe8fky\\x8f*\\xddk\\xb6\\x91\\xbe\\xef.\\x08(\\xdb\\x8b\\x900&\\xb3Il;H\\xb4\\x16\\x83*H\\xfav\\rAs\\x90\\xd0+\\xbb\\x12\\x16m\\x07\\x8b\\xeb\\xca\\xfd\"Uk,\\x80Z\\x99\\x158\\x1ayp\\xa0\\xea\\xf8\\x8d:\\x98\\x80\\x11\\\\\\x9a\\x10\\xc5\\xa1\\xcaS\\x9e\\xeaEvu2\\xaf2\\xd3\\x9b\\x82iU@\\x15>l\\x14\\x15\\xb0\\xcct[q\\xdd\\xb8<\\xb5\\xba\\xbc\\xd4\\xce\\x91i\\x8b\\x84Qn6\\t\\x1d\\x19\\xdd\\xc3D\\x8cB\\\\T\\xa7\\x1a=\\x0f\\x8d\\x8b\\xe6\\xba\\xbdL\\xa9EO\\x85\\xa2\\x88\\x85A\\xa3u\\xfd},.\\x9bk\\xb0[\\xd5\\x06\\x9a\\x9aJAS\\xef\\xa4\\xe37\\xb7\\x1bP2\\x01\\xca:\\xfe\\x04\\xee\\xee\\xf0g\\x92A\\xed\\x08u\\xa4E4\\x82\\x0f`\\x81\\xe4\\xf9\\x86\\xbf\\x8c\\xb2d\\\\\\xc8\\x1e\\x12q\\x1ep-:\\xb9\\x1a$Db\\xeeQ\\x92t|\\xb5\\xfc2\\r4\\xd5\\x1a\\xa2\\xb9\\xd5\\xb6@\\x10>Xrm\\x90\\x95\\x0f\\x8d\\x1c$\\xddN2\\x9eLp \\xcd\\xb4\\x1b#*\\xd2\\xf9#(|\\xae\\x15\\xce\\xb7\\xda\\xfc\\xf2`e\\xc9f\\x90\\xeea\\x1c\\x9exc:\\xe3\\x0f\\x10\\x94X\\xa3US\\x01\\x0c\\x89\\x80\\x0f<\\xb5<\\x9a!\\x81o\\x92\\xa5\\x90-\\xebo\\xa51\\x15\\xb2k~\\x14\\xd45\\x94\\x8f#\\x9a\\xc5\\xa8\\xe8(\\xa6\\x98\\xe7p-\\xe5%\\x1d\\xfdT\\xc6\\xc0x*\\xd6\\x0c\\x015BR4\\xc2q\\xa4\\x1a\\xac\\x19T\\xab\\x9b\\x96]#\\xe7\\xb0\\xb1\\xeb\\x9em\\xa4\"g\\x88\\xe6\\xb2gZ\\xaa\\xa2\\xba\\xa6[\\xc5\\xac\\x19\\x16m`%\\x96\\x97k\\xf2\\x06\\xabE\\x88\\xa1]\\x9a\\x1d>\\x97\\xeeU\\xc9m/\\xb4n\\xe5\\x9cPv\\t\\x08x\\x19?G\\xd7=GC0\\xa8-\\'\\xb3\\xa8)\\xc6\\xeb2\\xac4\\xbb\\x18\\xb5{\\xc7b\\x81gP;O\\x930T\\xbf\\xb9p\\xbb\\x12\\xb7\\xb2G8\\xa7\\x83\\xc1Ku~\\xb0[\\xadZ\\x18\\x9a,\\xce\\x95:\\xd2\\xfa\\x9f\\x17\\xe6\\xff\\x17\\xd8\\xf8\\t\\x88G\\x0f\\xbe\\xe4\\xce\\xa8\\x14\\xb9@h\\xd0\\xee\\xbfPK\\x03\\x04\\x14\\x00\\x00\\x00\\x08\\x00\\x87N\\xe2@\\xc9e?\\xa7u\\t\\x00\\x00\\xccK\\x00\\x00\\r\\x00\\x00\\x00xl/styles.xml\\xd5\\\\mo\\xa3F\\x10\\xfe^\\xa9\\xff\\x01qj?\\x9c\\x9a\\x987\\xbfp\\x17\\xe7zqB\\xef\\xa4\\xeb\\xf5\\xa4K\\xd5Jmu\\xc26NPyq\\x01_\\x93V\\xfd\\xd2\\x7f\\xd5\\xbf\\xd3_\\xd2\\xd9]`g\\xf1\\x1as\\x8d\\xc1$\\x96b\\x0c\\x0c\\xf3\\xcc\\xcc3\\xb3\\xbb\\xec\\xc2\\xd9\\x8b\\xbb0P>zI\\xea\\xc7\\xd1T\\xd5O5U\\xf1\\xa2E\\xbc\\xf4\\xa3\\x9b\\xa9\\xfa\\xfd\\xb5s2Q\\x954s\\xa3\\xa5\\x1b\\xc4\\x917U\\xef\\xbdT}q\\xfe\\xf9ggiv\\x1fx\\xefo=/S\\xe0\\x12Q:Uo\\xb3l\\xfdl0H\\x17\\xb7^\\xe8\\xa6\\xa7\\xf1\\xda\\x8b\\xe0\\xc8*NB7\\x83\\x9f\\xc9\\xcd ]\\'\\x9e\\xbbL\\x89P\\x18\\x0c\\x0cM\\x1b\\rB\\xd7\\x8f\\xd4\\xf3\\xb3h\\x13:a\\x96*\\x8bx\\x13eS\\xd5*w)\\xec\\xc8\\xeb%\\x80\\x1b\\x8fT\\x85]n\\x16/\\x01\\xcb\\x07\\xe5\\xcb\\xdf6q\\xf6\\xfc\\xdf\\xbf\\xffa\\x1bO\\x95\\'_=y\\xa2\\x9dj\\xda\\x07\\xe5\\xb9\\xe4\\xe8\\xcf\\'\\xf5\\xc7\\xd9UN\\xd8\\xd7\\x8b\\x17\\xf4\"_\\x7fP\\xd4A\\x01P@3\\xae\\xa2\\xa9\\xa8\\x7f\\xaaT\\xf4=\\xcd\\xf16U\\x00\\xae\\x17\\xcd\\xcd\\x15P\\\\\\xe5\\xd5\\xf3_\\x02\\xf6=\\xc8\\xed\\xea\\x85\\x99p\\xd5\\x8f\\xf4*[\\x87r\\xa3\\xe4\\x07w\\xa2\\x18\\xe4\\x11>?[\\xc5\\x11\\x0f\\xb4\\xa1C\\xa4\\xc9\\x9e\\xf3\\xb3\\xf4\\x0f\\xe5\\xa3\\x1b@\\x98u\\xe2\\xefE\\x1c\\xc4\\x89\\x92\\x01\\x95 \\xd0tO\\xe4\\x86\\x1e;c\\xe6\\x06\\xfe<\\xf1\\xe9i\\xb7n\\x92\\x02\\x05\\x99\\xa4i\\x91}\\x94\\x80\\xf9\\xa9\\xa1\\x1f\\xc5\\t\\xd99`J\\xd8\\xff\\r9K\\xa2.\\xb9\\x99OU\\xc7\\xd1\\xe0\\xcfq\\x88\\xd4~\\x9dZ3\\x8d\\xf3z\\x8d\\xa6C>\\x9dh\\xcc]j6S\\xa67u\\xa9\\xcc\\x9d-E\\xef\\xe1\\xaa\\x1a\\x06\\xadF\\x11\\xbd\\xc2\\xc1\\xd8!S\\x94s\\x91\\xb1\\xb1Y\\xb0\\x1e`V\\xae\\x8d\\xb0\\x10\\xaa\\xec!\\x99\\xbf\\'\\xd7&\\x90k\\x93\\xc3zs^\\x9fk\\x0e\\xfd;\\xa8\\x8d\\x82F\\x9aYB\\xf9:t\\xae\\t\\xea&\\xc4\\x92V\\xd5\\xf9\\xf5\\xfe\\x1c;\\xe4\\xd3\\x9e?\\x87\\xad\\x1bX\\x93~\\xf6\\x0c\\xf8y\\xd8\\x84\\xa8\\xd1\\x06\\xaat\\xad\\xdbdx9\\xbe<\\xb0\\xc6\\x1a\\xfb\\xec\\xd9h\\xd8\\x9d6\\xe7\\xf0\\xb6\\t\\x99\\xf7\\xbf\\xfb){\\xeb4\\xed\\xac\\xa4\\xd01\\xf2\\x83\\xa0\\xec\\x13\\x9b&\\xe9*\\xc1\\x9e\\xf3\\xb3\\xb5\\x9be^\\x129\\xf0C\\xc9\\xb7\\xaf\\xef\\xd7\\xd0Q\\x8a\\xa0\\x8fN\\xd2e\\xc0\\xce\\xdbs\\xf6M\\xe2\\xde\\xeb\\x06\\xcd\\xaff\\x02i\\x1c\\xf8K\\x82\\xe2fF\\xbbgE\\x1be8\\xf0!z\\xe7\\xf9\\x01?Zzw\\x1e\\xf4\\xd9G\\xb4G6@\\x80\\x9b\\x82\\xab\\xea\\xca;\\x13\\xd0\\xe9\\xce|2D\\xd0N\\x876\\xfc\\x99\\x13{d\\xd8\\x13]\\xa3f\\xb4\\xaf\\xbf#50\\xd29\\xaa\\x99\\xd6\\xb1\\xf4\\x17\\x94rf3\\xdb\\xee\\x86RCn\\xeb\\x18\\x185\\xd1G\\x93\\xc9\\xc4\\xb6L\\x9dr\\xb7}J!_\\x1fE?\\xb2\\xff()\\xd5Q\\x98Q\\xe50!\\xcc\\xe3\\xe1p2\\xd4m\\xc3\\xd2;\\xd2O;j\\xed\\xb3\\tE\\xf3Hf\\x96\\x95\\xab[6\\xe7\\x95\\xe3\\xe5\\x90|Z\\xae\\x1ce\\x95r\\xa0N\\xb5\\xac+o\\xf8\\xe0\\x9eM\\xd1\"\\x1c%\\xae(}\\xba\\x8dkn?\\xaa\\x92G\\xb1\\x1f\\xb5\\xc8\\xdd\\xea/\\xb96\\x1b\\xcf\\xaeZ\\xe6Z\\xaek6\\xbar\\xba\\xd2\\xe58W\\x17vG9\\xd4Q\\x83>n9J\\xdb\\x15\\xe1(\\x19I\\x87\\xc5\\xed7h(\\xf1\\x8eb&*\\xbcG\\xe9\\x1e\\xc1,\\xc0Q\\x0b?\\xd2\\xff@\\xfb\\xe9 \\x13\\x86\\xb5\\xf38Y\\xc2\\x8cS1\\xd9c\\xc3\\x88\\x92\\xed:?\\x0b\\xbcU\\x06\\xe3\\xc8\\xc4\\xbf\\xb9%\\xdfY\\xbc&\\xa3\\xca8\\xcb\\xe2\\x106\\x96\\xbe{\\x13Gn\\x00\\x9b\\x83B\\xa2\\xf8&\\x920S\\x05\\x93RS5\\xbb\\xa5\\x93J\\xec\\xaeX^\\xd3\\xf8-\\xf6\\x0195\\xd7\\xd1P\\x82\\xe2\\xa1p\\x1a\\n\\x00\\xf0\\x02wC\\tf\\xe4\\xc3l\\xe4\\xb7\\xe2\\x9a\\xda\\x88$\\x9a\\xd9\\x88\\x04\\x1a\\xda\\x88$>\\xd5\\xc6e\\xbc\\x99\\x07\\x1e\\xd0\\xe3\\x13\"\\xb9Wf\\xdb\\xce\\xbd\"\\x12K\\xf7\\xca4\\xb5\\x15\\xb8,c{\\xc1\\x9a\\xd0[\\xfa\\x9b\\xb0tA\\xd9\\x19b)@\\xf2\\xe2a\\x94\\xb90\\xc8\\x874XM)\\x83$\\xb6])\\xcb<$ q\\xe4\\x1e\\x89\\x96\\xddX\\x96V\\x8b\\x8c\\xfc\\xad\\xb1\\xa5\\x8d\\xad\\xa11b\\x0e9\\x90n9U\\x1c\\x07\\xa6>\\xe8-D(e\\xcd\\xe2(R\\xa5`\\x88\\xe0@\\x81\\x1f\\x12oW\\xb0\\x08\\xa7\\xd7\\xc1\\xc8\\xcb-\\x14\\xef\\x85\\x17\\x04\\xefI\\x99\\xfdqUVp\\x8b\\x94\\xf0\\xbb\\x15\\x9a\\x1d\\x87e\\x04d\\xaa\\x95L\\xdb\\x93M\\xb8Q\\x99o\\xb2r\\xcd~\\x80=\\xbb\\x84`\\x14[\\x08A\\xfb\\x8f\\x85\\x14w\\xbd\\x0e\\xee\\xdfn\\xc2\\xb9\\x978tm\\x01UA\\xf7^\\xd0\\x86\\x85\\xff~\\x19\\xf87Q\\xe8\\xd1\\xdb\\x85*\\x13|\\x97\\xc4\\x99\\xb7\\xc8\\xe8j\\x07\\rP\\xc3T2;\\x85,\\x82\\xc8\\xfc\\x05\\x99\\x81^\\x80\\x84\\xc7f\\x8d\\xefV\\x15\\x8c\\xfa\\x98N\\xfb3\\xd3`LR\\xa0\\x04+\\xb7Q:\\xe0\\x02\\x8e\\xc6\\x01/\\xf0_\\x9d`\\xa5+\\x08\\x1e\\tV\\xba(\\xe1\\x91`\\x05N\\x16\\xf4\\xee9\\x07\\x1e\\x8fWQ\\xc9\\xd0\\xf7\\xe4\\x95<\\xfb;\\xcf/\\x84\\x98\\x10\"/r\\xba!+\\x05r\\xc8\\x1d\\x14\\x01\\x04\\x92pA^\\x89\\xeb\\x8a\\xea1\\xdd\\xaa\\x13\\xf4\\x85_\\x85\\x86\\xc0\\xcc\\xeb\\xb9\\xdc\\xaf-\\x14~\\xe4GX\\xa1T\\xa2\\x82\\xdd\\xbc\\xeeC-\\xa8i\\x9dDG\\xb6\\x0b\\x11U%\\x1d\\x1a,\\x0e\\x11\\x1a\\xd6:\\x88B\\x83\\xd5.D\\xd4\\xc4\\xc3&G\\x08\\x1e\\xadA\\xd8m\\xc6\\x90\\xb6\\xfeqe\\x0c\\xf2*I\\x9e~\\xba\\x95\\x94\\xc8G\\xe6W\\x1d\\n\\xcec\\x83\\x8c\\x8a\\x80@\\x85\\xfe\\x94\\xa9]N\\x85R_S\\x03\\xba,\\xa4\\xbb\\x10\\xd6W)\\x11a\\xb75\\x8b\\xf4\\xf9\\xf3\\x9a%T~\\xc8\\xb9\\x1a\\x9f\\xb6[\\xebQ\\xf7\\x08V\\xfc\\xf6\\xb5*a\\x94\\x10\\xf7~\\xd6NT:\\x85\\x8e&\\xb8\\xf5h\\xe1E\\x8d\\x0e\\xf41\\xfb\\xe97\\xd2\\r*\\xf2Bp\\xdc1\\xf3\\x02\\xd6\\x1e\\x94\\xa0\\x84\\x12\\r`k\\xa2)\\x96\\x97vS\\xd7\\x00\\\\\\x85\\xdf\\x04\\x88Pgz\\x02QG\\xfc3\\x84\\xd8\\xd6W\\xe9n\\xeb\\xb2\\x8e\\n\\xb3\\x01Mp?\\xd3\\x04\\xd7\\xc0\\xdev\\xcbQ\\xbcI\\xec\\xfb\\xefI!q\\xfaDJ\\x14\\xee\\xdeR\\x12E\\x1bR\\xa8\\x9f\\xc1F\\x18\\r\\xa1\\xd7\\xd5\\xd3`\\xc3\\xda\\xc6\\x9ez\\x121\\xd2x\\x14\\xe1\\xeem\\x8f\\x07{\\x12\\xb6{\\x9f8\\xa43\\xd4{\\x90\\xbd\\x1d\\x17\\xa0h\\x93{\\x15\\xfdwdo;j\\xc8\\x93fo\\x07\\xab\\x08$\\xb9\\x1d\\xdd\\xffp?\\x86.\\x10\\xe9\\xa2\\x1f\\xd7\\x93\\x03<\\xbd\\xce&\\xdb\\xd1<;yXz\\xd7\\x8c9\\xf8W:L\\x83\\xfdw\\xabr\\xbe\\x9d^\\x1f\\xae\\x88\\xe6\\xf1\\xc5Y\\xfcR\\xbfB\\x9en\\x9d\\xaao\\xc9\\x14{\\xc0\\xaf\\xa1\\xcc7~\\x00\\xeb\\xd1\\xca+V\\x05,\\xed\\x0b\\xe5Dy\\xb9 \\x93\\xe8@L\\xa6\\x9b0\\x94\\xcbAV\\xc1\\xd4\\x7fUp\\x16\\x87\\xa1[\\x08\\x90\\xe2\\x80\\x04v\\x9e\\xaf\\xfc\\xa4\\xfdR\\xc8\\x90\\xaa\\xc7e\\xe8\\xea\\xc4-\\x1d\\x9b$\\x81\\xd7\\x1b\\xdcc1\\xd2\\x13\\xe2bt\\xed\\xe6.\\xb1B\\x13\\x19sp\\x11\\xba\\xaa\\xb4*\\xf2\\xceK\\x88\\x07\\n\\t\\xd2\\xfer\\t\\xba<\\xbd*\\xf1\\n\\x9e\\xe0J\\x02?\\xfa\\xb5\\x90!\\xfdH.\\xc3\\x9e\\xf3,\\x16_\\xe4\\xd1\\x19!g\\x83\\x1d\\xcc\\xd9\\x84\\xc4\\\\\\xce\\x92\\xc2s\\xe2 \\x88\\x7f\\xf7\\x96\\xca\\x96V\\xd2\\x08si\\xfalD\\x15\\xe9\\xec\\xd6[\\xfc\\xaa\\xcc\\x00K\\xa1\\x92N5p)\\x83=\\x03[\\x01\\xfb\\n\\xde\\xfd\\x00\\xaf\\x95P \\xb69+DZ\\xc0\\x1d\\x1a\\t-\\xde\\xc2z\\x8dR@\\xa4\\x05h\\x95\\x08`\\x02\\x02%rU\"9L\\xa9]?\\xb8ID\\x00^{we\\xe0hG\\x99[\\x96\\xbf\\x9c\\xa0b\\x19V\\xc9\\xad\\x13YbJ\\x83~\\xedg\\xb0\\xc0\\xad\\x00)\\xb2\\x04\\x86\\xb6\\x12\\xf3fWw\\xeb\\xc0\\x8d\\xdc,N\\xeeE\\xa4\"_\\x86\\xb51\\xe0\\x99)\\xb2E\\x97\\xa6M\\x119\\xeeN\\x91%P7%H\\x0b\\xa9\\x92\\x98\\xe4V\\x12\\xe2\\x16{\\xf0\\xa6J\\xae\\xd7\\xd1zSz\\x9f\\xde,\\xe6\\xde\\x87\\x0bH\\xf4\\xe0$(\\x11\\xd2\\xfb@\\\\\\xd2\\x92J~\\x13\\xc7\\xcb\\xc2\\xf9\\xc0Y\\x0c\\xce\\x90:\\xe2\\xbbM\\x86\\xd1\\x81e\\xc8\\x1e\\x00+Ag\\xa0\\x14-\\xbd\\x0e\\x0f]bIS\\x8a\\x0e^s\\xb1\\xd8\\x04.Y\\xabT\\x82\\x14\\x19\\x02FJ4\\xbe\\x81\\x1a\\x02\\x99\\x8d\\xf3\\x93\\x8eI\\xb97\\xe0\\xf6\\x93D\\xee:\\xcex\\xa5\\xa7c/$!\\xe5\\xe2\\x85\\xcb\\xdd\\'2\\x02\\x14J4\\xbc\\xf56Y\\xc2u\\x80\\xd9\\xd8\\x0b\\xa0R\"SiIh\\x8f\\x0c\\xe1\\x92&2\\xf69x\\x9a\\x95\\x00S,\\x1e\\x964\\xc0\\x98Ke\\xb4\\xe0\\xc9[\\x8c\\x13.\\xb4\\x13g\\x99\\xfd\\xf0\\xde\\x0cAF\\x9a\\x8d\\x18\\'\\x97\\xacpC\\x1a+,\\t\\x9c\\xc8-\\x14\\xd91\\x94\\xb2\\n[\\xc8u\\x8a\\xb5\\xc3\\x94\\xfa\\x86E\\xa2\\xcc0S\\xac\\x1c\\xa64\\xe2\\x18\\'\\x97\\x14\\xb9\\x02\\x17\\xda\\xe9O\\xf0\"\\xb3\\r\\x12\\x18\\xfb\\xd3\\xda\\x9bk\\\\Rle,i\\xf4p\\x05\\xe7\\x92\\x15\\xc6Hc\\xc8\\xbcR\\xb2\\xcc\\x12\\xb9bI\\xf3\\x06k\\xe3\\x92\"c,\\xa9?q\\xf4\\xb8\\xa4\\xc8\\x18\\xab\\xc6\\x9f%W\\x80\\xfe\\x82?\\xa5y\\x84qrI\\x91+Ci$0N.)2fH#\\xc1{\\xbc\\xd0)\\xcd\\\\X\\xefMW\\x97\\x96\\xbdR\\x88\\xfb\\xd2[\\xb9\\x9b \\xbb.\\x0fNU\\xbe\\xfd-] \\r\\x91\\xca\\xcfz\\xe7\\x7f\\x8c3z\\x89\\xa9\\xca\\xb7\\xdf\\x90\\x07\\nX\\xe3\\x06\\x8d\\xfb\\x9b\\x14\\xd6\\xff\\xc3\\xb7\\xb2I\\xfc\\xa9\\xfa\\xe7\\xd5\\xc5\\xd8\\xbe\\xbcr\\x8c\\x93\\x89v19\\xb1Loxb\\x0f/.O\\x86\\xd6\\xec\\xe2\\xf2\\xd2\\xb15C\\x9b\\xfd\\x05D$\\xaf\\xb9zv\\xa7[[\\xaf\\xba\\n\\xfdE\\x12\\xa7\\xf1*;]\\xc0s\\n\\xf1j\\xe5/\\xbc\\xed\\x97]\\xd9\\x03\\xbbx\\xdd\\x15\\\\\\xe4Y\\x1a\\xc0YInl\\x0e\\xfe=\\xdf7U\\xd1\\x0f\\x06\\x9f\\xa4\\xc9\\x00`\\xb3\\xff\\xd4\\x88AZ\\xbe\\x86\\xeb\\xfc?PK\\x03\\x04\\x14\\x00\\x00\\x00\\x08\\x00\\x87N\\xe2@\\x84<.\\xb9\\xb3\\x00\\x00\\x00\\x1c\\x01\\x00\\x00\\x14\\x00\\x00\\x00xl/sharedStrings.xmle\\xcf\\xc1\\x8a\\x021\\x0c\\x06\\xe0\\xbb\\xe0;\\x94\\xdc\\xb5\\xa3,\\xb2,m\\x07\\x11\\\\\\xbc\\xaf\\x0fP\\xa6q\\xa60M\\xc7&#\\xee\\xdbo\\x17O\\xea\\xf1\\xff\\x92@~\\xd3\\xde\\xd3\\xa8nX8f\\xb2\\xb0Y7\\xa0\\x90\\xba\\x1c\"\\xf5\\x16\\xce?\\xc7\\xd5\\'(\\x16O\\xc1\\x8f\\x99\\xd0\\xc2/2\\xb4n\\xb90\\xcc\\xa2\\xea-\\xb1\\x85Ad\\xfa\\xd2\\x9a\\xbb\\x01\\x93\\xe7u\\x9e\\x90\\xea\\xe4\\x92K\\xf2Rc\\xe95O\\x05}\\xe0\\x01Q\\xd2\\xa8\\xb7M\\xb3\\xd3\\xc9G\\x02\\xd5\\xe5\\x99\\xc4\\xc2\\xf6\\x03\\xd4L\\xf1:\\xe3\\xe1\\x01;p\\x86\\xa33\\xe2N\\xc1hqF\\xff\\xa7\\x87\\xec{|\\xa5o\\xa4\\x80\\xe5UO\\xb5Hz\\xdb=\\xd6\\'\\xc77}6]\\xdb\\xb9?PK\\x03\\x04\\x14\\x00\\x00\\x00\\x08\\x00\\x87N\\xe2@\\xd7\\xe0*Y(\\x01\\x00\\x00\\xdc\\x01\\x00\\x00\\x0f\\x00\\x00\\x00xl/workbook.xml\\x8d\\x91MO\\xc30\\x0c\\x86\\xefH\\xfc\\x87(w\\x96\\xae\\xfb\\x80Uk\\'!@\\xec\\x82&\\x01\\xe3\\x1c\\x1a\\xb7\\x8d\\x96/%\\x19\\x1d\\xff\\x1e\\xa7\\xd5\\x18GN\\xcek\\'\\x8f\\xed7\\xeb\\xcdI+\\xf2\\x05>HkJ:\\x9dd\\x94\\x80\\xa9\\xad\\x90\\xa6-\\xe9\\xfb\\xdb\\xd3\\xcd\\x1d%!r#\\xb8\\xb2\\x06J\\xfa\\r\\x81n\\xaa\\xeb\\xabuo\\xfd\\xe1\\xd3\\xda\\x03A\\x80\\t%\\xedbt\\x05c\\xa1\\xee@\\xf30\\xb1\\x0e\\x0cV\\x1a\\xeb5\\x8f(}\\xcb\\x82\\xf3\\xc0E\\xe8\\x00\\xa2V,\\xcf\\xb2%\\xd3\\\\\\x1a:\\x12\\n\\xff\\x1f\\x86m\\x1aY\\xc3\\x83\\xad\\x8f\\x1aL\\x1c!\\x1e\\x14\\x8f8~\\xe8\\xa4\\x0b\\xb4Z7R\\xc1~\\xdc\\x88p\\xe7^\\xb8\\xc6\\xb9O\\x8a\\x12\\xc5C|\\x142\\x82(\\xe9\\x0c\\xa5\\xed\\xe1\\x92XP\\xe2\\x8f\\xee\\xfe(\\x15VW\\xb3,\\xa7\\xac\\xfa]r\\xe7Q\\xa4m\\xf7\\x12\\xfap\\xc9\\'Izi\\x84\\xed?\\xa4\\x88\\x1d:\\xb8\\x9a\\xe7\\x88\\x1as\\xcf \\xdb.\"ny\\xbbH8\\xf6\\x071\\xf8\\x80\\xa8!\\x123\\x0c\\xf9\\x9a\\xbc\\x99\\xa2\\xe1)nq\\x0e<\\xfbB\\xe2\\xc1o\\xc5t \\x9c\\x9f\\xd5\\\\\\xd5;OR\\x18.\\xce\\xe7\\x0b\\xec\\x9bz\\x9c?\\xa6\\xfa\\x01PK\\x03\\x04\\n\\x00\\x00\\x00\\x00\\x00\\x87N\\xe2@\\x00\\x00\\x00\\x00\\x00\\x00\\x00\\x00\\x00\\x00\\x00\\x00\\x06\\x00\\x00\\x00_rels/PK\\x03\\x04\\x14\\x00\\x00\\x00\\x08\\x00\\x87N\\xe2@{8v\\xbc\\xff\\x00\\x00\\x00\\xdf\\x02\\x00\\x00\\x0b\\x00\\x00\\x00_rels/.rels\\xad\\x92\\xcfJ\\xc40\\x10\\xc6\\xef\\x82\\xef\\x10\\xe6\\xbeMw\\x15\\x11\\xd9t/\"\\xecMd}\\x80\\x98L\\xff\\xd0&\\x13\\x92Y\\xed\\xbe\\xbdAQ,\\xd4\\xba\\x07\\x8f\\x99\\xf9\\xe6\\x9b\\xdf|d\\xbb\\x1b\\xdd ^1\\xa6\\x8e\\xbc\\x82uQ\\x82@o\\xc8v\\xbeQ\\xf0|xX\\xdd\\x82H\\xac\\xbd\\xd5\\x03yTp\\xc2\\x04\\xbb\\xea\\xf2b\\xfb\\x84\\x83\\xe6<\\x94\\xda.$\\x91]|R\\xd02\\x87;)\\x93i\\xd1\\xe9TP@\\x9f;5E\\xa79?c#\\x836\\xbdnPn\\xca\\xf2F\\xc6\\x9f\\x1ePM<\\xc5\\xde*\\x88{\\xbb\\x06q8\\x85\\xbc\\xf9oo\\xaa\\xeb\\xce\\xe0=\\x99\\xa3C\\xcf3+\\xe4T\\x91\\x9dul\\x90\\x15\\x8c\\x83|\\xa3\\xd8\\xbf\\x10\\xf5E\\x06\\x069\\xcfru>\\xcb\\xefwJ\\x87\\xac\\xadf-\\rE\\\\\\x85\\x98S\\x8a\\xdc\\xe5\\\\\\xbfq,\\x99\\xc7\\\\N\\x1f\\x8a%\\xa0\\xcd\\xf9@\\xd3\\xd3\\xe7\\xc2\\xc1\\x91\\xd1[\\xb4\\xcbH:\\x84%\\xa2\\xeb\\xff$2\\xc7\\xc4\\xe4\\x96y>5_Hr\\xf2-\\xabwPK\\x03\\x04\\n\\x00\\x00\\x00\\x00\\x00\\x87N\\xe2@\\x00\\x00\\x00\\x00\\x00\\x00\\x00\\x00\\x00\\x00\\x00\\x00\\t\\x00\\x00\\x00xl/_rels/PK\\x03\\x04\\x14\\x00\\x00\\x00\\x08\\x00\\x87N\\xe2@\\xe5\\xf0\\xa2\\x18\\xed\\x00\\x00\\x00\\xba\\x02\\x00\\x00\\x1a\\x00\\x00\\x00xl/_rels/workbook.xml.rels\\xad\\x92\\xcfj\\xc30\\x0c\\xc6\\xef\\x83\\xbd\\x83\\xd1}q\\xd2\\x8d1F\\x9d^\\xc6\\xa0\\xd7\\xad{\\x00c+\\x7fhb\\x07K[\\x9b\\xb7\\x9f\\xc8\\xa1Y\\xa0t\\x97\\\\\\x0c\\x9f\\x84\\xbf\\xef\\'\\xcb\\xdb\\xdd\\xb9\\xef\\xd4\\x0f&jc0Pd9(\\x0c.\\xfa6\\xd4\\x06\\xbe\\x0e\\xef\\x0f/\\xa0\\x88m\\xf0\\xb6\\x8b\\x01\\r\\x8cH\\xb0+\\xef\\xef\\xb6\\x1f\\xd8Y\\x96K\\xd4\\xb4\\x03)q\\td\\xa0a\\x1e^\\xb5&\\xd7`o)\\x8b\\x03\\x06\\xe9T1\\xf5\\x96E\\xa6Z\\x0f\\xd6\\x1dm\\x8dz\\x93\\xe7\\xcf:\\xfd\\xf5\\x80r\\xe1\\xa9\\xf6\\xde@\\xda\\xfb\\'P\\x87q\\x90\\xe4\\xff\\xbdcU\\xb5\\x0e\\xdf\\xa2\\xfb\\xee1\\xf0\\x95\\x08M\\x8dM\\xe8?9\\xc9x$\\xc66\\xd5\\xc8\\x06\\x16\\xe5L\\x88A_\\x87y\\\\\\x15\\x86\\xc7N^s\\xa6\\x98\\xf4\\xad\\xf8\\xcd\\x9a\\xf1,;\\xc29}\\x92z:\\x8b[\\x0c\\xc5\\x9a\\x0c\\xa7\\x98\\x8e\\xd4 \\xf2\\xccq)\\x91lK:\\x17\\x18\\xbd\\xf8q\\xe5/PK\\x03\\x04\\n\\x00\\x00\\x00\\x00\\x00\\x87N\\xe2@\\x00\\x00\\x00\\x00\\x00\\x00\\x00\\x00\\x00\\x00\\x00\\x00\\x14\\x00\\x00\\x00xl/worksheets/_rels/PK\\x03\\x04\\x14\\x00\\x00\\x00\\x08\\x00\\x87N\\xe2@\\xa8\\x9c\\xf5\\x00\\xb5\\x00\\x00\\x00%\\x01\\x00\\x00#\\x00\\x00\\x00xl/worksheets/_rels/sheet1.xml.rels\\x85\\x8f\\xc1\\n\\xc20\\x10D\\xef\\x82\\xff\\x10\\xf6n\\xd2z\\x10\\x91\\xa6\\xbd\\x88\\xd0\\xab\\xe8\\x07\\xac\\xe9\\xb6\\r\\xb6I\\xc8F\\xd1\\xbf7\\xe0EA\\xf04\\xec\\x0e\\xfbf\\xa7j\\x1e\\xf3$\\xee\\x14\\xd9z\\xa7\\xa1\\x94\\x05\\x08r\\xc6w\\xd6\\r\\x1a\\xce\\xa7\\xc3j\\x0b\\x82\\x13\\xba\\x0e\\'\\xefH\\xc3\\x93\\x18\\x9az\\xb9\\xa8\\x8e4a\\xcaG<\\xda\\xc0\"S\\x1ck\\x18S\\n;\\xa5\\xd8\\x8c4#K\\x1f\\xc8e\\xa7\\xf7q\\xc6\\x94\\xc78\\xa8\\x80\\xe6\\x8a\\x03\\xa9uQlT\\xfcd@\\xfd\\xc5\\x14m\\xa7!\\xb6]\\t\\xe2\\xf4\\x0c9\\xf9?\\xdb\\xf7\\xbd5\\xb4\\xf7\\xe66\\x93K?\"T\\xc2\\xcbD\\x19\\x88q\\xa0\\xa4A\\xca\\xf7\\x86\\xdfR\\xca\\xfc,\\xa8\\xbaR_\\xe5\\xea\\x17PK\\x03\\x04\\x14\\x00\\x00\\x00\\x08\\x00\\x87N\\xe2@:\\x13J(s\\x01\\x00\\x00\\x8d\\x05\\x00\\x00\\x13\\x00\\x00\\x00[Content_Types].xml\\xad\\x94Mo\\xc20\\x0c\\x86\\xef\\x93\\xf6\\x1f\\xaa\\\\\\xa76\\xb0\\xc34M\\x14\\x0e\\xfb8nHc? K\\x0c\\x8dh\\x93(6\\x0c\\xfe\\xfd\\xdc\\x00\\x93@\\x8c\\x0f\\xc1\\xa5U\\x1b\\xfb}^;Nz\\x83ESgs\\x88h\\xbd+E\\xb7\\xe8\\x88\\x0c\\x9c\\xf6\\xc6\\xbaI)\\xbeFo\\xf9\\xa3\\xc8\\x90\\x943\\xaa\\xf6\\x0eJ\\xb1\\x04\\x14\\x83\\xfe\\xedMo\\xb4\\x0c\\x80\\x19g;,EE\\x14\\x9e\\xa4D]A\\xa3\\xb0\\xf0\\x01\\x1c\\xaf\\x8c}l\\x14\\xf1g\\x9c\\xc8\\xa0\\xf4TM@\\xdew:\\x0fR{G\\xe0(\\xa7VC\\xf4{/0V\\xb3\\x9a\\xb2\\xd7\\x05\\xff^9\\x89P\\xa3\\xc8\\x9eW\\x81-\\xab\\x14*\\x84\\xdajE\\xecT\\xce\\x9d\\xd9\\xa1\\xe4kB\\xc1\\x99)\\x06+\\x1b\\xf0\\x8em\\x08\\xb9\\x97\\xd0\\xae\\xfc\\x0fX\\xe7}pk\\xa25\\x90\\rU\\xa4w\\xd5\\xb0\\ri\\xbc\\x1eF\\x1fP\\xb2\\xa1\\xe2\\xb0\\xca\\x1e\\x9b~<\\xb6\\x1aXc\\xd6p\\x0b\\nhK6`\\xf2\\xc0\\x92\\x10\\xc9\\xc2\\x9f\\xe7\\x83l\\xed#\\x9c\\x0f\\xdf\\xf4\\xa8\\xcd>\\x9b8C\\xf2\\xcd\\xf9\\xcc\\x9d\\x82u\\x929\\x11\\xbe\\xa8%V*\\x82\\xf9\\xa4\\xc8\\x13\\x89\\x17\\xd31DP\\x06+\\x00j\\xeabK{3*\\xfb\\xda\\xde\\xfa\\xa0e\\rW7\\x90D\\x8f\\x90I}3Y\\xa6W\\xf7\\xca\\x1dH\\xa2\\xc7\\xf8|\\xa8AR\\xfb\\xbc\\x1c\\x9fd\\x8e\\x00\\x7f|\\x9c~{?\\xbdr\\xadi\\xd7\\x8bFYw\\x02?\\x05#O\\x1fO\\xca\\xe5Uo\\x8f][_\\x12\\xde\\xf8\\x90\\xe92\\xed\\xff\\x02PK\\x01\\x02\\x14\\x00\\x14\\x00\\x00\\x00\\x08\\x00\\x87N\\xe2@:\\x13J(s\\x01\\x00\\x00\\x8d\\x05\\x00\\x00\\x13\\x00\\x00\\x00\\x00\\x00\\x00\\x00\\x01\\x00 \\x00\\x00\\x00T!\\x00\\x00[Content_Types].xmlPK\\x01\\x02\\x14\\x00\\n\\x00\\x00\\x00\\x00\\x00\\x87N\\xe2@\\x00\\x00\\x00\\x00\\x00\\x00\\x00\\x00\\x00\\x00\\x00\\x00\\x06\\x00\\x00\\x00\\x00\\x00\\x00\\x00\\x00\\x00\\x10\\x00\\x00\\x00\\x94\\x1d\\x00\\x00_rels/PK\\x01\\x02\\x14\\x00\\x14\\x00\\x00\\x00\\x08\\x00\\x87N\\xe2@{8v\\xbc\\xff\\x00\\x00\\x00\\xdf\\x02\\x00\\x00\\x0b\\x00\\x00\\x00\\x00\\x00\\x00\\x00\\x01\\x00 \\x00\\x00\\x00\\xb8\\x1d\\x00\\x00_rels/.relsPK\\x01\\x02\\x14\\x00\\n\\x00\\x00\\x00\\x00\\x00\\x87N\\xe2@\\x00\\x00\\x00\\x00\\x00\\x00\\x00\\x00\\x00\\x00\\x00\\x00\\t\\x00\\x00\\x00\\x00\\x00\\x00\\x00\\x00\\x00\\x10\\x00\\x00\\x00\\x00\\x00\\x00\\x00docProps/PK\\x01\\x02\\x14\\x00\\x14\\x00\\x00\\x00\\x08\\x00\\x87N\\xe2@\\xceB\\\\\\x011\\x01\\x00\\x009\\x02\\x00\\x00\\x10\\x00\\x00\\x00\\x00\\x00\\x00\\x00\\x01\\x00 \\x00\\x00\\x00\\'\\x00\\x00\\x00docProps/app.xmlPK\\x01\\x02\\x14\\x00\\x14\\x00\\x00\\x00\\x08\\x00\\x87N\\xe2@ith\\x92B\\x01\\x00\\x00\\\\\\x02\\x00\\x00\\x11\\x00\\x00\\x00\\x00\\x00\\x00\\x00\\x01\\x00 \\x00\\x00\\x00\\x86\\x01\\x00\\x00docProps/core.xmlPK\\x01\\x02\\x14\\x00\\x14\\x00\\x00\\x00\\x08\\x00\\x87N\\xe2@\\x8d\\x8e\\xa5\\xdc(\\x01\\x00\\x00\\x0e\\x02\\x00\\x00\\x13\\x00\\x00\\x00\\x00\\x00\\x00\\x00\\x01\\x00 \\x00\\x00\\x00\\xf7\\x02\\x00\\x00docProps/custom.xmlPK\\x01\\x02\\x14\\x00\\n\\x00\\x00\\x00\\x00\\x00\\x87N\\xe2@\\x00\\x00\\x00\\x00\\x00\\x00\\x00\\x00\\x00\\x00\\x00\\x00\\x03\\x00\\x00\\x00\\x00\\x00\\x00\\x00\\x00\\x00\\x10\\x00\\x00\\x00P\\x04\\x00\\x00xl/PK\\x01\\x02\\x14\\x00\\n\\x00\\x00\\x00\\x00\\x00\\x87N\\xe2@\\x00\\x00\\x00\\x00\\x00\\x00\\x00\\x00\\x00\\x00\\x00\\x00\\t\\x00\\x00\\x00\\x00\\x00\\x00\\x00\\x00\\x00\\x10\\x00\\x00\\x00\\xe0\\x1e\\x00\\x00xl/_rels/PK\\x01\\x02\\x14\\x00\\x14\\x00\\x00\\x00\\x08\\x00\\x87N\\xe2@\\xe5\\xf0\\xa2\\x18\\xed\\x00\\x00\\x00\\xba\\x02\\x00\\x00\\x1a\\x00\\x00\\x00\\x00\\x00\\x00\\x00\\x01\\x00 \\x00\\x00\\x00\\x07\\x1f\\x00\\x00xl/_rels/workbook.xml.relsPK\\x01\\x02\\x14\\x00\\x14\\x00\\x00\\x00\\x08\\x00\\x87N\\xe2@\\x84<.\\xb9\\xb3\\x00\\x00\\x00\\x1c\\x01\\x00\\x00\\x14\\x00\\x00\\x00\\x00\\x00\\x00\\x00\\x01\\x00 \\x00\\x00\\x00Z\\x1b\\x00\\x00xl/sharedStrings.xmlPK\\x01\\x02\\x14\\x00\\x14\\x00\\x00\\x00\\x08\\x00\\x87N\\xe2@\\xc9e?\\xa7u\\t\\x00\\x00\\xccK\\x00\\x00\\r\\x00\\x00\\x00\\x00\\x00\\x00\\x00\\x01\\x00 \\x00\\x00\\x00\\xba\\x11\\x00\\x00xl/styles.xmlPK\\x01\\x02\\x14\\x00\\n\\x00\\x00\\x00\\x00\\x00\\x87N\\xe2@\\x00\\x00\\x00\\x00\\x00\\x00\\x00\\x00\\x00\\x00\\x00\\x00\\n\\x00\\x00\\x00\\x00\\x00\\x00\\x00\\x00\\x00\\x10\\x00\\x00\\x00q\\x04\\x00\\x00xl/tables/PK\\x01\\x02\\x14\\x00\\x14\\x00\\x00\\x00\\x08\\x00\\x87N\\xe2@~\\x1f\\x0c\\xa5$\\x01\\x00\\x00\\x14\\x02\\x00\\x00\\x14\\x00\\x00\\x00\\x00\\x00\\x00\\x00\\x01\\x00 \\x00\\x00\\x00\\x99\\x04\\x00\\x00xl/tables/table1.xmlPK\\x01\\x02\\x14\\x00\\n\\x00\\x00\\x00\\x00\\x00\\x87N\\xe2@\\x00\\x00\\x00\\x00\\x00\\x00\\x00\\x00\\x00\\x00\\x00\\x00\\t\\x00\\x00\\x00\\x00\\x00\\x00\\x00\\x00\\x00\\x10\\x00\\x00\\x00~\\x0b\\x00\\x00xl/theme/PK\\x01\\x02\\x14\\x00\\x14\\x00\\x00\\x00\\x08\\x00\\x87N\\xe2@ep\\x0b\\xef\\xe4\\x05\\x00\\x00$\\x19\\x00\\x00\\x13\\x00\\x00\\x00\\x00\\x00\\x00\\x00\\x01\\x00 \\x00\\x00\\x00\\xa5\\x0b\\x00\\x00xl/theme/theme1.xmlPK\\x01\\x02\\x14\\x00\\x14\\x00\\x00\\x00\\x08\\x00\\x87N\\xe2@\\xd7\\xe0*Y(\\x01\\x00\\x00\\xdc\\x01\\x00\\x00\\x0f\\x00\\x00\\x00\\x00\\x00\\x00\\x00\\x01\\x00 \\x00\\x00\\x00?\\x1c\\x00\\x00xl/workbook.xmlPK\\x01\\x02\\x14\\x00\\n\\x00\\x00\\x00\\x00\\x00\\x87N\\xe2@\\x00\\x00\\x00\\x00\\x00\\x00\\x00\\x00\\x00\\x00\\x00\\x00\\x0e\\x00\\x00\\x00\\x00\\x00\\x00\\x00\\x00\\x00\\x10\\x00\\x00\\x00\\xef\\x05\\x00\\x00xl/worksheets/PK\\x01\\x02\\x14\\x00\\n\\x00\\x00\\x00\\x00\\x00\\x87N\\xe2@\\x00\\x00\\x00\\x00\\x00\\x00\\x00\\x00\\x00\\x00\\x00\\x00\\x14\\x00\\x00\\x00\\x00\\x00\\x00\\x00\\x00\\x00\\x10\\x00\\x00\\x00, \\x00\\x00xl/worksheets/_rels/PK\\x01\\x02\\x14\\x00\\x14\\x00\\x00\\x00\\x08\\x00\\x87N\\xe2@\\xa8\\x9c\\xf5\\x00\\xb5\\x00\\x00\\x00%\\x01\\x00\\x00#\\x00\\x00\\x00\\x00\\x00\\x00\\x00\\x01\\x00 \\x00\\x00\\x00^ \\x00\\x00xl/worksheets/_rels/sheet1.xml.relsPK\\x01\\x02\\x14\\x00\\x14\\x00\\x00\\x00\\x08\\x00\\x87N\\xe2@!\\xb4\\x04\\xed-\\x05\\x00\\x00}\\x14\\x00\\x00\\x18\\x00\\x00\\x00\\x00\\x00\\x00\\x00\\x01\\x00 \\x00\\x00\\x00\\x1b\\x06\\x00\\x00xl/worksheets/sheet1.xmlPK\\x05\\x06\\x00\\x00\\x00\\x00\\x15\\x00\\x15\\x00\\x14\\x05\\x00\\x00\\xf8\"\\x00\\x00\\x00\\x00'}"
            ]
          },
          "metadata": {},
          "execution_count": 2
        }
      ]
    },
    {
      "cell_type": "code",
      "source": [
        "df=pd.read_excel(\"/content/Age_income.xlsx\")"
      ],
      "metadata": {
        "id": "NX6KmDZe4X4L"
      },
      "execution_count": null,
      "outputs": []
    },
    {
      "cell_type": "code",
      "source": [
        "df.head()"
      ],
      "metadata": {
        "colab": {
          "base_uri": "https://localhost:8080/",
          "height": 206
        },
        "id": "sAx0O1Ja5NTh",
        "outputId": "7dc72bfa-fc4b-4564-fc58-98e00acd70a6"
      },
      "execution_count": null,
      "outputs": [
        {
          "output_type": "execute_result",
          "data": {
            "text/plain": [
              "   Id  Age  Gender  Income\n",
              "0   1   52  Female   22922\n",
              "1   2   21  Female   45948\n",
              "2   3   23  Female   12759\n",
              "3   4   35  Female   22186\n",
              "4   5   51  Female   39376"
            ],
            "text/html": [
              "\n",
              "  <div id=\"df-6e64306f-d959-45da-89ac-150c2ee0f3d4\">\n",
              "    <div class=\"colab-df-container\">\n",
              "      <div>\n",
              "<style scoped>\n",
              "    .dataframe tbody tr th:only-of-type {\n",
              "        vertical-align: middle;\n",
              "    }\n",
              "\n",
              "    .dataframe tbody tr th {\n",
              "        vertical-align: top;\n",
              "    }\n",
              "\n",
              "    .dataframe thead th {\n",
              "        text-align: right;\n",
              "    }\n",
              "</style>\n",
              "<table border=\"1\" class=\"dataframe\">\n",
              "  <thead>\n",
              "    <tr style=\"text-align: right;\">\n",
              "      <th></th>\n",
              "      <th>Id</th>\n",
              "      <th>Age</th>\n",
              "      <th>Gender</th>\n",
              "      <th>Income</th>\n",
              "    </tr>\n",
              "  </thead>\n",
              "  <tbody>\n",
              "    <tr>\n",
              "      <th>0</th>\n",
              "      <td>1</td>\n",
              "      <td>52</td>\n",
              "      <td>Female</td>\n",
              "      <td>22922</td>\n",
              "    </tr>\n",
              "    <tr>\n",
              "      <th>1</th>\n",
              "      <td>2</td>\n",
              "      <td>21</td>\n",
              "      <td>Female</td>\n",
              "      <td>45948</td>\n",
              "    </tr>\n",
              "    <tr>\n",
              "      <th>2</th>\n",
              "      <td>3</td>\n",
              "      <td>23</td>\n",
              "      <td>Female</td>\n",
              "      <td>12759</td>\n",
              "    </tr>\n",
              "    <tr>\n",
              "      <th>3</th>\n",
              "      <td>4</td>\n",
              "      <td>35</td>\n",
              "      <td>Female</td>\n",
              "      <td>22186</td>\n",
              "    </tr>\n",
              "    <tr>\n",
              "      <th>4</th>\n",
              "      <td>5</td>\n",
              "      <td>51</td>\n",
              "      <td>Female</td>\n",
              "      <td>39376</td>\n",
              "    </tr>\n",
              "  </tbody>\n",
              "</table>\n",
              "</div>\n",
              "      <button class=\"colab-df-convert\" onclick=\"convertToInteractive('df-6e64306f-d959-45da-89ac-150c2ee0f3d4')\"\n",
              "              title=\"Convert this dataframe to an interactive table.\"\n",
              "              style=\"display:none;\">\n",
              "        \n",
              "  <svg xmlns=\"http://www.w3.org/2000/svg\" height=\"24px\"viewBox=\"0 0 24 24\"\n",
              "       width=\"24px\">\n",
              "    <path d=\"M0 0h24v24H0V0z\" fill=\"none\"/>\n",
              "    <path d=\"M18.56 5.44l.94 2.06.94-2.06 2.06-.94-2.06-.94-.94-2.06-.94 2.06-2.06.94zm-11 1L8.5 8.5l.94-2.06 2.06-.94-2.06-.94L8.5 2.5l-.94 2.06-2.06.94zm10 10l.94 2.06.94-2.06 2.06-.94-2.06-.94-.94-2.06-.94 2.06-2.06.94z\"/><path d=\"M17.41 7.96l-1.37-1.37c-.4-.4-.92-.59-1.43-.59-.52 0-1.04.2-1.43.59L10.3 9.45l-7.72 7.72c-.78.78-.78 2.05 0 2.83L4 21.41c.39.39.9.59 1.41.59.51 0 1.02-.2 1.41-.59l7.78-7.78 2.81-2.81c.8-.78.8-2.07 0-2.86zM5.41 20L4 18.59l7.72-7.72 1.47 1.35L5.41 20z\"/>\n",
              "  </svg>\n",
              "      </button>\n",
              "      \n",
              "  <style>\n",
              "    .colab-df-container {\n",
              "      display:flex;\n",
              "      flex-wrap:wrap;\n",
              "      gap: 12px;\n",
              "    }\n",
              "\n",
              "    .colab-df-convert {\n",
              "      background-color: #E8F0FE;\n",
              "      border: none;\n",
              "      border-radius: 50%;\n",
              "      cursor: pointer;\n",
              "      display: none;\n",
              "      fill: #1967D2;\n",
              "      height: 32px;\n",
              "      padding: 0 0 0 0;\n",
              "      width: 32px;\n",
              "    }\n",
              "\n",
              "    .colab-df-convert:hover {\n",
              "      background-color: #E2EBFA;\n",
              "      box-shadow: 0px 1px 2px rgba(60, 64, 67, 0.3), 0px 1px 3px 1px rgba(60, 64, 67, 0.15);\n",
              "      fill: #174EA6;\n",
              "    }\n",
              "\n",
              "    [theme=dark] .colab-df-convert {\n",
              "      background-color: #3B4455;\n",
              "      fill: #D2E3FC;\n",
              "    }\n",
              "\n",
              "    [theme=dark] .colab-df-convert:hover {\n",
              "      background-color: #434B5C;\n",
              "      box-shadow: 0px 1px 3px 1px rgba(0, 0, 0, 0.15);\n",
              "      filter: drop-shadow(0px 1px 2px rgba(0, 0, 0, 0.3));\n",
              "      fill: #FFFFFF;\n",
              "    }\n",
              "  </style>\n",
              "\n",
              "      <script>\n",
              "        const buttonEl =\n",
              "          document.querySelector('#df-6e64306f-d959-45da-89ac-150c2ee0f3d4 button.colab-df-convert');\n",
              "        buttonEl.style.display =\n",
              "          google.colab.kernel.accessAllowed ? 'block' : 'none';\n",
              "\n",
              "        async function convertToInteractive(key) {\n",
              "          const element = document.querySelector('#df-6e64306f-d959-45da-89ac-150c2ee0f3d4');\n",
              "          const dataTable =\n",
              "            await google.colab.kernel.invokeFunction('convertToInteractive',\n",
              "                                                     [key], {});\n",
              "          if (!dataTable) return;\n",
              "\n",
              "          const docLinkHtml = 'Like what you see? Visit the ' +\n",
              "            '<a target=\"_blank\" href=https://colab.research.google.com/notebooks/data_table.ipynb>data table notebook</a>'\n",
              "            + ' to learn more about interactive tables.';\n",
              "          element.innerHTML = '';\n",
              "          dataTable['output_type'] = 'display_data';\n",
              "          await google.colab.output.renderOutput(dataTable, element);\n",
              "          const docLink = document.createElement('div');\n",
              "          docLink.innerHTML = docLinkHtml;\n",
              "          element.appendChild(docLink);\n",
              "        }\n",
              "      </script>\n",
              "    </div>\n",
              "  </div>\n",
              "  "
            ]
          },
          "metadata": {},
          "execution_count": 6
        }
      ]
    },
    {
      "cell_type": "code",
      "source": [
        "df.describe(include=\"all\")"
      ],
      "metadata": {
        "colab": {
          "base_uri": "https://localhost:8080/",
          "height": 394
        },
        "id": "1ghBgd5P5PJ7",
        "outputId": "9b30c95a-cae1-4467-a1e8-5ea49db8ddfe"
      },
      "execution_count": null,
      "outputs": [
        {
          "output_type": "execute_result",
          "data": {
            "text/plain": [
              "              Id        Age  Gender        Income\n",
              "count   20.00000  20.000000      20     20.000000\n",
              "unique       NaN        NaN       2           NaN\n",
              "top          NaN        NaN  Female           NaN\n",
              "freq         NaN        NaN      15           NaN\n",
              "mean    10.50000  37.050000     NaN  33357.100000\n",
              "std      5.91608  12.684325     NaN  14620.153815\n",
              "min      1.00000  20.000000     NaN  12759.000000\n",
              "25%      5.75000  25.000000     NaN  22738.000000\n",
              "50%     10.50000  35.500000     NaN  31533.000000\n",
              "75%     15.25000  48.750000     NaN  44566.500000\n",
              "max     20.00000  56.000000     NaN  57416.000000"
            ],
            "text/html": [
              "\n",
              "  <div id=\"df-a1c66117-5639-43b8-951f-ce233516f070\">\n",
              "    <div class=\"colab-df-container\">\n",
              "      <div>\n",
              "<style scoped>\n",
              "    .dataframe tbody tr th:only-of-type {\n",
              "        vertical-align: middle;\n",
              "    }\n",
              "\n",
              "    .dataframe tbody tr th {\n",
              "        vertical-align: top;\n",
              "    }\n",
              "\n",
              "    .dataframe thead th {\n",
              "        text-align: right;\n",
              "    }\n",
              "</style>\n",
              "<table border=\"1\" class=\"dataframe\">\n",
              "  <thead>\n",
              "    <tr style=\"text-align: right;\">\n",
              "      <th></th>\n",
              "      <th>Id</th>\n",
              "      <th>Age</th>\n",
              "      <th>Gender</th>\n",
              "      <th>Income</th>\n",
              "    </tr>\n",
              "  </thead>\n",
              "  <tbody>\n",
              "    <tr>\n",
              "      <th>count</th>\n",
              "      <td>20.00000</td>\n",
              "      <td>20.000000</td>\n",
              "      <td>20</td>\n",
              "      <td>20.000000</td>\n",
              "    </tr>\n",
              "    <tr>\n",
              "      <th>unique</th>\n",
              "      <td>NaN</td>\n",
              "      <td>NaN</td>\n",
              "      <td>2</td>\n",
              "      <td>NaN</td>\n",
              "    </tr>\n",
              "    <tr>\n",
              "      <th>top</th>\n",
              "      <td>NaN</td>\n",
              "      <td>NaN</td>\n",
              "      <td>Female</td>\n",
              "      <td>NaN</td>\n",
              "    </tr>\n",
              "    <tr>\n",
              "      <th>freq</th>\n",
              "      <td>NaN</td>\n",
              "      <td>NaN</td>\n",
              "      <td>15</td>\n",
              "      <td>NaN</td>\n",
              "    </tr>\n",
              "    <tr>\n",
              "      <th>mean</th>\n",
              "      <td>10.50000</td>\n",
              "      <td>37.050000</td>\n",
              "      <td>NaN</td>\n",
              "      <td>33357.100000</td>\n",
              "    </tr>\n",
              "    <tr>\n",
              "      <th>std</th>\n",
              "      <td>5.91608</td>\n",
              "      <td>12.684325</td>\n",
              "      <td>NaN</td>\n",
              "      <td>14620.153815</td>\n",
              "    </tr>\n",
              "    <tr>\n",
              "      <th>min</th>\n",
              "      <td>1.00000</td>\n",
              "      <td>20.000000</td>\n",
              "      <td>NaN</td>\n",
              "      <td>12759.000000</td>\n",
              "    </tr>\n",
              "    <tr>\n",
              "      <th>25%</th>\n",
              "      <td>5.75000</td>\n",
              "      <td>25.000000</td>\n",
              "      <td>NaN</td>\n",
              "      <td>22738.000000</td>\n",
              "    </tr>\n",
              "    <tr>\n",
              "      <th>50%</th>\n",
              "      <td>10.50000</td>\n",
              "      <td>35.500000</td>\n",
              "      <td>NaN</td>\n",
              "      <td>31533.000000</td>\n",
              "    </tr>\n",
              "    <tr>\n",
              "      <th>75%</th>\n",
              "      <td>15.25000</td>\n",
              "      <td>48.750000</td>\n",
              "      <td>NaN</td>\n",
              "      <td>44566.500000</td>\n",
              "    </tr>\n",
              "    <tr>\n",
              "      <th>max</th>\n",
              "      <td>20.00000</td>\n",
              "      <td>56.000000</td>\n",
              "      <td>NaN</td>\n",
              "      <td>57416.000000</td>\n",
              "    </tr>\n",
              "  </tbody>\n",
              "</table>\n",
              "</div>\n",
              "      <button class=\"colab-df-convert\" onclick=\"convertToInteractive('df-a1c66117-5639-43b8-951f-ce233516f070')\"\n",
              "              title=\"Convert this dataframe to an interactive table.\"\n",
              "              style=\"display:none;\">\n",
              "        \n",
              "  <svg xmlns=\"http://www.w3.org/2000/svg\" height=\"24px\"viewBox=\"0 0 24 24\"\n",
              "       width=\"24px\">\n",
              "    <path d=\"M0 0h24v24H0V0z\" fill=\"none\"/>\n",
              "    <path d=\"M18.56 5.44l.94 2.06.94-2.06 2.06-.94-2.06-.94-.94-2.06-.94 2.06-2.06.94zm-11 1L8.5 8.5l.94-2.06 2.06-.94-2.06-.94L8.5 2.5l-.94 2.06-2.06.94zm10 10l.94 2.06.94-2.06 2.06-.94-2.06-.94-.94-2.06-.94 2.06-2.06.94z\"/><path d=\"M17.41 7.96l-1.37-1.37c-.4-.4-.92-.59-1.43-.59-.52 0-1.04.2-1.43.59L10.3 9.45l-7.72 7.72c-.78.78-.78 2.05 0 2.83L4 21.41c.39.39.9.59 1.41.59.51 0 1.02-.2 1.41-.59l7.78-7.78 2.81-2.81c.8-.78.8-2.07 0-2.86zM5.41 20L4 18.59l7.72-7.72 1.47 1.35L5.41 20z\"/>\n",
              "  </svg>\n",
              "      </button>\n",
              "      \n",
              "  <style>\n",
              "    .colab-df-container {\n",
              "      display:flex;\n",
              "      flex-wrap:wrap;\n",
              "      gap: 12px;\n",
              "    }\n",
              "\n",
              "    .colab-df-convert {\n",
              "      background-color: #E8F0FE;\n",
              "      border: none;\n",
              "      border-radius: 50%;\n",
              "      cursor: pointer;\n",
              "      display: none;\n",
              "      fill: #1967D2;\n",
              "      height: 32px;\n",
              "      padding: 0 0 0 0;\n",
              "      width: 32px;\n",
              "    }\n",
              "\n",
              "    .colab-df-convert:hover {\n",
              "      background-color: #E2EBFA;\n",
              "      box-shadow: 0px 1px 2px rgba(60, 64, 67, 0.3), 0px 1px 3px 1px rgba(60, 64, 67, 0.15);\n",
              "      fill: #174EA6;\n",
              "    }\n",
              "\n",
              "    [theme=dark] .colab-df-convert {\n",
              "      background-color: #3B4455;\n",
              "      fill: #D2E3FC;\n",
              "    }\n",
              "\n",
              "    [theme=dark] .colab-df-convert:hover {\n",
              "      background-color: #434B5C;\n",
              "      box-shadow: 0px 1px 3px 1px rgba(0, 0, 0, 0.15);\n",
              "      filter: drop-shadow(0px 1px 2px rgba(0, 0, 0, 0.3));\n",
              "      fill: #FFFFFF;\n",
              "    }\n",
              "  </style>\n",
              "\n",
              "      <script>\n",
              "        const buttonEl =\n",
              "          document.querySelector('#df-a1c66117-5639-43b8-951f-ce233516f070 button.colab-df-convert');\n",
              "        buttonEl.style.display =\n",
              "          google.colab.kernel.accessAllowed ? 'block' : 'none';\n",
              "\n",
              "        async function convertToInteractive(key) {\n",
              "          const element = document.querySelector('#df-a1c66117-5639-43b8-951f-ce233516f070');\n",
              "          const dataTable =\n",
              "            await google.colab.kernel.invokeFunction('convertToInteractive',\n",
              "                                                     [key], {});\n",
              "          if (!dataTable) return;\n",
              "\n",
              "          const docLinkHtml = 'Like what you see? Visit the ' +\n",
              "            '<a target=\"_blank\" href=https://colab.research.google.com/notebooks/data_table.ipynb>data table notebook</a>'\n",
              "            + ' to learn more about interactive tables.';\n",
              "          element.innerHTML = '';\n",
              "          dataTable['output_type'] = 'display_data';\n",
              "          await google.colab.output.renderOutput(dataTable, element);\n",
              "          const docLink = document.createElement('div');\n",
              "          docLink.innerHTML = docLinkHtml;\n",
              "          element.appendChild(docLink);\n",
              "        }\n",
              "      </script>\n",
              "    </div>\n",
              "  </div>\n",
              "  "
            ]
          },
          "metadata": {},
          "execution_count": 8
        }
      ]
    },
    {
      "cell_type": "markdown",
      "source": [
        "Mean"
      ],
      "metadata": {
        "id": "0caOv92ZQ4ew"
      }
    },
    {
      "cell_type": "code",
      "source": [
        "df.mean()"
      ],
      "metadata": {
        "colab": {
          "base_uri": "https://localhost:8080/"
        },
        "id": "i73VPumZ5eCA",
        "outputId": "e6f1a42f-4143-459e-ad48-040fedce66be"
      },
      "execution_count": null,
      "outputs": [
        {
          "output_type": "stream",
          "name": "stderr",
          "text": [
            "<ipython-input-9-c61f0c8f89b5>:1: FutureWarning: Dropping of nuisance columns in DataFrame reductions (with 'numeric_only=None') is deprecated; in a future version this will raise TypeError.  Select only valid columns before calling the reduction.\n",
            "  df.mean()\n"
          ]
        },
        {
          "output_type": "execute_result",
          "data": {
            "text/plain": [
              "Id           10.50\n",
              "Age          37.05\n",
              "Income    33357.10\n",
              "dtype: float64"
            ]
          },
          "metadata": {},
          "execution_count": 9
        }
      ]
    },
    {
      "cell_type": "markdown",
      "source": [
        "Mode"
      ],
      "metadata": {
        "id": "PAIfrHWmQ-Qr"
      }
    },
    {
      "cell_type": "code",
      "source": [
        "df.mode()"
      ],
      "metadata": {
        "colab": {
          "base_uri": "https://localhost:8080/",
          "height": 677
        },
        "id": "b7ODzVyx5krV",
        "outputId": "c51246d5-a379-47fa-8d86-a975aec7cafb"
      },
      "execution_count": null,
      "outputs": [
        {
          "output_type": "execute_result",
          "data": {
            "text/plain": [
              "    Id   Age  Gender  Income\n",
              "0    1  20.0  Female   12759\n",
              "1    2  25.0     NaN   13090\n",
              "2    3  47.0     NaN   13450\n",
              "3    4  52.0     NaN   20716\n",
              "4    5   NaN     NaN   22186\n",
              "5    6   NaN     NaN   22922\n",
              "6    7   NaN     NaN   23325\n",
              "7    8   NaN     NaN   25264\n",
              "8    9   NaN     NaN   27345\n",
              "9   10   NaN     NaN   27505\n",
              "10  11   NaN     NaN   35561\n",
              "11  12   NaN     NaN   35889\n",
              "12  13   NaN     NaN   39376\n",
              "13  14   NaN     NaN   39863\n",
              "14  15   NaN     NaN   44106\n",
              "15  16   NaN     NaN   45948\n",
              "16  17   NaN     NaN   48299\n",
              "17  18   NaN     NaN   54843\n",
              "18  19   NaN     NaN   57279\n",
              "19  20   NaN     NaN   57416"
            ],
            "text/html": [
              "\n",
              "  <div id=\"df-824c4601-3c03-4394-b075-8e1260a2bfb5\">\n",
              "    <div class=\"colab-df-container\">\n",
              "      <div>\n",
              "<style scoped>\n",
              "    .dataframe tbody tr th:only-of-type {\n",
              "        vertical-align: middle;\n",
              "    }\n",
              "\n",
              "    .dataframe tbody tr th {\n",
              "        vertical-align: top;\n",
              "    }\n",
              "\n",
              "    .dataframe thead th {\n",
              "        text-align: right;\n",
              "    }\n",
              "</style>\n",
              "<table border=\"1\" class=\"dataframe\">\n",
              "  <thead>\n",
              "    <tr style=\"text-align: right;\">\n",
              "      <th></th>\n",
              "      <th>Id</th>\n",
              "      <th>Age</th>\n",
              "      <th>Gender</th>\n",
              "      <th>Income</th>\n",
              "    </tr>\n",
              "  </thead>\n",
              "  <tbody>\n",
              "    <tr>\n",
              "      <th>0</th>\n",
              "      <td>1</td>\n",
              "      <td>20.0</td>\n",
              "      <td>Female</td>\n",
              "      <td>12759</td>\n",
              "    </tr>\n",
              "    <tr>\n",
              "      <th>1</th>\n",
              "      <td>2</td>\n",
              "      <td>25.0</td>\n",
              "      <td>NaN</td>\n",
              "      <td>13090</td>\n",
              "    </tr>\n",
              "    <tr>\n",
              "      <th>2</th>\n",
              "      <td>3</td>\n",
              "      <td>47.0</td>\n",
              "      <td>NaN</td>\n",
              "      <td>13450</td>\n",
              "    </tr>\n",
              "    <tr>\n",
              "      <th>3</th>\n",
              "      <td>4</td>\n",
              "      <td>52.0</td>\n",
              "      <td>NaN</td>\n",
              "      <td>20716</td>\n",
              "    </tr>\n",
              "    <tr>\n",
              "      <th>4</th>\n",
              "      <td>5</td>\n",
              "      <td>NaN</td>\n",
              "      <td>NaN</td>\n",
              "      <td>22186</td>\n",
              "    </tr>\n",
              "    <tr>\n",
              "      <th>5</th>\n",
              "      <td>6</td>\n",
              "      <td>NaN</td>\n",
              "      <td>NaN</td>\n",
              "      <td>22922</td>\n",
              "    </tr>\n",
              "    <tr>\n",
              "      <th>6</th>\n",
              "      <td>7</td>\n",
              "      <td>NaN</td>\n",
              "      <td>NaN</td>\n",
              "      <td>23325</td>\n",
              "    </tr>\n",
              "    <tr>\n",
              "      <th>7</th>\n",
              "      <td>8</td>\n",
              "      <td>NaN</td>\n",
              "      <td>NaN</td>\n",
              "      <td>25264</td>\n",
              "    </tr>\n",
              "    <tr>\n",
              "      <th>8</th>\n",
              "      <td>9</td>\n",
              "      <td>NaN</td>\n",
              "      <td>NaN</td>\n",
              "      <td>27345</td>\n",
              "    </tr>\n",
              "    <tr>\n",
              "      <th>9</th>\n",
              "      <td>10</td>\n",
              "      <td>NaN</td>\n",
              "      <td>NaN</td>\n",
              "      <td>27505</td>\n",
              "    </tr>\n",
              "    <tr>\n",
              "      <th>10</th>\n",
              "      <td>11</td>\n",
              "      <td>NaN</td>\n",
              "      <td>NaN</td>\n",
              "      <td>35561</td>\n",
              "    </tr>\n",
              "    <tr>\n",
              "      <th>11</th>\n",
              "      <td>12</td>\n",
              "      <td>NaN</td>\n",
              "      <td>NaN</td>\n",
              "      <td>35889</td>\n",
              "    </tr>\n",
              "    <tr>\n",
              "      <th>12</th>\n",
              "      <td>13</td>\n",
              "      <td>NaN</td>\n",
              "      <td>NaN</td>\n",
              "      <td>39376</td>\n",
              "    </tr>\n",
              "    <tr>\n",
              "      <th>13</th>\n",
              "      <td>14</td>\n",
              "      <td>NaN</td>\n",
              "      <td>NaN</td>\n",
              "      <td>39863</td>\n",
              "    </tr>\n",
              "    <tr>\n",
              "      <th>14</th>\n",
              "      <td>15</td>\n",
              "      <td>NaN</td>\n",
              "      <td>NaN</td>\n",
              "      <td>44106</td>\n",
              "    </tr>\n",
              "    <tr>\n",
              "      <th>15</th>\n",
              "      <td>16</td>\n",
              "      <td>NaN</td>\n",
              "      <td>NaN</td>\n",
              "      <td>45948</td>\n",
              "    </tr>\n",
              "    <tr>\n",
              "      <th>16</th>\n",
              "      <td>17</td>\n",
              "      <td>NaN</td>\n",
              "      <td>NaN</td>\n",
              "      <td>48299</td>\n",
              "    </tr>\n",
              "    <tr>\n",
              "      <th>17</th>\n",
              "      <td>18</td>\n",
              "      <td>NaN</td>\n",
              "      <td>NaN</td>\n",
              "      <td>54843</td>\n",
              "    </tr>\n",
              "    <tr>\n",
              "      <th>18</th>\n",
              "      <td>19</td>\n",
              "      <td>NaN</td>\n",
              "      <td>NaN</td>\n",
              "      <td>57279</td>\n",
              "    </tr>\n",
              "    <tr>\n",
              "      <th>19</th>\n",
              "      <td>20</td>\n",
              "      <td>NaN</td>\n",
              "      <td>NaN</td>\n",
              "      <td>57416</td>\n",
              "    </tr>\n",
              "  </tbody>\n",
              "</table>\n",
              "</div>\n",
              "      <button class=\"colab-df-convert\" onclick=\"convertToInteractive('df-824c4601-3c03-4394-b075-8e1260a2bfb5')\"\n",
              "              title=\"Convert this dataframe to an interactive table.\"\n",
              "              style=\"display:none;\">\n",
              "        \n",
              "  <svg xmlns=\"http://www.w3.org/2000/svg\" height=\"24px\"viewBox=\"0 0 24 24\"\n",
              "       width=\"24px\">\n",
              "    <path d=\"M0 0h24v24H0V0z\" fill=\"none\"/>\n",
              "    <path d=\"M18.56 5.44l.94 2.06.94-2.06 2.06-.94-2.06-.94-.94-2.06-.94 2.06-2.06.94zm-11 1L8.5 8.5l.94-2.06 2.06-.94-2.06-.94L8.5 2.5l-.94 2.06-2.06.94zm10 10l.94 2.06.94-2.06 2.06-.94-2.06-.94-.94-2.06-.94 2.06-2.06.94z\"/><path d=\"M17.41 7.96l-1.37-1.37c-.4-.4-.92-.59-1.43-.59-.52 0-1.04.2-1.43.59L10.3 9.45l-7.72 7.72c-.78.78-.78 2.05 0 2.83L4 21.41c.39.39.9.59 1.41.59.51 0 1.02-.2 1.41-.59l7.78-7.78 2.81-2.81c.8-.78.8-2.07 0-2.86zM5.41 20L4 18.59l7.72-7.72 1.47 1.35L5.41 20z\"/>\n",
              "  </svg>\n",
              "      </button>\n",
              "      \n",
              "  <style>\n",
              "    .colab-df-container {\n",
              "      display:flex;\n",
              "      flex-wrap:wrap;\n",
              "      gap: 12px;\n",
              "    }\n",
              "\n",
              "    .colab-df-convert {\n",
              "      background-color: #E8F0FE;\n",
              "      border: none;\n",
              "      border-radius: 50%;\n",
              "      cursor: pointer;\n",
              "      display: none;\n",
              "      fill: #1967D2;\n",
              "      height: 32px;\n",
              "      padding: 0 0 0 0;\n",
              "      width: 32px;\n",
              "    }\n",
              "\n",
              "    .colab-df-convert:hover {\n",
              "      background-color: #E2EBFA;\n",
              "      box-shadow: 0px 1px 2px rgba(60, 64, 67, 0.3), 0px 1px 3px 1px rgba(60, 64, 67, 0.15);\n",
              "      fill: #174EA6;\n",
              "    }\n",
              "\n",
              "    [theme=dark] .colab-df-convert {\n",
              "      background-color: #3B4455;\n",
              "      fill: #D2E3FC;\n",
              "    }\n",
              "\n",
              "    [theme=dark] .colab-df-convert:hover {\n",
              "      background-color: #434B5C;\n",
              "      box-shadow: 0px 1px 3px 1px rgba(0, 0, 0, 0.15);\n",
              "      filter: drop-shadow(0px 1px 2px rgba(0, 0, 0, 0.3));\n",
              "      fill: #FFFFFF;\n",
              "    }\n",
              "  </style>\n",
              "\n",
              "      <script>\n",
              "        const buttonEl =\n",
              "          document.querySelector('#df-824c4601-3c03-4394-b075-8e1260a2bfb5 button.colab-df-convert');\n",
              "        buttonEl.style.display =\n",
              "          google.colab.kernel.accessAllowed ? 'block' : 'none';\n",
              "\n",
              "        async function convertToInteractive(key) {\n",
              "          const element = document.querySelector('#df-824c4601-3c03-4394-b075-8e1260a2bfb5');\n",
              "          const dataTable =\n",
              "            await google.colab.kernel.invokeFunction('convertToInteractive',\n",
              "                                                     [key], {});\n",
              "          if (!dataTable) return;\n",
              "\n",
              "          const docLinkHtml = 'Like what you see? Visit the ' +\n",
              "            '<a target=\"_blank\" href=https://colab.research.google.com/notebooks/data_table.ipynb>data table notebook</a>'\n",
              "            + ' to learn more about interactive tables.';\n",
              "          element.innerHTML = '';\n",
              "          dataTable['output_type'] = 'display_data';\n",
              "          await google.colab.output.renderOutput(dataTable, element);\n",
              "          const docLink = document.createElement('div');\n",
              "          docLink.innerHTML = docLinkHtml;\n",
              "          element.appendChild(docLink);\n",
              "        }\n",
              "      </script>\n",
              "    </div>\n",
              "  </div>\n",
              "  "
            ]
          },
          "metadata": {},
          "execution_count": 10
        }
      ]
    },
    {
      "cell_type": "markdown",
      "source": [
        "Median"
      ],
      "metadata": {
        "id": "t4JSt5IMRB7s"
      }
    },
    {
      "cell_type": "code",
      "source": [
        "df.median()"
      ],
      "metadata": {
        "colab": {
          "base_uri": "https://localhost:8080/"
        },
        "id": "bevzdbh85ram",
        "outputId": "27539e97-ee99-4d83-e5ef-7a0f577ee68d"
      },
      "execution_count": null,
      "outputs": [
        {
          "output_type": "stream",
          "name": "stderr",
          "text": [
            "<ipython-input-11-6d467abf240d>:1: FutureWarning: Dropping of nuisance columns in DataFrame reductions (with 'numeric_only=None') is deprecated; in a future version this will raise TypeError.  Select only valid columns before calling the reduction.\n",
            "  df.median()\n"
          ]
        },
        {
          "output_type": "execute_result",
          "data": {
            "text/plain": [
              "Id           10.5\n",
              "Age          35.5\n",
              "Income    31533.0\n",
              "dtype: float64"
            ]
          },
          "metadata": {},
          "execution_count": 11
        }
      ]
    },
    {
      "cell_type": "markdown",
      "source": [
        "std"
      ],
      "metadata": {
        "id": "FhKte10hRGt1"
      }
    },
    {
      "cell_type": "code",
      "source": [
        "df.std()"
      ],
      "metadata": {
        "colab": {
          "base_uri": "https://localhost:8080/"
        },
        "id": "ObGp4Nhf5w00",
        "outputId": "b0a6c0e3-820b-4e9d-ca11-685f4457e898"
      },
      "execution_count": null,
      "outputs": [
        {
          "output_type": "stream",
          "name": "stderr",
          "text": [
            "<ipython-input-12-ce97bb7eaef8>:1: FutureWarning: Dropping of nuisance columns in DataFrame reductions (with 'numeric_only=None') is deprecated; in a future version this will raise TypeError.  Select only valid columns before calling the reduction.\n",
            "  df.std()\n"
          ]
        },
        {
          "output_type": "execute_result",
          "data": {
            "text/plain": [
              "Id            5.916080\n",
              "Age          12.684325\n",
              "Income    14620.153815\n",
              "dtype: float64"
            ]
          },
          "metadata": {},
          "execution_count": 12
        }
      ]
    },
    {
      "cell_type": "code",
      "source": [
        "df.mean(axis=1)[0:4]"
      ],
      "metadata": {
        "colab": {
          "base_uri": "https://localhost:8080/"
        },
        "id": "GCQotmmV535R",
        "outputId": "ca0b8d3e-290c-4789-bed8-437746307323"
      },
      "execution_count": null,
      "outputs": [
        {
          "output_type": "stream",
          "name": "stderr",
          "text": [
            "<ipython-input-13-6447142f9231>:1: FutureWarning: Dropping of nuisance columns in DataFrame reductions (with 'numeric_only=None') is deprecated; in a future version this will raise TypeError.  Select only valid columns before calling the reduction.\n",
            "  df.mean(axis=1)[0:4]\n"
          ]
        },
        {
          "output_type": "execute_result",
          "data": {
            "text/plain": [
              "0     7658.333333\n",
              "1    15323.666667\n",
              "2     4261.666667\n",
              "3     7408.333333\n",
              "dtype: float64"
            ]
          },
          "metadata": {},
          "execution_count": 13
        }
      ]
    },
    {
      "cell_type": "markdown",
      "source": [
        "Min"
      ],
      "metadata": {
        "id": "H7kiIUqeRKmx"
      }
    },
    {
      "cell_type": "code",
      "source": [
        "df.min()"
      ],
      "metadata": {
        "colab": {
          "base_uri": "https://localhost:8080/"
        },
        "id": "ilOirzYN58lJ",
        "outputId": "fb6a4fa9-9bb9-472e-b010-c73942b3e67d"
      },
      "execution_count": null,
      "outputs": [
        {
          "output_type": "execute_result",
          "data": {
            "text/plain": [
              "Id             1\n",
              "Age           20\n",
              "Gender    Female\n",
              "Income     12759\n",
              "dtype: object"
            ]
          },
          "metadata": {},
          "execution_count": 14
        }
      ]
    },
    {
      "cell_type": "markdown",
      "source": [
        "Max"
      ],
      "metadata": {
        "id": "Iq3EfKwaRMj_"
      }
    },
    {
      "cell_type": "code",
      "source": [
        "df.max()"
      ],
      "metadata": {
        "colab": {
          "base_uri": "https://localhost:8080/"
        },
        "id": "cFaOAt156AsW",
        "outputId": "1646d7d3-ffe9-4b8e-abf1-b40a06c42343"
      },
      "execution_count": null,
      "outputs": [
        {
          "output_type": "execute_result",
          "data": {
            "text/plain": [
              "Id           20\n",
              "Age          56\n",
              "Gender     male\n",
              "Income    57416\n",
              "dtype: object"
            ]
          },
          "metadata": {},
          "execution_count": 15
        }
      ]
    },
    {
      "cell_type": "code",
      "source": [
        "df.quantile(0.25)"
      ],
      "metadata": {
        "colab": {
          "base_uri": "https://localhost:8080/"
        },
        "id": "MrgHZ2y36Ft7",
        "outputId": "1a0e78ac-16a0-4805-b38b-58705387b95f"
      },
      "execution_count": null,
      "outputs": [
        {
          "output_type": "execute_result",
          "data": {
            "text/plain": [
              "Id            5.75\n",
              "Age          25.00\n",
              "Income    22738.00\n",
              "Name: 0.25, dtype: float64"
            ]
          },
          "metadata": {},
          "execution_count": 16
        }
      ]
    },
    {
      "cell_type": "code",
      "source": [
        "df.quantile(0.50)"
      ],
      "metadata": {
        "colab": {
          "base_uri": "https://localhost:8080/"
        },
        "id": "vzZtJqSI6M9R",
        "outputId": "4dc351cb-da59-4656-c549-6a6060364f3c"
      },
      "execution_count": null,
      "outputs": [
        {
          "output_type": "execute_result",
          "data": {
            "text/plain": [
              "Id           10.5\n",
              "Age          35.5\n",
              "Income    31533.0\n",
              "Name: 0.5, dtype: float64"
            ]
          },
          "metadata": {},
          "execution_count": 17
        }
      ]
    },
    {
      "cell_type": "code",
      "source": [
        "df.quantile(0.75)"
      ],
      "metadata": {
        "colab": {
          "base_uri": "https://localhost:8080/"
        },
        "id": "LnlBxzbs6S0V",
        "outputId": "f3fa1e62-35c6-47af-9cf5-373b8af4a4b6"
      },
      "execution_count": null,
      "outputs": [
        {
          "output_type": "execute_result",
          "data": {
            "text/plain": [
              "Id           15.25\n",
              "Age          48.75\n",
              "Income    44566.50\n",
              "Name: 0.75, dtype: float64"
            ]
          },
          "metadata": {},
          "execution_count": 18
        }
      ]
    },
    {
      "cell_type": "markdown",
      "source": [
        "Summary statistics of income grouped by the age groups"
      ],
      "metadata": {
        "id": "2nuY9Xix6ajv"
      }
    },
    {
      "cell_type": "markdown",
      "source": [
        "Groupby"
      ],
      "metadata": {
        "id": "aOUZl4GcRRj1"
      }
    },
    {
      "cell_type": "code",
      "source": [
        "df.groupby(['Gender'])['Age'].mean()"
      ],
      "metadata": {
        "colab": {
          "base_uri": "https://localhost:8080/"
        },
        "id": "DyDv2RsD6fNY",
        "outputId": "6fa6ddde-4a2d-49b1-99ab-1a30cce0847e"
      },
      "execution_count": null,
      "outputs": [
        {
          "output_type": "execute_result",
          "data": {
            "text/plain": [
              "Gender\n",
              "Female    38.8\n",
              "male      31.8\n",
              "Name: Age, dtype: float64"
            ]
          },
          "metadata": {},
          "execution_count": 20
        }
      ]
    },
    {
      "cell_type": "code",
      "source": [
        "df.groupby(['Gender'])['Income'].mean()"
      ],
      "metadata": {
        "colab": {
          "base_uri": "https://localhost:8080/"
        },
        "id": "wKETctP36zAV",
        "outputId": "d294144a-5b68-4c67-9de6-8432ee5544e6"
      },
      "execution_count": null,
      "outputs": [
        {
          "output_type": "execute_result",
          "data": {
            "text/plain": [
              "Gender\n",
              "Female    31193.733333\n",
              "male      39847.200000\n",
              "Name: Income, dtype: float64"
            ]
          },
          "metadata": {},
          "execution_count": 21
        }
      ]
    }
  ]
}