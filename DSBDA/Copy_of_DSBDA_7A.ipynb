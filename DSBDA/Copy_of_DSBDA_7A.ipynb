{
  "nbformat": 4,
  "nbformat_minor": 0,
  "metadata": {
    "colab": {
      "provenance": []
    },
    "kernelspec": {
      "name": "python3",
      "display_name": "Python 3"
    },
    "language_info": {
      "name": "python"
    }
  },
  "cells": [
    {
      "cell_type": "markdown",
      "source": [
        "# **Text Analytics**"
      ],
      "metadata": {
        "id": "L1-o6EbvY4Xy"
      }
    },
    {
      "cell_type": "markdown",
      "source": [
        "**1. Understanding the Problem Statement**"
      ],
      "metadata": {
        "id": "UDwYmCpSZBZI"
      }
    },
    {
      "cell_type": "markdown",
      "source": [
        "1. Extract Sample document and apply following document preprocessing methods:\n",
        "Tokenization, POS Tagging, stop words removal, Stemming and Lemmatization.\n",
        "2. Create representation of document by calculating Term Frequency and Inverse Document\n",
        "Frequency."
      ],
      "metadata": {
        "id": "POolzxI0ZAF9"
      }
    },
    {
      "cell_type": "code",
      "execution_count": null,
      "metadata": {
        "colab": {
          "base_uri": "https://localhost:8080/"
        },
        "id": "2dmyhOSLOhKq",
        "outputId": "e8c7c46b-8605-475b-8b61-df355d0080af"
      },
      "outputs": [
        {
          "output_type": "stream",
          "name": "stdout",
          "text": [
            "Looking in indexes: https://pypi.org/simple, https://us-python.pkg.dev/colab-wheels/public/simple/\n",
            "Requirement already satisfied: nltk in /usr/local/lib/python3.9/dist-packages (3.8.1)\n",
            "Requirement already satisfied: regex>=2021.8.3 in /usr/local/lib/python3.9/dist-packages (from nltk) (2022.10.31)\n",
            "Requirement already satisfied: click in /usr/local/lib/python3.9/dist-packages (from nltk) (8.1.3)\n",
            "Requirement already satisfied: joblib in /usr/local/lib/python3.9/dist-packages (from nltk) (1.2.0)\n",
            "Requirement already satisfied: tqdm in /usr/local/lib/python3.9/dist-packages (from nltk) (4.65.0)\n"
          ]
        }
      ],
      "source": [
        "pip install nltk"
      ]
    },
    {
      "cell_type": "code",
      "source": [
        "import nltk"
      ],
      "metadata": {
        "id": "M4bchkFRPCZ1"
      },
      "execution_count": null,
      "outputs": []
    },
    {
      "cell_type": "markdown",
      "source": [
        "**Download the required packages**"
      ],
      "metadata": {
        "id": "ZYpQdRbUPHgc"
      }
    },
    {
      "cell_type": "code",
      "source": [
        "nltk.download('punkt')\n",
        "nltk.download('stopwords')\n",
        "nltk.download('wordnet')\n",
        "nltk.download('averaged_perceptron_tagger')"
      ],
      "metadata": {
        "colab": {
          "base_uri": "https://localhost:8080/"
        },
        "id": "OaXTGhFjPIqw",
        "outputId": "6c9f6c7c-5c88-4ce7-911a-e8c01a0e28be"
      },
      "execution_count": null,
      "outputs": [
        {
          "output_type": "stream",
          "name": "stderr",
          "text": [
            "[nltk_data] Downloading package punkt to /root/nltk_data...\n",
            "[nltk_data]   Unzipping tokenizers/punkt.zip.\n",
            "[nltk_data] Downloading package stopwords to /root/nltk_data...\n",
            "[nltk_data]   Unzipping corpora/stopwords.zip.\n",
            "[nltk_data] Downloading package wordnet to /root/nltk_data...\n",
            "[nltk_data] Downloading package averaged_perceptron_tagger to\n",
            "[nltk_data]     /root/nltk_data...\n",
            "[nltk_data]   Unzipping taggers/averaged_perceptron_tagger.zip.\n"
          ]
        },
        {
          "output_type": "execute_result",
          "data": {
            "text/plain": [
              "True"
            ]
          },
          "metadata": {},
          "execution_count": 3
        }
      ]
    },
    {
      "cell_type": "markdown",
      "source": [
        "**Initialize the text**"
      ],
      "metadata": {
        "id": "JwxfVU4tPPrX"
      }
    },
    {
      "cell_type": "code",
      "source": [
        "text= \"Tokenization is the first step in text analytics The process of breaking down a text paragraph into smaller chunkssuch as words or sentences is called Tokenization.\""
      ],
      "metadata": {
        "id": "BuBMVx8LPQjL"
      },
      "execution_count": null,
      "outputs": []
    },
    {
      "cell_type": "markdown",
      "source": [
        "**Perform Tokenization**"
      ],
      "metadata": {
        "id": "zIm1EdTePaGv"
      }
    },
    {
      "cell_type": "code",
      "source": [
        "#Sentence Tokenization\n",
        "from nltk.tokenize import sent_tokenize\n",
        "tokenized_text= sent_tokenize(text)\n",
        "print(tokenized_text)\n",
        "#Word Tokenization\n",
        "from nltk.tokenize import word_tokenize\n",
        "tokenized_word=word_tokenize(text)\n",
        "print(tokenized_word)"
      ],
      "metadata": {
        "colab": {
          "base_uri": "https://localhost:8080/"
        },
        "id": "zvnknkaPPa2K",
        "outputId": "592d6f71-ddea-47f0-9988-52b46047c2f0"
      },
      "execution_count": null,
      "outputs": [
        {
          "output_type": "stream",
          "name": "stdout",
          "text": [
            "['Tokenization is the first step in text analytics The process of breaking down a text paragraph into smaller chunkssuch as words or sentences is called Tokenization.']\n",
            "['Tokenization', 'is', 'the', 'first', 'step', 'in', 'text', 'analytics', 'The', 'process', 'of', 'breaking', 'down', 'a', 'text', 'paragraph', 'into', 'smaller', 'chunkssuch', 'as', 'words', 'or', 'sentences', 'is', 'called', 'Tokenization', '.']\n"
          ]
        }
      ]
    },
    {
      "cell_type": "code",
      "source": [
        "import re\n",
        "re.compile('<title>(.*)</title>')"
      ],
      "metadata": {
        "colab": {
          "base_uri": "https://localhost:8080/"
        },
        "id": "TLY2NOHwPhgw",
        "outputId": "5eaa587f-b8b6-441e-f7a0-8f36d1ee8af8"
      },
      "execution_count": null,
      "outputs": [
        {
          "output_type": "execute_result",
          "data": {
            "text/plain": [
              "re.compile(r'<title>(.*)</title>', re.UNICODE)"
            ]
          },
          "metadata": {},
          "execution_count": 6
        }
      ]
    },
    {
      "cell_type": "markdown",
      "source": [
        "**Removing Punctuations and Stop Word**"
      ],
      "metadata": {
        "id": "EFk9TuMmPmL-"
      }
    },
    {
      "cell_type": "code",
      "source": [
        "from nltk.sem.logic import Expression\n",
        "# print stop words of English\n",
        "from nltk.corpus import stopwords\n",
        "stop_words=set(stopwords.words(\"english\"))\n",
        "print(stop_words)\n",
        "text= \"How to remove stop words with NLTK library in Python?\"\n",
        "text= re.sub('[^a-zA-Z]', ' ',text)\n",
        "tokens = word_tokenize(text.lower())\n",
        "filtered_text=[]\n",
        "for w in tokens:\n",
        "   if w not in stop_words:\n",
        "      filtered_text.append(w)\n",
        "print(\"Tokenized Sentence:\",tokens)\n",
        "print(\"Filterd Sentence:\",filtered_text)"
      ],
      "metadata": {
        "colab": {
          "base_uri": "https://localhost:8080/"
        },
        "id": "OE1D0JE7PpG3",
        "outputId": "08339fc5-e965-43c9-f151-002cda27a44e"
      },
      "execution_count": null,
      "outputs": [
        {
          "output_type": "stream",
          "name": "stdout",
          "text": [
            "{'before', 'from', 'such', 'what', 've', 'weren', 'my', 'ain', 'nor', 'didn', 'while', \"you'll\", 'they', 'are', 'won', 'into', 'no', 'because', 'so', 'of', 'being', 'than', 'been', 'himself', 'very', 'their', 'this', 'wouldn', 'have', 'he', 'any', 'not', 'on', \"mightn't\", 'against', \"weren't\", 'few', 'd', 'whom', \"won't\", 'at', 'o', 're', 'am', 'can', 'these', \"shan't\", \"shouldn't\", 'by', 'isn', 'aren', 'herself', 'in', \"should've\", 'mightn', 'too', 'why', 'all', 'i', 'most', 'where', 'shan', 'me', 'haven', 'some', 'mustn', 'do', 'had', \"she's\", 'under', 'that', 'and', \"haven't\", 'hadn', 't', 'down', 'a', 'yourselves', 'm', 'hers', 'yourself', \"needn't\", 'doing', 'when', 'them', 'theirs', 'just', 'after', \"doesn't\", 'themselves', 'yours', 'through', 'then', 'hasn', 'was', 'those', \"that'll\", 'has', 'now', 'does', \"don't\", 'having', 'if', 'she', 'more', 'own', 'itself', 'll', 'wasn', 'who', 'we', 'there', 'or', \"hasn't\", 'up', 'out', 'couldn', 'needn', 'above', \"didn't\", 'ma', 'once', 'her', 'did', 'will', 'until', 'ourselves', 'here', 'be', 'were', 'over', 'between', 'each', 's', 'him', 'about', 'but', 'only', 'you', 'his', 'the', 'again', 'off', 'is', 'further', 'how', 'same', 'y', 'to', 'other', 'shouldn', \"wasn't\", \"you've\", \"wouldn't\", 'both', 'for', 'as', 'below', 'don', 'ours', \"it's\", 'during', \"you're\", \"couldn't\", \"mustn't\", 'our', 'myself', \"aren't\", 'with', 'an', 'its', 'which', 'your', \"you'd\", \"hadn't\", \"isn't\", 'doesn', 'it', 'should'}\n",
            "Tokenized Sentence: ['how', 'to', 'remove', 'stop', 'words', 'with', 'nltk', 'library', 'in', 'python']\n",
            "Filterd Sentence: ['remove', 'stop', 'words', 'nltk', 'library', 'python']\n"
          ]
        }
      ]
    },
    {
      "cell_type": "markdown",
      "source": [
        "**Perform Stemming**"
      ],
      "metadata": {
        "id": "hj3qibrwPvlL"
      }
    },
    {
      "cell_type": "code",
      "source": [
        "from nltk.stem import PorterStemmer\n",
        "e_words= [\"wait\", \"waiting\", \"waited\", \"waits\"]\n",
        "ps =PorterStemmer()\n",
        "for w in e_words:\n",
        "    rootWord=ps.stem(w)\n",
        "print(rootWord)"
      ],
      "metadata": {
        "colab": {
          "base_uri": "https://localhost:8080/"
        },
        "id": "rf3rgjiQPwDE",
        "outputId": "d379e73f-366d-4a00-bebe-7855fb8014ee"
      },
      "execution_count": null,
      "outputs": [
        {
          "output_type": "stream",
          "name": "stdout",
          "text": [
            "wait\n"
          ]
        }
      ]
    },
    {
      "cell_type": "markdown",
      "source": [
        "**Perform Lemmatization**"
      ],
      "metadata": {
        "id": "uQPNavYvP2LH"
      }
    },
    {
      "cell_type": "code",
      "source": [
        "from nltk.stem import WordNetLemmatizer\n",
        "wordnet_lemmatizer = WordNetLemmatizer()\n",
        "text = \"studies studying cries cry\"\n",
        "tokenization = nltk.word_tokenize(text)\n",
        "for w in tokenization:\n",
        "    print(\"Lemma for {} is {}\".format(w,\n",
        "wordnet_lemmatizer.lemmatize(w)))"
      ],
      "metadata": {
        "colab": {
          "base_uri": "https://localhost:8080/"
        },
        "id": "rcZcZQFCP3JP",
        "outputId": "22ba6ba6-45a2-4e13-e4b0-131a39aa99aa"
      },
      "execution_count": null,
      "outputs": [
        {
          "output_type": "stream",
          "name": "stdout",
          "text": [
            "Lemma for studies is study\n",
            "Lemma for studying is studying\n",
            "Lemma for cries is cry\n",
            "Lemma for cry is cry\n"
          ]
        }
      ]
    },
    {
      "cell_type": "code",
      "source": [
        "import nltk\n",
        "from nltk.tokenize import word_tokenize\n",
        "data=\"The pink sweater fit her perfectly\"\n",
        "words=word_tokenize(data)\n",
        "for word in words:\n",
        "    print(nltk.pos_tag([word]))"
      ],
      "metadata": {
        "colab": {
          "base_uri": "https://localhost:8080/"
        },
        "id": "b0B4yMJzP_A0",
        "outputId": "c8673704-3e31-440e-bea9-167f586db59f"
      },
      "execution_count": null,
      "outputs": [
        {
          "output_type": "stream",
          "name": "stdout",
          "text": [
            "[('The', 'DT')]\n",
            "[('pink', 'NN')]\n",
            "[('sweater', 'NN')]\n",
            "[('fit', 'NN')]\n",
            "[('her', 'PRP$')]\n",
            "[('perfectly', 'RB')]\n"
          ]
        }
      ]
    }
  ]
}